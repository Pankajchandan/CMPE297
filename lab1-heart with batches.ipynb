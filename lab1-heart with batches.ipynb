{
 "cells": [
  {
   "cell_type": "code",
   "execution_count": 1,
   "metadata": {
    "collapsed": true
   },
   "outputs": [],
   "source": [
    "import pandas as pd\n",
    "from sklearn import preprocessing\n",
    "from sklearn.model_selection import train_test_split\n",
    "import numpy as np\n",
    "import tensorflow as tf"
   ]
  },
  {
   "cell_type": "code",
   "execution_count": 2,
   "metadata": {
    "collapsed": true
   },
   "outputs": [],
   "source": [
    "## Read the dataset\n",
    "df = pd.read_csv(\"heart.csv\")"
   ]
  },
  {
   "cell_type": "code",
   "execution_count": 3,
   "metadata": {},
   "outputs": [
    {
     "name": "stdout",
     "output_type": "stream",
     "text": [
      "<class 'pandas.core.frame.DataFrame'>\n",
      "RangeIndex: 462 entries, 0 to 461\n",
      "Data columns (total 11 columns):\n",
      "row          462 non-null int64\n",
      "sbp          462 non-null int64\n",
      "tobacco      462 non-null float64\n",
      "ldl          462 non-null float64\n",
      "adiposity    462 non-null float64\n",
      "famhist      462 non-null object\n",
      "typea        462 non-null int64\n",
      "obesity      462 non-null float64\n",
      "alcohol      462 non-null float64\n",
      "age          462 non-null int64\n",
      "chd          462 non-null int64\n",
      "dtypes: float64(5), int64(5), object(1)\n",
      "memory usage: 39.8+ KB\n"
     ]
    }
   ],
   "source": [
    "df.info()"
   ]
  },
  {
   "cell_type": "code",
   "execution_count": 4,
   "metadata": {},
   "outputs": [
    {
     "data": {
      "text/html": [
       "<div>\n",
       "<style>\n",
       "    .dataframe thead tr:only-child th {\n",
       "        text-align: right;\n",
       "    }\n",
       "\n",
       "    .dataframe thead th {\n",
       "        text-align: left;\n",
       "    }\n",
       "\n",
       "    .dataframe tbody tr th {\n",
       "        vertical-align: top;\n",
       "    }\n",
       "</style>\n",
       "<table border=\"1\" class=\"dataframe\">\n",
       "  <thead>\n",
       "    <tr style=\"text-align: right;\">\n",
       "      <th></th>\n",
       "      <th>row</th>\n",
       "      <th>sbp</th>\n",
       "      <th>tobacco</th>\n",
       "      <th>ldl</th>\n",
       "      <th>adiposity</th>\n",
       "      <th>famhist</th>\n",
       "      <th>typea</th>\n",
       "      <th>obesity</th>\n",
       "      <th>alcohol</th>\n",
       "      <th>age</th>\n",
       "      <th>chd</th>\n",
       "    </tr>\n",
       "  </thead>\n",
       "  <tbody>\n",
       "    <tr>\n",
       "      <th>0</th>\n",
       "      <td>1</td>\n",
       "      <td>160</td>\n",
       "      <td>12.00</td>\n",
       "      <td>5.73</td>\n",
       "      <td>23.11</td>\n",
       "      <td>Present</td>\n",
       "      <td>49</td>\n",
       "      <td>25.30</td>\n",
       "      <td>97.20</td>\n",
       "      <td>52</td>\n",
       "      <td>1</td>\n",
       "    </tr>\n",
       "    <tr>\n",
       "      <th>1</th>\n",
       "      <td>2</td>\n",
       "      <td>144</td>\n",
       "      <td>0.01</td>\n",
       "      <td>4.41</td>\n",
       "      <td>28.61</td>\n",
       "      <td>Absent</td>\n",
       "      <td>55</td>\n",
       "      <td>28.87</td>\n",
       "      <td>2.06</td>\n",
       "      <td>63</td>\n",
       "      <td>1</td>\n",
       "    </tr>\n",
       "    <tr>\n",
       "      <th>2</th>\n",
       "      <td>3</td>\n",
       "      <td>118</td>\n",
       "      <td>0.08</td>\n",
       "      <td>3.48</td>\n",
       "      <td>32.28</td>\n",
       "      <td>Present</td>\n",
       "      <td>52</td>\n",
       "      <td>29.14</td>\n",
       "      <td>3.81</td>\n",
       "      <td>46</td>\n",
       "      <td>0</td>\n",
       "    </tr>\n",
       "    <tr>\n",
       "      <th>3</th>\n",
       "      <td>4</td>\n",
       "      <td>170</td>\n",
       "      <td>7.50</td>\n",
       "      <td>6.41</td>\n",
       "      <td>38.03</td>\n",
       "      <td>Present</td>\n",
       "      <td>51</td>\n",
       "      <td>31.99</td>\n",
       "      <td>24.26</td>\n",
       "      <td>58</td>\n",
       "      <td>1</td>\n",
       "    </tr>\n",
       "    <tr>\n",
       "      <th>4</th>\n",
       "      <td>5</td>\n",
       "      <td>134</td>\n",
       "      <td>13.60</td>\n",
       "      <td>3.50</td>\n",
       "      <td>27.78</td>\n",
       "      <td>Present</td>\n",
       "      <td>60</td>\n",
       "      <td>25.99</td>\n",
       "      <td>57.34</td>\n",
       "      <td>49</td>\n",
       "      <td>1</td>\n",
       "    </tr>\n",
       "  </tbody>\n",
       "</table>\n",
       "</div>"
      ],
      "text/plain": [
       "   row  sbp  tobacco   ldl  adiposity  famhist  typea  obesity  alcohol  age  \\\n",
       "0    1  160    12.00  5.73      23.11  Present     49    25.30    97.20   52   \n",
       "1    2  144     0.01  4.41      28.61   Absent     55    28.87     2.06   63   \n",
       "2    3  118     0.08  3.48      32.28  Present     52    29.14     3.81   46   \n",
       "3    4  170     7.50  6.41      38.03  Present     51    31.99    24.26   58   \n",
       "4    5  134    13.60  3.50      27.78  Present     60    25.99    57.34   49   \n",
       "\n",
       "   chd  \n",
       "0    1  \n",
       "1    1  \n",
       "2    0  \n",
       "3    1  \n",
       "4    1  "
      ]
     },
     "execution_count": 4,
     "metadata": {},
     "output_type": "execute_result"
    }
   ],
   "source": [
    "df.head()"
   ]
  },
  {
   "cell_type": "code",
   "execution_count": 5,
   "metadata": {
    "collapsed": true
   },
   "outputs": [],
   "source": [
    "##one hot encode famhist\n",
    "df1 = pd.get_dummies(df,prefix=['famhist'])"
   ]
  },
  {
   "cell_type": "code",
   "execution_count": 6,
   "metadata": {},
   "outputs": [
    {
     "data": {
      "text/html": [
       "<div>\n",
       "<style>\n",
       "    .dataframe thead tr:only-child th {\n",
       "        text-align: right;\n",
       "    }\n",
       "\n",
       "    .dataframe thead th {\n",
       "        text-align: left;\n",
       "    }\n",
       "\n",
       "    .dataframe tbody tr th {\n",
       "        vertical-align: top;\n",
       "    }\n",
       "</style>\n",
       "<table border=\"1\" class=\"dataframe\">\n",
       "  <thead>\n",
       "    <tr style=\"text-align: right;\">\n",
       "      <th></th>\n",
       "      <th>sbp</th>\n",
       "      <th>tobacco</th>\n",
       "      <th>ldl</th>\n",
       "      <th>adiposity</th>\n",
       "      <th>typea</th>\n",
       "      <th>obesity</th>\n",
       "      <th>alcohol</th>\n",
       "      <th>age</th>\n",
       "      <th>famhist_Absent</th>\n",
       "      <th>famhist_Present</th>\n",
       "    </tr>\n",
       "  </thead>\n",
       "  <tbody>\n",
       "    <tr>\n",
       "      <th>0</th>\n",
       "      <td>160</td>\n",
       "      <td>12.00</td>\n",
       "      <td>5.73</td>\n",
       "      <td>23.11</td>\n",
       "      <td>49</td>\n",
       "      <td>25.30</td>\n",
       "      <td>97.20</td>\n",
       "      <td>52</td>\n",
       "      <td>0</td>\n",
       "      <td>1</td>\n",
       "    </tr>\n",
       "    <tr>\n",
       "      <th>1</th>\n",
       "      <td>144</td>\n",
       "      <td>0.01</td>\n",
       "      <td>4.41</td>\n",
       "      <td>28.61</td>\n",
       "      <td>55</td>\n",
       "      <td>28.87</td>\n",
       "      <td>2.06</td>\n",
       "      <td>63</td>\n",
       "      <td>1</td>\n",
       "      <td>0</td>\n",
       "    </tr>\n",
       "    <tr>\n",
       "      <th>2</th>\n",
       "      <td>118</td>\n",
       "      <td>0.08</td>\n",
       "      <td>3.48</td>\n",
       "      <td>32.28</td>\n",
       "      <td>52</td>\n",
       "      <td>29.14</td>\n",
       "      <td>3.81</td>\n",
       "      <td>46</td>\n",
       "      <td>0</td>\n",
       "      <td>1</td>\n",
       "    </tr>\n",
       "    <tr>\n",
       "      <th>3</th>\n",
       "      <td>170</td>\n",
       "      <td>7.50</td>\n",
       "      <td>6.41</td>\n",
       "      <td>38.03</td>\n",
       "      <td>51</td>\n",
       "      <td>31.99</td>\n",
       "      <td>24.26</td>\n",
       "      <td>58</td>\n",
       "      <td>0</td>\n",
       "      <td>1</td>\n",
       "    </tr>\n",
       "    <tr>\n",
       "      <th>4</th>\n",
       "      <td>134</td>\n",
       "      <td>13.60</td>\n",
       "      <td>3.50</td>\n",
       "      <td>27.78</td>\n",
       "      <td>60</td>\n",
       "      <td>25.99</td>\n",
       "      <td>57.34</td>\n",
       "      <td>49</td>\n",
       "      <td>0</td>\n",
       "      <td>1</td>\n",
       "    </tr>\n",
       "  </tbody>\n",
       "</table>\n",
       "</div>"
      ],
      "text/plain": [
       "   sbp  tobacco   ldl  adiposity  typea  obesity  alcohol  age  \\\n",
       "0  160    12.00  5.73      23.11     49    25.30    97.20   52   \n",
       "1  144     0.01  4.41      28.61     55    28.87     2.06   63   \n",
       "2  118     0.08  3.48      32.28     52    29.14     3.81   46   \n",
       "3  170     7.50  6.41      38.03     51    31.99    24.26   58   \n",
       "4  134    13.60  3.50      27.78     60    25.99    57.34   49   \n",
       "\n",
       "   famhist_Absent  famhist_Present  \n",
       "0               0                1  \n",
       "1               1                0  \n",
       "2               0                1  \n",
       "3               0                1  \n",
       "4               0                1  "
      ]
     },
     "execution_count": 6,
     "metadata": {},
     "output_type": "execute_result"
    }
   ],
   "source": [
    "##drop row column and chd column as this will be our label\n",
    "df1 = df1.drop(\"row\",axis=1)\n",
    "df1 = df1.drop(\"chd\",axis=1)\n",
    "df1.head()"
   ]
  },
  {
   "cell_type": "code",
   "execution_count": 7,
   "metadata": {
    "collapsed": true
   },
   "outputs": [],
   "source": [
    "##lets store attributes from sbp to age in a buffer dataframe\n",
    "df_buf = df1.loc[:,:\"age\"]\n",
    "##normalize attributes from sbp to age\n",
    "df_norm = (df_buf - df_buf.mean()) / (df_buf.max() - df_buf.min())\n",
    "##add famhist column\n",
    "df_norm[\"famhist_Absent\"] = df1[\"famhist_Absent\"]\n",
    "df_norm[\"famhist_Present\"] = df1[\"famhist_Present\"]"
   ]
  },
  {
   "cell_type": "code",
   "execution_count": 8,
   "metadata": {},
   "outputs": [
    {
     "data": {
      "text/html": [
       "<div>\n",
       "<style>\n",
       "    .dataframe thead tr:only-child th {\n",
       "        text-align: right;\n",
       "    }\n",
       "\n",
       "    .dataframe thead th {\n",
       "        text-align: left;\n",
       "    }\n",
       "\n",
       "    .dataframe tbody tr th {\n",
       "        vertical-align: top;\n",
       "    }\n",
       "</style>\n",
       "<table border=\"1\" class=\"dataframe\">\n",
       "  <thead>\n",
       "    <tr style=\"text-align: right;\">\n",
       "      <th></th>\n",
       "      <th>sbp</th>\n",
       "      <th>tobacco</th>\n",
       "      <th>ldl</th>\n",
       "      <th>adiposity</th>\n",
       "      <th>typea</th>\n",
       "      <th>obesity</th>\n",
       "      <th>alcohol</th>\n",
       "      <th>age</th>\n",
       "      <th>famhist_Absent</th>\n",
       "      <th>famhist_Present</th>\n",
       "    </tr>\n",
       "  </thead>\n",
       "  <tbody>\n",
       "    <tr>\n",
       "      <th>0</th>\n",
       "      <td>0.185241</td>\n",
       "      <td>0.268088</td>\n",
       "      <td>0.068967</td>\n",
       "      <td>-0.064244</td>\n",
       "      <td>-0.063137</td>\n",
       "      <td>-0.023341</td>\n",
       "      <td>0.544572</td>\n",
       "      <td>0.187428</td>\n",
       "      <td>0</td>\n",
       "      <td>1</td>\n",
       "    </tr>\n",
       "    <tr>\n",
       "      <th>1</th>\n",
       "      <td>0.048489</td>\n",
       "      <td>-0.116207</td>\n",
       "      <td>-0.023019</td>\n",
       "      <td>0.089602</td>\n",
       "      <td>0.029171</td>\n",
       "      <td>0.088641</td>\n",
       "      <td>-0.101803</td>\n",
       "      <td>0.411918</td>\n",
       "      <td>1</td>\n",
       "      <td>0</td>\n",
       "    </tr>\n",
       "    <tr>\n",
       "      <th>2</th>\n",
       "      <td>-0.173734</td>\n",
       "      <td>-0.113963</td>\n",
       "      <td>-0.087828</td>\n",
       "      <td>0.192259</td>\n",
       "      <td>-0.016983</td>\n",
       "      <td>0.097111</td>\n",
       "      <td>-0.089914</td>\n",
       "      <td>0.064979</td>\n",
       "      <td>0</td>\n",
       "      <td>1</td>\n",
       "    </tr>\n",
       "    <tr>\n",
       "      <th>3</th>\n",
       "      <td>0.270711</td>\n",
       "      <td>0.123857</td>\n",
       "      <td>0.116354</td>\n",
       "      <td>0.353098</td>\n",
       "      <td>-0.032368</td>\n",
       "      <td>0.186508</td>\n",
       "      <td>0.049022</td>\n",
       "      <td>0.309877</td>\n",
       "      <td>0</td>\n",
       "      <td>1</td>\n",
       "    </tr>\n",
       "    <tr>\n",
       "      <th>4</th>\n",
       "      <td>-0.036982</td>\n",
       "      <td>0.319370</td>\n",
       "      <td>-0.086434</td>\n",
       "      <td>0.066385</td>\n",
       "      <td>0.106094</td>\n",
       "      <td>-0.001697</td>\n",
       "      <td>0.273766</td>\n",
       "      <td>0.126204</td>\n",
       "      <td>0</td>\n",
       "      <td>1</td>\n",
       "    </tr>\n",
       "  </tbody>\n",
       "</table>\n",
       "</div>"
      ],
      "text/plain": [
       "        sbp   tobacco       ldl  adiposity     typea   obesity   alcohol  \\\n",
       "0  0.185241  0.268088  0.068967  -0.064244 -0.063137 -0.023341  0.544572   \n",
       "1  0.048489 -0.116207 -0.023019   0.089602  0.029171  0.088641 -0.101803   \n",
       "2 -0.173734 -0.113963 -0.087828   0.192259 -0.016983  0.097111 -0.089914   \n",
       "3  0.270711  0.123857  0.116354   0.353098 -0.032368  0.186508  0.049022   \n",
       "4 -0.036982  0.319370 -0.086434   0.066385  0.106094 -0.001697  0.273766   \n",
       "\n",
       "        age  famhist_Absent  famhist_Present  \n",
       "0  0.187428               0                1  \n",
       "1  0.411918               1                0  \n",
       "2  0.064979               0                1  \n",
       "3  0.309877               0                1  \n",
       "4  0.126204               0                1  "
      ]
     },
     "execution_count": 8,
     "metadata": {},
     "output_type": "execute_result"
    }
   ],
   "source": [
    "##this is how the normalized input looks like now\n",
    "df_norm.head()"
   ]
  },
  {
   "cell_type": "code",
   "execution_count": 9,
   "metadata": {
    "collapsed": true
   },
   "outputs": [],
   "source": [
    "##df_data is our input space\n",
    "df_data = df_norm\n",
    "\n",
    "##df_label is our output space\n",
    "df_label = np.array(df[\"chd\"])\n",
    "\n",
    "##one hot encode the output_space\n",
    "nb_classes = 2\n",
    "df_label = np.eye(nb_classes)[df_label]\n",
    "\n",
    "##split into test and train dataset\n",
    "data_train, data_test, label_train, label_test = train_test_split(df_data, df_label, test_size=0.2, random_state=42)"
   ]
  },
  {
   "cell_type": "code",
   "execution_count": 10,
   "metadata": {},
   "outputs": [
    {
     "name": "stdout",
     "output_type": "stream",
     "text": [
      "(369, 10)\n",
      "(369, 2)\n",
      "(93, 10)\n",
      "(93, 2)\n"
     ]
    }
   ],
   "source": [
    "##lets check the shape of our data space\n",
    "print(data_train.shape)\n",
    "print(label_train.shape)\n",
    "print(data_test.shape)\n",
    "print(label_test.shape)"
   ]
  },
  {
   "cell_type": "code",
   "execution_count": 11,
   "metadata": {
    "collapsed": true
   },
   "outputs": [],
   "source": [
    "# define parameters for training\n",
    "learning_rate = 0.1\n",
    "training_epochs = 500\n",
    "batch_size = 9\n",
    "display_step = 50\n",
    "input_size = data_train.shape[1] ##this is the number of input features\n",
    "output_size = label_train.shape[1] ##number of output columns"
   ]
  },
  {
   "cell_type": "code",
   "execution_count": 12,
   "metadata": {
    "collapsed": true
   },
   "outputs": [],
   "source": [
    "# tf Graph Input\n",
    "x = tf.placeholder(tf.float32, [None, input_size]) \n",
    "y = tf.placeholder(tf.float32, [None, output_size])\n",
    "\n",
    "# Set model weight and bias\n",
    "W = tf.Variable(tf.random_normal([input_size,output_size],mean=0.0,stddev=10.0, dtype=tf.float32))\n",
    "b = tf.Variable(tf.random_normal([output_size],mean=0.0,stddev=10.0, dtype=tf.float32))"
   ]
  },
  {
   "cell_type": "code",
   "execution_count": 13,
   "metadata": {
    "collapsed": true
   },
   "outputs": [],
   "source": [
    "# Construct model\n",
    "logits = tf.matmul(x, W) + b ##this is linear regression\n",
    "pred = tf.nn.softmax(logits) # Softmax\n",
    "\n",
    "#cross entropy error\n",
    "cost = tf.reduce_mean(tf.nn.softmax_cross_entropy_with_logits(logits=logits, labels=y))\n",
    "\n",
    "##adam optimizer\n",
    "optimizer =  tf.train.AdamOptimizer(learning_rate).minimize(cost) "
   ]
  },
  {
   "cell_type": "code",
   "execution_count": 14,
   "metadata": {
    "collapsed": true
   },
   "outputs": [],
   "source": [
    "# no of correct prediction\n",
    "correct_prediction = tf.equal(tf.argmax(pred, 1), tf.argmax(y, 1))\n",
    "\n",
    "# Calculate accuracy\n",
    "accuracy = tf.reduce_mean(tf.cast(correct_prediction, tf.float32))"
   ]
  },
  {
   "cell_type": "code",
   "execution_count": 15,
   "metadata": {
    "collapsed": true
   },
   "outputs": [],
   "source": [
    "# Initialize the variables (i.e. assign their default value)\n",
    "init = tf.global_variables_initializer()"
   ]
  },
  {
   "cell_type": "code",
   "execution_count": 16,
   "metadata": {
    "scrolled": false
   },
   "outputs": [
    {
     "name": "stdout",
     "output_type": "stream",
     "text": [
      "Epoch: 0001 cost= 4.542205274\n",
      "accuracy on train set:  0.615176\n",
      "Epoch: 0051 cost= 0.508624372\n",
      "accuracy on train set:  0.707317\n",
      "Epoch: 0101 cost= 0.509459285\n",
      "accuracy on train set:  0.707317\n",
      "Epoch: 0151 cost= 0.509544695\n",
      "accuracy on train set:  0.707317\n",
      "Epoch: 0201 cost= 0.509554458\n",
      "accuracy on train set:  0.707317\n",
      "Epoch: 0251 cost= 0.509555562\n",
      "accuracy on train set:  0.707317\n",
      "Epoch: 0301 cost= 0.509555828\n",
      "accuracy on train set:  0.707317\n",
      "Epoch: 0351 cost= 0.509555818\n",
      "accuracy on train set:  0.707317\n",
      "Epoch: 0401 cost= 0.509555855\n",
      "accuracy on train set:  0.707317\n",
      "Epoch: 0451 cost= 0.509555863\n",
      "accuracy on train set:  0.707317\n",
      "Epoch: 0500 cost= 0.509555864\n",
      "accuracy on train set:  0.707317\n",
      "Optimization Finished!\n"
     ]
    }
   ],
   "source": [
    "sess1 = tf.Session()\n",
    "# Run the initializer\n",
    "sess1.run(init)\n",
    "\n",
    "accuracy_list = []\n",
    "cost_list = []\n",
    "# Training cycle\n",
    "for epoch in range(training_epochs):\n",
    "    avg_cost = 0.\n",
    "    total_batch = int(data_train.shape[0]/batch_size)\n",
    "    \n",
    "    ##batch training \n",
    "    for i in range(total_batch):\n",
    "        ##take the batches\n",
    "        data_batch = data_train[(i*3):((i*3)+3)]\n",
    "        label_batch = label_train[(i*3):((i*3)+3)]\n",
    "        # Run optimization op (backprop) and cost op (to get loss value)\n",
    "        _, c = sess1.run([optimizer, cost], feed_dict={x: data_batch, y: label_batch})\n",
    "        # Compute average loss\n",
    "        avg_cost += c / total_batch\n",
    "        #calculate accuracy on train set\n",
    "    \n",
    "    # store c and acc\n",
    "    acc = sess1.run(accuracy,feed_dict = {x: data_train, y: label_train})\n",
    "    accuracy_list.append(acc)\n",
    "    cost_list.append(avg_cost)\n",
    "    \n",
    "    # Display logs per epoch step\n",
    "    if (epoch) % display_step == 0 or epoch == training_epochs-1:\n",
    "        print(\"Epoch:\", '%04d' % (epoch+1), \"cost=\", \"{:.9f}\".format(avg_cost))\n",
    "        print (\"accuracy on train set: \",acc)\n",
    "\n",
    "print(\"Optimization Finished!\")"
   ]
  },
  {
   "cell_type": "code",
   "execution_count": 17,
   "metadata": {},
   "outputs": [
    {
     "data": {
      "image/png": "[encoded data removed]",
      "text/plain": [
       "<matplotlib.figure.Figure at 0x7f8f9d444f98>"
      ]
     },
     "metadata": {},
     "output_type": "display_data"
    }
   ],
   "source": [
    "## lets check when our model converged\n",
    "import matplotlib.pyplot as plt\n",
    "fig,ax = plt.subplots(1)\n",
    "\n",
    "Xaxis = [i for i in range(training_epochs)]\n",
    "ax.plot(Xaxis,cost_list)\n",
    "plt.title(\"cost VS epochs graph\")\n",
    "plt.show()"
   ]
  },
  {
   "cell_type": "code",
   "execution_count": 18,
   "metadata": {},
   "outputs": [
    {
     "data": {
      "image/png": "[encoded data removed]",
      "text/plain": [
       "<matplotlib.figure.Figure at 0x7f8f9d444a20>"
      ]
     },
     "metadata": {},
     "output_type": "display_data"
    }
   ],
   "source": [
    "## plot epoch vs vs accuracy graph\n",
    "fig,ax = plt.subplots(1)\n",
    "ax.plot(Xaxis,accuracy_list)\n",
    "plt.title(\"accuracy VS epoch graph\")\n",
    "plt.show()"
   ]
  },
  {
   "cell_type": "code",
   "execution_count": 19,
   "metadata": {},
   "outputs": [
    {
     "name": "stdout",
     "output_type": "stream",
     "text": [
      "accuracy on test set:  0.763441\n"
     ]
    }
   ],
   "source": [
    "##run it on test Set and check the accuracy\n",
    "prd = sess1.run(pred,feed_dict = {x: data_test, y: label_test})\n",
    "acc1 = sess1.run(accuracy,feed_dict = {x: data_test, y: label_test})\n",
    "print (\"accuracy on test set: \",acc1)"
   ]
  },
  {
   "cell_type": "code",
   "execution_count": null,
   "metadata": {
    "collapsed": true
   },
   "outputs": [],
   "source": []
  }
 ],
 "metadata": {
  "kernelspec": {
   "display_name": "Python 3",
   "language": "python",
   "name": "python3"
  },
  "language_info": {
   "codemirror_mode": {
    "name": "ipython",
    "version": 3
   },
   "file_extension": ".py",
   "mimetype": "text/x-python",
   "name": "python",
   "nbconvert_exporter": "python",
   "pygments_lexer": "ipython3",
   "version": "3.5.2"
  }
 },
 "nbformat": 4,
 "nbformat_minor": 2
}
