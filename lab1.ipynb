{
 "cells": [
  {
   "cell_type": "markdown",
   "metadata": {},
   "source": [
    "### Improving the accuracy of the MNISTmodel."
   ]
  },
  {
   "cell_type": "code",
   "execution_count": 1,
   "metadata": {
    "collapsed": true
   },
   "outputs": [],
   "source": [
    "import tensorflow as tf"
   ]
  },
  {
   "cell_type": "code",
   "execution_count": 2,
   "metadata": {},
   "outputs": [
    {
     "name": "stdout",
     "output_type": "stream",
     "text": [
      "Extracting /tmp/data/train-images-idx3-ubyte.gz\n",
      "Extracting /tmp/data/train-labels-idx1-ubyte.gz\n",
      "Extracting /tmp/data/t10k-images-idx3-ubyte.gz\n",
      "Extracting /tmp/data/t10k-labels-idx1-ubyte.gz\n"
     ]
    }
   ],
   "source": [
    "# Import MNIST data\n",
    "from tensorflow.examples.tutorials.mnist import input_data\n",
    "mnist = input_data.read_data_sets(\"/tmp/data/\", one_hot=True)"
   ]
  },
  {
   "cell_type": "code",
   "execution_count": 76,
   "metadata": {
    "collapsed": true
   },
   "outputs": [],
   "source": [
    "# Parameters\n",
    "learning_rate = 1e-10\n",
    "training_epochs = 5\n",
    "batch_size = 100\n",
    "display_step = 1\n",
    "input_size = 784\n",
    "output_size = 10"
   ]
  },
  {
   "cell_type": "code",
   "execution_count": 4,
   "metadata": {
    "collapsed": true
   },
   "outputs": [],
   "source": [
    "# tf Graph Input\n",
    "x = tf.placeholder(tf.float32, [None, input_size]) # mnist data image of shape 28*28=784\n",
    "y = tf.placeholder(tf.float32, [None, output_size]) # 0-9 digits recognition => 10 classes\n",
    "\n",
    "# Set model weights\n",
    "#W = tf.Variable(tf.random_normal([input_size,output_size],mean=0.0,stddev=1.0, dtype=tf.float32))\n",
    "#b = tf.Variable(tf.random_normal([output_size],mean=0.0,stddev=1.0, dtype=tf.float32))"
   ]
  },
  {
   "cell_type": "code",
   "execution_count": 63,
   "metadata": {},
   "outputs": [
    {
     "name": "stdout",
     "output_type": "stream",
     "text": [
      "[None, 512]\n"
     ]
    }
   ],
   "source": [
    "dimensions = [512]\n",
    "current_input = x\n",
    "n_input = input_size\n",
    "\n",
    "# We're going to keep every matrix we create so let's create a list to hold them all\n",
    "Ws = []\n",
    "\n",
    "# We'll create a for loop to create each layer:\n",
    "for layer_i, n_output in enumerate(dimensions):\n",
    "\n",
    "    # just like in the last session,\n",
    "    # we'll use a variable scope to help encapsulate our variables\n",
    "    # This will simply prefix all the variables made in this scope\n",
    "    # with the name we give it.\n",
    "    with tf.variable_scope(\"FC/layer/{}\".format(layer_i),reuse=True):\n",
    "\n",
    "        # Create a weight matrix which will increasingly reduce\n",
    "        # down the amount of information in the input by performing\n",
    "        # a matrix multiplication\n",
    "        W = tf.get_variable(\n",
    "            name='W',\n",
    "            shape=[n_input, n_output],\n",
    "            initializer=tf.random_normal_initializer(mean=0.0, stddev=0.02))\n",
    "        \n",
    "        B = tf.get_variable(\n",
    "            name='B',\n",
    "            shape=[n_output],\n",
    "            initializer=tf.random_normal_initializer(mean=0.0, stddev=0.02))\n",
    "        \n",
    "\n",
    "        # Now we'll multiply our input by our newly created W matrix\n",
    "        # and add the bias\n",
    "        H = tf.nn.bias_add(\n",
    "            name='H',\n",
    "            value=tf.matmul(current_input, W),\n",
    "            bias=B)\n",
    "\n",
    "        # And then use a relu activation function on its output\n",
    "        H  = tf.nn.relu(H)\n",
    "        \n",
    "        #add a dropout layer\n",
    "        current_input = tf.nn.dropout(H,0.8)\n",
    "\n",
    "        # Finally we'll store the weight matrix so we can build the decoder.\n",
    "        Ws.append(W)\n",
    "\n",
    "        # We'll also replace n_input with the current n_output, so that on the\n",
    "        # next iteration, our new number inputs will be correct.\n",
    "        n_input = n_output\n",
    "        \n",
    "        print(current_input.get_shape().as_list())"
   ]
  },
  {
   "cell_type": "code",
   "execution_count": 69,
   "metadata": {},
   "outputs": [
    {
     "name": "stdout",
     "output_type": "stream",
     "text": [
      "[None, 10]\n"
     ]
    }
   ],
   "source": [
    "## we have our final layer\n",
    "with tf.variable_scope(\"FC\", reuse=True):\n",
    "    Wfinal = tf.get_variable(\n",
    "            name='Wfinal',\n",
    "            shape=[dimensions[-1], output_size],\n",
    "            initializer=tf.random_normal_initializer(mean=0.0, stddev=0.02))\n",
    "\n",
    "    Bfinal = tf.get_variable(\n",
    "            name='Bfinal',\n",
    "            shape=[output_size],\n",
    "            initializer=tf.random_normal_initializer(mean=0.0, stddev=0.02))\n",
    "\n",
    "    Hfinal = tf.nn.bias_add(\n",
    "            name='Hfinal',\n",
    "            value=tf.matmul(current_input, Wfinal),\n",
    "            bias=Bfinal)\n",
    "    \n",
    "    #Hfinal = tf.nn.dropout(Hfinal,0.8)\n",
    " \n",
    "    pred = tf.nn.softmax(Hfinal) # Softmax \n",
    "\n",
    "print(pred.get_shape().as_list())"
   ]
  },
  {
   "cell_type": "code",
   "execution_count": 70,
   "metadata": {},
   "outputs": [],
   "source": [
    "with tf.variable_scope(\"FC\", reuse=True):\n",
    "    #mean square error\n",
    "    cost = tf.reduce_mean(-tf.reduce_sum(y * tf.log(pred + 1e-12)))\n",
    "\n",
    "    #adamoptimizer\n",
    "    optimizer =  tf.train.AdamOptimizer(learning_rate).minimize(cost) "
   ]
  },
  {
   "cell_type": "code",
   "execution_count": 71,
   "metadata": {
    "collapsed": true
   },
   "outputs": [],
   "source": [
    "# Initialize the variables (i.e. assign their default value)\n",
    "init = tf.global_variables_initializer()"
   ]
  },
  {
   "cell_type": "code",
   "execution_count": 72,
   "metadata": {
    "collapsed": true
   },
   "outputs": [],
   "source": [
    "# no of correct prediction\n",
    "correct_prediction = tf.equal(tf.argmax(pred, 1), tf.argmax(y, 1))\n",
    "# Calculate accuracy\n",
    "accuracy = tf.reduce_mean(tf.cast(correct_prediction, tf.float32))"
   ]
  },
  {
   "cell_type": "code",
   "execution_count": 77,
   "metadata": {},
   "outputs": [
    {
     "name": "stdout",
     "output_type": "stream",
     "text": [
      "Epoch: 0001 cost=  25.423209375\n",
      "accuracy =  0.93\n",
      "Epoch: 0002 cost=  16.7542151945\n",
      "accuracy =  0.99\n",
      "Epoch: 0003 cost=  14.8089696351\n",
      "accuracy =  0.98\n",
      "Epoch: 0004 cost=  13.2353006083\n",
      "accuracy =  0.99\n",
      "Epoch: 0005 cost=  13.0790489027\n",
      "accuracy =  0.98\n",
      "Optimization Finished!\n"
     ]
    }
   ],
   "source": [
    "sess = tf.Session()\n",
    "# Run the initializer\n",
    "sess.run(init)\n",
    "\n",
    "# Training cycle\n",
    "for epoch in range(training_epochs):\n",
    "    avg_cost = 0.\n",
    "    total_batch = int(mnist.train.num_examples/batch_size)\n",
    "    # Loop over all batches\n",
    "    for i in range(total_batch):\n",
    "        batch_xs, batch_ys = mnist.train.next_batch(batch_size)\n",
    "        # Run optimization op (backprop) and cost op (to get loss value)\n",
    "        _, c = sess.run([optimizer, cost], feed_dict={x: batch_xs,\n",
    "                                                          y: batch_ys})\n",
    "        # Compute average loss\n",
    "        avg_cost += c / total_batch\n",
    "    # Display logs per epoch step\n",
    "    if (epoch+1) % display_step == 0:\n",
    "        print(\"Epoch:\", '%04d' % (epoch+1), \"cost= \",(avg_cost))\n",
    "        acc = sess.run(accuracy,feed_dict = {x: batch_xs, y: batch_ys})\n",
    "        print (\"accuracy = \",acc)\n",
    "        ##print(\"Accuracy:\", acc.eval(sesion = sess))\n",
    "\n",
    "print(\"Optimization Finished!\")"
   ]
  },
  {
   "cell_type": "code",
   "execution_count": 78,
   "metadata": {},
   "outputs": [
    {
     "name": "stdout",
     "output_type": "stream",
     "text": [
      "accuracy on test set:  0.9596\n"
     ]
    }
   ],
   "source": [
    "##run it on test Set\n",
    "prd = sess.run(pred,feed_dict = {x: mnist.test.images, y: mnist.test.labels})\n",
    "acc1 = sess.run(accuracy,feed_dict = {x: mnist.test.images, y: mnist.test.labels})\n",
    "print (\"accuracy on test set: \",acc1)"
   ]
  }
 ],
 "metadata": {
  "kernelspec": {
   "display_name": "Python 3",
   "language": "python",
   "name": "python3"
  },
  "language_info": {
   "codemirror_mode": {
    "name": "ipython",
    "version": 3
   },
   "file_extension": ".py",
   "mimetype": "text/x-python",
   "name": "python",
   "nbconvert_exporter": "python",
   "pygments_lexer": "ipython3",
   "version": "3.5.2"
  }
 },
 "nbformat": 4,
 "nbformat_minor": 2
}
