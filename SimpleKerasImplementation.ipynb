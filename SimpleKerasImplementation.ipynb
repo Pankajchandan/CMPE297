{
 "cells": [
  {
   "cell_type": "markdown",
   "metadata": {},
   "source": [
    "# Data Preprocessing\n",
    "Importing the libraries"
   ]
  },
  {
   "cell_type": "code",
   "execution_count": 35,
   "metadata": {
    "collapsed": true
   },
   "outputs": [],
   "source": [
    "import numpy as np\n",
    "import matplotlib.pyplot as plt\n",
    "import pandas as pd"
   ]
  },
  {
   "cell_type": "markdown",
   "metadata": {},
   "source": [
    "Importing the Dataset"
   ]
  },
  {
   "cell_type": "code",
   "execution_count": 36,
   "metadata": {
    "collapsed": true
   },
   "outputs": [],
   "source": [
    "dataset = pd.read_csv('Sample.csv')\n",
    "X = dataset.iloc[:, 3:13].values\n",
    "y = dataset.iloc[:, 13].values"
   ]
  },
  {
   "cell_type": "code",
   "execution_count": 37,
   "metadata": {},
   "outputs": [
    {
     "data": {
      "text/plain": [
       "array([619, 'France', 'Female', 42, 2, 0.0, 1, 1, 1, 101348.88], dtype=object)"
      ]
     },
     "execution_count": 37,
     "metadata": {},
     "output_type": "execute_result"
    }
   ],
   "source": [
    "X[0]"
   ]
  },
  {
   "cell_type": "markdown",
   "metadata": {},
   "source": [
    "Encoding and Data Split"
   ]
  },
  {
   "cell_type": "code",
   "execution_count": 38,
   "metadata": {
    "collapsed": true
   },
   "outputs": [],
   "source": [
    "from sklearn.preprocessing import LabelEncoder, OneHotEncoder\n",
    "labelencoder_X_1 = LabelEncoder()\n",
    "X[:, 1] = labelencoder_X_1.fit_transform(X[:, 1])\n",
    "labelencoder_X_2 = LabelEncoder()\n",
    "X[:, 2] = labelencoder_X_2.fit_transform(X[:, 2])\n",
    "onehotencoder = OneHotEncoder(categorical_features = [1])\n",
    "X = onehotencoder.fit_transform(X).toarray()\n",
    "X = X[:, 1:]\n",
    "\n",
    "from sklearn.model_selection import train_test_split\n",
    "X_train, X_test, y_train, y_test = train_test_split(X, y, test_size = 0.2, random_state = 0)"
   ]
  },
  {
   "cell_type": "markdown",
   "metadata": {},
   "source": [
    "# Build NN using Keras\n",
    "Import Libraries"
   ]
  },
  {
   "cell_type": "code",
   "execution_count": 39,
   "metadata": {},
   "outputs": [
    {
     "data": {
      "text/plain": [
       "array([  1.00000000e+00,   0.00000000e+00,   4.27000000e+02,\n",
       "         1.00000000e+00,   4.20000000e+01,   1.00000000e+00,\n",
       "         7.56815200e+04,   1.00000000e+00,   1.00000000e+00,\n",
       "         1.00000000e+00,   5.70980000e+04])"
      ]
     },
     "execution_count": 39,
     "metadata": {},
     "output_type": "execute_result"
    }
   ],
   "source": [
    "X_train[1]"
   ]
  },
  {
   "cell_type": "code",
   "execution_count": 40,
   "metadata": {
    "scrolled": true
   },
   "outputs": [
    {
     "name": "stderr",
     "output_type": "stream",
     "text": [
      "Using TensorFlow backend.\n"
     ]
    }
   ],
   "source": [
    "import keras\n",
    "from keras.models import Sequential\n",
    "from keras.layers import Dense"
   ]
  },
  {
   "cell_type": "markdown",
   "metadata": {},
   "source": [
    "Initialise ANN"
   ]
  },
  {
   "cell_type": "code",
   "execution_count": 41,
   "metadata": {
    "collapsed": true
   },
   "outputs": [],
   "source": [
    "classifier = Sequential()"
   ]
  },
  {
   "cell_type": "markdown",
   "metadata": {},
   "source": [
    "Adding the input layer and the first hidden layer"
   ]
  },
  {
   "cell_type": "code",
   "execution_count": 42,
   "metadata": {
    "collapsed": true
   },
   "outputs": [],
   "source": [
    "classifier.add(Dense(units = 6, kernel_initializer = 'uniform', activation = 'relu', input_dim = 11))"
   ]
  },
  {
   "cell_type": "markdown",
   "metadata": {},
   "source": [
    "Adding the output layer"
   ]
  },
  {
   "cell_type": "code",
   "execution_count": 43,
   "metadata": {
    "collapsed": true
   },
   "outputs": [],
   "source": [
    "classifier.add(Dense(units = 1, kernel_initializer = 'uniform', activation = 'sigmoid'))"
   ]
  },
  {
   "cell_type": "markdown",
   "metadata": {},
   "source": [
    "Compiling the ANN"
   ]
  },
  {
   "cell_type": "code",
   "execution_count": 44,
   "metadata": {
    "collapsed": true
   },
   "outputs": [],
   "source": [
    "classifier.compile(optimizer = 'adam', loss = 'binary_crossentropy', metrics = ['accuracy'])"
   ]
  },
  {
   "cell_type": "markdown",
   "metadata": {},
   "source": [
    "Fitting the ANN to the Training set"
   ]
  },
  {
   "cell_type": "code",
   "execution_count": 45,
   "metadata": {},
   "outputs": [
    {
     "name": "stdout",
     "output_type": "stream",
     "text": [
      "Epoch 1/100\n",
      "8000/8000 [==============================] - 2s - loss: 3.1780 - acc: 0.7891     \n",
      "Epoch 2/100\n",
      "8000/8000 [==============================] - 1s - loss: 3.4683 - acc: 0.7632     \n",
      "Epoch 3/100\n",
      "8000/8000 [==============================] - 1s - loss: 1.3724 - acc: 0.7951     \n",
      "Epoch 4/100\n",
      "8000/8000 [==============================] - 1s - loss: 0.5154 - acc: 0.7960     \n",
      "Epoch 5/100\n",
      "8000/8000 [==============================] - 1s - loss: 0.5069 - acc: 0.7960     \n",
      "Epoch 6/100\n",
      "8000/8000 [==============================] - 1s - loss: 0.5059 - acc: 0.7960     \n",
      "Epoch 7/100\n",
      "8000/8000 [==============================] - 1s - loss: 0.5058 - acc: 0.7960     \n",
      "Epoch 8/100\n",
      "8000/8000 [==============================] - 1s - loss: 0.5057 - acc: 0.7960     \n",
      "Epoch 9/100\n",
      "8000/8000 [==============================] - 1s - loss: 0.5057 - acc: 0.7960     \n",
      "Epoch 10/100\n",
      "8000/8000 [==============================] - 1s - loss: 0.5058 - acc: 0.7960     \n",
      "Epoch 11/100\n",
      "8000/8000 [==============================] - 1s - loss: 0.5059 - acc: 0.7960     \n",
      "Epoch 12/100\n",
      "8000/8000 [==============================] - 1s - loss: 0.5057 - acc: 0.7960     \n",
      "Epoch 13/100\n",
      "8000/8000 [==============================] - 1s - loss: 0.5059 - acc: 0.7960     \n",
      "Epoch 14/100\n",
      "8000/8000 [==============================] - 1s - loss: 0.5059 - acc: 0.7960     \n",
      "Epoch 15/100\n",
      "8000/8000 [==============================] - 1s - loss: 0.5058 - acc: 0.7960     \n",
      "Epoch 16/100\n",
      "8000/8000 [==============================] - 1s - loss: 0.5058 - acc: 0.7960     \n",
      "Epoch 17/100\n",
      "8000/8000 [==============================] - 1s - loss: 0.5059 - acc: 0.7960     \n",
      "Epoch 18/100\n",
      "8000/8000 [==============================] - 1s - loss: 0.5058 - acc: 0.7960     \n",
      "Epoch 19/100\n",
      "8000/8000 [==============================] - 1s - loss: 0.5059 - acc: 0.7960     \n",
      "Epoch 20/100\n",
      "8000/8000 [==============================] - 1s - loss: 0.5672 - acc: 0.7957     \n",
      "Epoch 21/100\n",
      "8000/8000 [==============================] - 1s - loss: 0.5061 - acc: 0.7960     \n",
      "Epoch 22/100\n",
      "8000/8000 [==============================] - 1s - loss: 0.5060 - acc: 0.7960     \n",
      "Epoch 23/100\n",
      "8000/8000 [==============================] - 1s - loss: 0.5059 - acc: 0.7960     \n",
      "Epoch 24/100\n",
      "8000/8000 [==============================] - 1s - loss: 0.5060 - acc: 0.7960     \n",
      "Epoch 25/100\n",
      "8000/8000 [==============================] - 1s - loss: 0.5060 - acc: 0.7960     \n",
      "Epoch 26/100\n",
      "8000/8000 [==============================] - 1s - loss: 0.5060 - acc: 0.7960     \n",
      "Epoch 27/100\n",
      "8000/8000 [==============================] - 1s - loss: 0.5059 - acc: 0.7960     \n",
      "Epoch 28/100\n",
      "8000/8000 [==============================] - 1s - loss: 0.5059 - acc: 0.7960     \n",
      "Epoch 29/100\n",
      "8000/8000 [==============================] - 1s - loss: 0.5060 - acc: 0.7960     \n",
      "Epoch 30/100\n",
      "8000/8000 [==============================] - 1s - loss: 0.5060 - acc: 0.7960     \n",
      "Epoch 31/100\n",
      "8000/8000 [==============================] - 1s - loss: 0.5060 - acc: 0.7960     \n",
      "Epoch 32/100\n",
      "8000/8000 [==============================] - 1s - loss: 0.5060 - acc: 0.7960     \n",
      "Epoch 33/100\n",
      "8000/8000 [==============================] - 1s - loss: 0.5060 - acc: 0.7960     \n",
      "Epoch 34/100\n",
      "8000/8000 [==============================] - 1s - loss: 0.5060 - acc: 0.7960     \n",
      "Epoch 35/100\n",
      "8000/8000 [==============================] - 1s - loss: 0.5059 - acc: 0.7960     \n",
      "Epoch 36/100\n",
      "8000/8000 [==============================] - 1s - loss: 0.5059 - acc: 0.7960     \n",
      "Epoch 37/100\n",
      "8000/8000 [==============================] - 1s - loss: 0.5060 - acc: 0.7960     \n",
      "Epoch 38/100\n",
      "8000/8000 [==============================] - 1s - loss: 0.5060 - acc: 0.7960     \n",
      "Epoch 39/100\n",
      "8000/8000 [==============================] - 1s - loss: 0.5059 - acc: 0.7960     \n",
      "Epoch 40/100\n",
      "8000/8000 [==============================] - 1s - loss: 0.5059 - acc: 0.7960     \n",
      "Epoch 41/100\n",
      "8000/8000 [==============================] - 1s - loss: 0.5060 - acc: 0.7960     \n",
      "Epoch 42/100\n",
      "8000/8000 [==============================] - 1s - loss: 0.5059 - acc: 0.7960     \n",
      "Epoch 43/100\n",
      "8000/8000 [==============================] - 1s - loss: 0.5059 - acc: 0.7960     \n",
      "Epoch 44/100\n",
      "8000/8000 [==============================] - 1s - loss: 0.5060 - acc: 0.7960     \n",
      "Epoch 45/100\n",
      "8000/8000 [==============================] - 1s - loss: 0.5059 - acc: 0.7960     \n",
      "Epoch 46/100\n",
      "8000/8000 [==============================] - 1s - loss: 0.5060 - acc: 0.7960     \n",
      "Epoch 47/100\n",
      "8000/8000 [==============================] - 1s - loss: 0.5060 - acc: 0.7960     \n",
      "Epoch 48/100\n",
      "8000/8000 [==============================] - 1s - loss: 0.5059 - acc: 0.7960     \n",
      "Epoch 49/100\n",
      "8000/8000 [==============================] - 1s - loss: 0.5059 - acc: 0.7960     \n",
      "Epoch 50/100\n",
      "8000/8000 [==============================] - 1s - loss: 0.5059 - acc: 0.7960     \n",
      "Epoch 51/100\n",
      "8000/8000 [==============================] - 1s - loss: 0.5060 - acc: 0.7960     \n",
      "Epoch 52/100\n",
      "8000/8000 [==============================] - 1s - loss: 0.5060 - acc: 0.7960     \n",
      "Epoch 53/100\n",
      "8000/8000 [==============================] - 1s - loss: 0.5060 - acc: 0.7960     \n",
      "Epoch 54/100\n",
      "8000/8000 [==============================] - 1s - loss: 0.5059 - acc: 0.7960     \n",
      "Epoch 55/100\n",
      "8000/8000 [==============================] - 1s - loss: 0.5059 - acc: 0.7960     \n",
      "Epoch 56/100\n",
      "8000/8000 [==============================] - 1s - loss: 0.5059 - acc: 0.7960     \n",
      "Epoch 57/100\n",
      "8000/8000 [==============================] - 1s - loss: 0.5060 - acc: 0.7960     \n",
      "Epoch 58/100\n",
      "8000/8000 [==============================] - 1s - loss: 0.5059 - acc: 0.7960     \n",
      "Epoch 59/100\n",
      "8000/8000 [==============================] - 1s - loss: 0.5059 - acc: 0.7960     \n",
      "Epoch 60/100\n",
      "8000/8000 [==============================] - 1s - loss: 0.5060 - acc: 0.7960     \n",
      "Epoch 61/100\n",
      "8000/8000 [==============================] - 1s - loss: 0.5060 - acc: 0.7960     \n",
      "Epoch 62/100\n",
      "8000/8000 [==============================] - 1s - loss: 0.5060 - acc: 0.7960     \n",
      "Epoch 63/100\n",
      "8000/8000 [==============================] - 2s - loss: 0.5060 - acc: 0.7960     \n",
      "Epoch 64/100\n",
      "8000/8000 [==============================] - 2s - loss: 0.5060 - acc: 0.7960     \n",
      "Epoch 65/100\n",
      "8000/8000 [==============================] - 1s - loss: 0.5060 - acc: 0.7960     \n",
      "Epoch 66/100\n",
      "8000/8000 [==============================] - 1s - loss: 0.5059 - acc: 0.7960     \n",
      "Epoch 67/100\n",
      "8000/8000 [==============================] - 1s - loss: 0.5060 - acc: 0.7960     \n",
      "Epoch 68/100\n",
      "8000/8000 [==============================] - 1s - loss: 0.5060 - acc: 0.7960     \n",
      "Epoch 69/100\n",
      "8000/8000 [==============================] - 1s - loss: 0.5059 - acc: 0.7960     \n",
      "Epoch 70/100\n",
      "8000/8000 [==============================] - 1s - loss: 0.5060 - acc: 0.7960     \n",
      "Epoch 71/100\n",
      "8000/8000 [==============================] - 1s - loss: 0.5059 - acc: 0.7960     \n",
      "Epoch 72/100\n",
      "8000/8000 [==============================] - 1s - loss: 0.5059 - acc: 0.7960     \n",
      "Epoch 73/100\n",
      "8000/8000 [==============================] - 1s - loss: 0.5060 - acc: 0.7960     \n",
      "Epoch 74/100\n",
      "8000/8000 [==============================] - 1s - loss: 0.5059 - acc: 0.7960     \n",
      "Epoch 75/100\n",
      "8000/8000 [==============================] - 1s - loss: 0.5059 - acc: 0.7960     \n",
      "Epoch 76/100\n",
      "8000/8000 [==============================] - 1s - loss: 0.5059 - acc: 0.7960     \n",
      "Epoch 77/100\n",
      "8000/8000 [==============================] - 1s - loss: 0.5060 - acc: 0.7960     \n",
      "Epoch 78/100\n",
      "8000/8000 [==============================] - 1s - loss: 0.5060 - acc: 0.7960     \n",
      "Epoch 79/100\n",
      "8000/8000 [==============================] - 1s - loss: 0.5059 - acc: 0.7960     \n",
      "Epoch 80/100\n",
      "8000/8000 [==============================] - 1s - loss: 0.5060 - acc: 0.7960     \n",
      "Epoch 81/100\n",
      "8000/8000 [==============================] - 1s - loss: 0.5060 - acc: 0.7960     \n",
      "Epoch 82/100\n",
      "8000/8000 [==============================] - 1s - loss: 0.5060 - acc: 0.7960     \n",
      "Epoch 83/100\n",
      "8000/8000 [==============================] - 1s - loss: 0.5059 - acc: 0.7960     \n",
      "Epoch 84/100\n",
      "8000/8000 [==============================] - 1s - loss: 0.5059 - acc: 0.7960     \n",
      "Epoch 85/100\n",
      "8000/8000 [==============================] - 1s - loss: 0.5060 - acc: 0.7960     \n",
      "Epoch 86/100\n",
      "8000/8000 [==============================] - 1s - loss: 0.5059 - acc: 0.7960     \n",
      "Epoch 87/100\n",
      "8000/8000 [==============================] - 1s - loss: 0.5059 - acc: 0.7960     \n",
      "Epoch 88/100\n",
      "8000/8000 [==============================] - 1s - loss: 0.5060 - acc: 0.7960     \n",
      "Epoch 89/100\n",
      "8000/8000 [==============================] - 1s - loss: 0.5060 - acc: 0.7960     \n",
      "Epoch 90/100\n",
      "8000/8000 [==============================] - 1s - loss: 0.5060 - acc: 0.7960     \n",
      "Epoch 91/100\n",
      "8000/8000 [==============================] - 1s - loss: 0.5059 - acc: 0.7960     \n",
      "Epoch 92/100\n",
      "8000/8000 [==============================] - 1s - loss: 0.5059 - acc: 0.7960     \n",
      "Epoch 93/100\n",
      "8000/8000 [==============================] - 1s - loss: 0.5060 - acc: 0.7960     \n",
      "Epoch 94/100\n",
      "8000/8000 [==============================] - 1s - loss: 0.5060 - acc: 0.7960     \n",
      "Epoch 95/100\n",
      "8000/8000 [==============================] - 1s - loss: 0.5059 - acc: 0.7960     \n",
      "Epoch 96/100\n",
      "8000/8000 [==============================] - 1s - loss: 0.5060 - acc: 0.7960     \n",
      "Epoch 97/100\n",
      "8000/8000 [==============================] - 1s - loss: 0.5060 - acc: 0.7960     \n",
      "Epoch 98/100\n",
      "8000/8000 [==============================] - 1s - loss: 0.5059 - acc: 0.7960     \n",
      "Epoch 99/100\n",
      "8000/8000 [==============================] - 1s - loss: 0.5060 - acc: 0.7960     \n",
      "Epoch 100/100\n",
      "8000/8000 [==============================] - 1s - loss: 0.5060 - acc: 0.7960     \n"
     ]
    },
    {
     "data": {
      "text/plain": [
       "<keras.callbacks.History at 0x7f16348a9940>"
      ]
     },
     "execution_count": 45,
     "metadata": {},
     "output_type": "execute_result"
    }
   ],
   "source": [
    "classifier.fit(X_train, y_train, batch_size = 10, epochs = 100)"
   ]
  },
  {
   "cell_type": "code",
   "execution_count": null,
   "metadata": {
    "collapsed": true
   },
   "outputs": [],
   "source": []
  }
 ],
 "metadata": {
  "kernelspec": {
   "display_name": "Python 3",
   "language": "python",
   "name": "python3"
  },
  "language_info": {
   "codemirror_mode": {
    "name": "ipython",
    "version": 2
   },
   "file_extension": ".py",
   "mimetype": "text/x-python",
   "name": "python",
   "nbconvert_exporter": "python",
   "pygments_lexer": "ipython2",
   "version": "2.7.12"
  }
 },
 "nbformat": 4,
 "nbformat_minor": 2
}
