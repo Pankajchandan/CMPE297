{
 "cells": [
  {
   "cell_type": "markdown",
   "metadata": {},
   "source": [
    "### Logistic regression Homework"
   ]
  },
  {
   "cell_type": "code",
   "execution_count": 1,
   "metadata": {
    "collapsed": true
   },
   "outputs": [],
   "source": [
    "import tensorflow as tf"
   ]
  },
  {
   "cell_type": "code",
   "execution_count": 2,
   "metadata": {},
   "outputs": [
    {
     "name": "stdout",
     "output_type": "stream",
     "text": [
      "Extracting /tmp/data/train-images-idx3-ubyte.gz\n",
      "Extracting /tmp/data/train-labels-idx1-ubyte.gz\n",
      "Extracting /tmp/data/t10k-images-idx3-ubyte.gz\n",
      "Extracting /tmp/data/t10k-labels-idx1-ubyte.gz\n"
     ]
    }
   ],
   "source": [
    "# Import MNIST data\n",
    "from tensorflow.examples.tutorials.mnist import input_data\n",
    "mnist = input_data.read_data_sets(\"/tmp/data/\", one_hot=True)"
   ]
  },
  {
   "cell_type": "code",
   "execution_count": 9,
   "metadata": {
    "collapsed": true
   },
   "outputs": [],
   "source": [
    "# Parameters\n",
    "learning_rate = 0.1\n",
    "training_epochs = 25\n",
    "batch_size = 100\n",
    "display_step = 1\n",
    "input_size = 784\n",
    "output_size = 10"
   ]
  },
  {
   "cell_type": "code",
   "execution_count": 4,
   "metadata": {
    "collapsed": true
   },
   "outputs": [],
   "source": [
    "# tf Graph Input\n",
    "x = tf.placeholder(tf.float32, [None, input_size]) # mnist data image of shape 28*28=784\n",
    "y = tf.placeholder(tf.float32, [None, output_size]) # 0-9 digits recognition => 10 classes\n",
    "\n",
    "# Set model weights\n",
    "W = tf.Variable(tf.random_normal([input_size,output_size],mean=0.0,stddev=1.0, dtype=tf.float32))\n",
    "b = tf.Variable(tf.random_normal([output_size],mean=0.0,stddev=1.0, dtype=tf.float32))"
   ]
  },
  {
   "cell_type": "code",
   "execution_count": 5,
   "metadata": {
    "collapsed": true
   },
   "outputs": [],
   "source": [
    "# Construct model\n",
    "logits = tf.matmul(x, W) + b ##this is linear regression\n",
    "pred = tf.nn.softmax(logits) # Softmax , this is logistic regression\n",
    "\n",
    "# Minimize error mean square error for linear regression\n",
    "#cost_linear = tf.reduce_mean(tf.reduce_sum(tf.square(logits-y),reduction_indices = 1))\n",
    "#cost_logistic = tf.reduce_mean(-tf.reduce_sum(y*tf.log(pred), reduction_indices=1))\n",
    "#cost_logistic = tf.reduce_mean(y*tf.log(pred)+ (1 -y) *tf.log(1 -pred))\n",
    "\n",
    "# Gradient Descent\n",
    "#optimizer_linear = tf.train.GradientDescentOptimizer(learning_rate).minimize(cost_linear)\n",
    "#optimizer_logistic = tf.train.GradientDescentOptimizer(learning_rate).minimize(cost_logistic)\n",
    "\n",
    "#cross entropy error\n",
    "cost_entropy_logistic = tf.reduce_mean(tf.nn.softmax_cross_entropy_with_logits(logits=logits, labels=y))\n",
    "#adamoptimizer\n",
    "adam_optimizer =  tf.train.AdamOptimizer(learning_rate).minimize(cost_entropy_logistic) "
   ]
  },
  {
   "cell_type": "code",
   "execution_count": 10,
   "metadata": {
    "collapsed": true
   },
   "outputs": [],
   "source": [
    "# Initialize the variables (i.e. assign their default value)\n",
    "init = tf.global_variables_initializer()"
   ]
  },
  {
   "cell_type": "code",
   "execution_count": 15,
   "metadata": {
    "collapsed": true
   },
   "outputs": [],
   "source": [
    "# no of correct prediction\n",
    "correct_prediction = tf.equal(tf.argmax(pred, 1), tf.argmax(y, 1))\n",
    "# Calculate accuracy\n",
    "accuracy = tf.reduce_mean(tf.cast(correct_prediction, tf.float32))"
   ]
  },
  {
   "cell_type": "code",
   "execution_count": 16,
   "metadata": {},
   "outputs": [
    {
     "name": "stdout",
     "output_type": "stream",
     "text": [
      "Epoch: 0001 cost= 1.303920882\n",
      "accuracy on train set: 0.85\n",
      "Epoch: 0002 cost= 0.501409304\n",
      "accuracy on train set: 0.97\n",
      "Epoch: 0003 cost= 0.415245739\n",
      "accuracy on train set: 0.9\n",
      "Epoch: 0004 cost= 0.373209509\n",
      "accuracy on train set: 0.91\n",
      "Epoch: 0005 cost= 0.346682127\n",
      "accuracy on train set: 0.91\n",
      "Epoch: 0006 cost= 0.329507550\n",
      "accuracy on train set: 0.9\n",
      "Epoch: 0007 cost= 0.319280063\n",
      "accuracy on train set: 0.89\n",
      "Epoch: 0008 cost= 0.307967568\n",
      "accuracy on train set: 0.9\n",
      "Epoch: 0009 cost= 0.300303710\n",
      "accuracy on train set: 0.9\n",
      "Epoch: 0010 cost= 0.294169749\n",
      "accuracy on train set: 0.93\n",
      "Epoch: 0011 cost= 0.290334253\n",
      "accuracy on train set: 0.94\n",
      "Epoch: 0012 cost= 0.287945015\n",
      "accuracy on train set: 0.97\n",
      "Epoch: 0013 cost= 0.282388078\n",
      "accuracy on train set: 0.86\n",
      "Epoch: 0014 cost= 0.278901495\n",
      "accuracy on train set: 0.94\n",
      "Epoch: 0015 cost= 0.275058039\n",
      "accuracy on train set: 0.93\n",
      "Epoch: 0016 cost= 0.274489221\n",
      "accuracy on train set: 0.93\n",
      "Epoch: 0017 cost= 0.271614485\n",
      "accuracy on train set: 0.9\n",
      "Epoch: 0018 cost= 0.275063170\n",
      "accuracy on train set: 0.9\n",
      "Epoch: 0019 cost= 0.271907376\n",
      "accuracy on train set: 0.94\n",
      "Epoch: 0020 cost= 0.269641153\n",
      "accuracy on train set: 0.94\n",
      "Epoch: 0021 cost= 0.269920868\n",
      "accuracy on train set: 0.94\n",
      "Epoch: 0022 cost= 0.266555641\n",
      "accuracy on train set: 0.92\n",
      "Epoch: 0023 cost= 0.264100316\n",
      "accuracy on train set: 0.91\n",
      "Epoch: 0024 cost= 0.264686706\n",
      "accuracy on train set: 0.91\n",
      "Epoch: 0025 cost= 0.262799644\n",
      "accuracy on train set: 0.91\n",
      "Optimization Finished!\n"
     ]
    }
   ],
   "source": [
    "sess = tf.Session()\n",
    "# Run the initializer\n",
    "sess.run(init)\n",
    "\n",
    "# Training cycle\n",
    "for epoch in range(training_epochs):\n",
    "    avg_cost = 0.\n",
    "    total_batch = int(mnist.train.num_examples/batch_size)\n",
    "    # Loop over all batches\n",
    "    for i in range(total_batch):\n",
    "        batch_xs, batch_ys = mnist.train.next_batch(batch_size)\n",
    "        # Run optimization op (backprop) and cost op (to get loss value)\n",
    "        _, c = sess.run([adam_optimizer, cost_entropy_logistic], feed_dict={x: batch_xs,\n",
    "                                                          y: batch_ys})\n",
    "        # Compute average loss\n",
    "        avg_cost += c / total_batch\n",
    "    # Display logs per epoch step\n",
    "    if (epoch+1) % display_step == 0:\n",
    "        print(\"Epoch:\", '%04d' % (epoch+1), \"cost=\", \"{:.9f}\".format(avg_cost))\n",
    "        acc = sess.run(accuracy,feed_dict = {x: batch_xs, y: batch_ys})\n",
    "        print (\"accuracy on train set:\", acc)\n",
    "        ##print(\"Accuracy:\", acc.eval(sesion = sess))\n",
    "\n",
    "print(\"Optimization Finished!\")"
   ]
  },
  {
   "cell_type": "code",
   "execution_count": 13,
   "metadata": {
    "collapsed": true
   },
   "outputs": [],
   "source": [
    "acc1 = sess.run(accuracy,feed_dict = {x: mnist.test.images, y: mnist.test.labels})"
   ]
  },
  {
   "cell_type": "code",
   "execution_count": 14,
   "metadata": {},
   "outputs": [
    {
     "name": "stdout",
     "output_type": "stream",
     "text": [
      "accuracy on test set:  0.9147\n"
     ]
    }
   ],
   "source": [
    "print (\"accuracy on test set: \",acc1)"
   ]
  },
  {
   "cell_type": "code",
   "execution_count": null,
   "metadata": {
    "collapsed": true
   },
   "outputs": [],
   "source": []
  }
 ],
 "metadata": {
  "kernelspec": {
   "display_name": "Python 3",
   "language": "python",
   "name": "python3"
  },
  "language_info": {
   "codemirror_mode": {
    "name": "ipython",
    "version": 3
   },
   "file_extension": ".py",
   "mimetype": "text/x-python",
   "name": "python",
   "nbconvert_exporter": "python",
   "pygments_lexer": "ipython3",
   "version": "3.5.2"
  }
 },
 "nbformat": 4,
 "nbformat_minor": 2
}
