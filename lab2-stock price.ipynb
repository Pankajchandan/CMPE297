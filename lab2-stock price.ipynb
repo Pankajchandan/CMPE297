{
 "cells": [
  {
   "cell_type": "code",
   "execution_count": 1,
   "metadata": {
    "collapsed": true
   },
   "outputs": [],
   "source": [
    "import pandas as pd\n",
    "import numpy as np\n",
    "import matplotlib.pyplot as plt\n",
    "%matplotlib inline\n",
    "from sklearn.preprocessing import MinMaxScaler"
   ]
  },
  {
   "cell_type": "code",
   "execution_count": 66,
   "metadata": {
    "collapsed": true
   },
   "outputs": [],
   "source": [
    "input_size = 1 # no of past data to to consider\n",
    "num_steps = 1 # consecutive input elements are grouped into one training input\n",
    "num_layers=1  # no of layers\n",
    "keep_prob=0.8 # keep probability of each node\n",
    "batch_size = 64 # batch size of input data\n",
    "learning_rate = 0.001 # learning rate\n",
    "max_epoch = 200 # no of epochs\n",
    "test_train_split = 0.8 #test train split"
   ]
  },
  {
   "cell_type": "code",
   "execution_count": 67,
   "metadata": {
    "collapsed": true
   },
   "outputs": [],
   "source": [
    "prices_dataset =  pd.read_csv('prices.csv', header=0)"
   ]
  },
  {
   "cell_type": "code",
   "execution_count": 68,
   "metadata": {},
   "outputs": [
    {
     "data": {
      "text/html": [
       "<div>\n",
       "<style>\n",
       "    .dataframe thead tr:only-child th {\n",
       "        text-align: right;\n",
       "    }\n",
       "\n",
       "    .dataframe thead th {\n",
       "        text-align: left;\n",
       "    }\n",
       "\n",
       "    .dataframe tbody tr th {\n",
       "        vertical-align: top;\n",
       "    }\n",
       "</style>\n",
       "<table border=\"1\" class=\"dataframe\">\n",
       "  <thead>\n",
       "    <tr style=\"text-align: right;\">\n",
       "      <th></th>\n",
       "      <th>date</th>\n",
       "      <th>symbol</th>\n",
       "      <th>open</th>\n",
       "      <th>close</th>\n",
       "      <th>low</th>\n",
       "      <th>high</th>\n",
       "      <th>volume</th>\n",
       "    </tr>\n",
       "  </thead>\n",
       "  <tbody>\n",
       "    <tr>\n",
       "      <th>0</th>\n",
       "      <td>2016-01-05 00:00:00</td>\n",
       "      <td>WLTW</td>\n",
       "      <td>123.430000</td>\n",
       "      <td>125.839996</td>\n",
       "      <td>122.309998</td>\n",
       "      <td>126.250000</td>\n",
       "      <td>2163600.0</td>\n",
       "    </tr>\n",
       "    <tr>\n",
       "      <th>1</th>\n",
       "      <td>2016-01-06 00:00:00</td>\n",
       "      <td>WLTW</td>\n",
       "      <td>125.239998</td>\n",
       "      <td>119.980003</td>\n",
       "      <td>119.940002</td>\n",
       "      <td>125.540001</td>\n",
       "      <td>2386400.0</td>\n",
       "    </tr>\n",
       "    <tr>\n",
       "      <th>2</th>\n",
       "      <td>2016-01-07 00:00:00</td>\n",
       "      <td>WLTW</td>\n",
       "      <td>116.379997</td>\n",
       "      <td>114.949997</td>\n",
       "      <td>114.930000</td>\n",
       "      <td>119.739998</td>\n",
       "      <td>2489500.0</td>\n",
       "    </tr>\n",
       "    <tr>\n",
       "      <th>3</th>\n",
       "      <td>2016-01-08 00:00:00</td>\n",
       "      <td>WLTW</td>\n",
       "      <td>115.480003</td>\n",
       "      <td>116.620003</td>\n",
       "      <td>113.500000</td>\n",
       "      <td>117.440002</td>\n",
       "      <td>2006300.0</td>\n",
       "    </tr>\n",
       "    <tr>\n",
       "      <th>4</th>\n",
       "      <td>2016-01-11 00:00:00</td>\n",
       "      <td>WLTW</td>\n",
       "      <td>117.010002</td>\n",
       "      <td>114.970001</td>\n",
       "      <td>114.089996</td>\n",
       "      <td>117.330002</td>\n",
       "      <td>1408600.0</td>\n",
       "    </tr>\n",
       "  </tbody>\n",
       "</table>\n",
       "</div>"
      ],
      "text/plain": [
       "                  date symbol        open       close         low        high  \\\n",
       "0  2016-01-05 00:00:00   WLTW  123.430000  125.839996  122.309998  126.250000   \n",
       "1  2016-01-06 00:00:00   WLTW  125.239998  119.980003  119.940002  125.540001   \n",
       "2  2016-01-07 00:00:00   WLTW  116.379997  114.949997  114.930000  119.739998   \n",
       "3  2016-01-08 00:00:00   WLTW  115.480003  116.620003  113.500000  117.440002   \n",
       "4  2016-01-11 00:00:00   WLTW  117.010002  114.970001  114.089996  117.330002   \n",
       "\n",
       "      volume  \n",
       "0  2163600.0  \n",
       "1  2386400.0  \n",
       "2  2489500.0  \n",
       "3  2006300.0  \n",
       "4  1408600.0  "
      ]
     },
     "execution_count": 68,
     "metadata": {},
     "output_type": "execute_result"
    }
   ],
   "source": [
    "prices_dataset.head()"
   ]
  },
  {
   "cell_type": "code",
   "execution_count": 69,
   "metadata": {
    "collapsed": true
   },
   "outputs": [],
   "source": [
    "google = prices_dataset[prices_dataset['symbol']=='GOOGL']"
   ]
  },
  {
   "cell_type": "code",
   "execution_count": 70,
   "metadata": {},
   "outputs": [
    {
     "data": {
      "text/html": [
       "<div>\n",
       "<style>\n",
       "    .dataframe thead tr:only-child th {\n",
       "        text-align: right;\n",
       "    }\n",
       "\n",
       "    .dataframe thead th {\n",
       "        text-align: left;\n",
       "    }\n",
       "\n",
       "    .dataframe tbody tr th {\n",
       "        vertical-align: top;\n",
       "    }\n",
       "</style>\n",
       "<table border=\"1\" class=\"dataframe\">\n",
       "  <thead>\n",
       "    <tr style=\"text-align: right;\">\n",
       "      <th></th>\n",
       "      <th>date</th>\n",
       "      <th>symbol</th>\n",
       "      <th>open</th>\n",
       "      <th>close</th>\n",
       "      <th>low</th>\n",
       "      <th>high</th>\n",
       "      <th>volume</th>\n",
       "    </tr>\n",
       "  </thead>\n",
       "  <tbody>\n",
       "    <tr>\n",
       "      <th>440</th>\n",
       "      <td>2010-01-04</td>\n",
       "      <td>GOOGL</td>\n",
       "      <td>626.950006</td>\n",
       "      <td>626.750011</td>\n",
       "      <td>624.240011</td>\n",
       "      <td>629.510005</td>\n",
       "      <td>3908400.0</td>\n",
       "    </tr>\n",
       "    <tr>\n",
       "      <th>908</th>\n",
       "      <td>2010-01-05</td>\n",
       "      <td>GOOGL</td>\n",
       "      <td>627.180001</td>\n",
       "      <td>623.990017</td>\n",
       "      <td>621.540016</td>\n",
       "      <td>627.839984</td>\n",
       "      <td>6003300.0</td>\n",
       "    </tr>\n",
       "    <tr>\n",
       "      <th>1376</th>\n",
       "      <td>2010-01-06</td>\n",
       "      <td>GOOGL</td>\n",
       "      <td>625.860033</td>\n",
       "      <td>608.260035</td>\n",
       "      <td>606.360021</td>\n",
       "      <td>625.860033</td>\n",
       "      <td>7949400.0</td>\n",
       "    </tr>\n",
       "    <tr>\n",
       "      <th>1844</th>\n",
       "      <td>2010-01-07</td>\n",
       "      <td>GOOGL</td>\n",
       "      <td>609.400008</td>\n",
       "      <td>594.100015</td>\n",
       "      <td>592.649990</td>\n",
       "      <td>609.999993</td>\n",
       "      <td>12815700.0</td>\n",
       "    </tr>\n",
       "    <tr>\n",
       "      <th>2312</th>\n",
       "      <td>2010-01-08</td>\n",
       "      <td>GOOGL</td>\n",
       "      <td>592.000005</td>\n",
       "      <td>602.020005</td>\n",
       "      <td>589.110015</td>\n",
       "      <td>603.250036</td>\n",
       "      <td>9439100.0</td>\n",
       "    </tr>\n",
       "  </tbody>\n",
       "</table>\n",
       "</div>"
      ],
      "text/plain": [
       "            date symbol        open       close         low        high  \\\n",
       "440   2010-01-04  GOOGL  626.950006  626.750011  624.240011  629.510005   \n",
       "908   2010-01-05  GOOGL  627.180001  623.990017  621.540016  627.839984   \n",
       "1376  2010-01-06  GOOGL  625.860033  608.260035  606.360021  625.860033   \n",
       "1844  2010-01-07  GOOGL  609.400008  594.100015  592.649990  609.999993   \n",
       "2312  2010-01-08  GOOGL  592.000005  602.020005  589.110015  603.250036   \n",
       "\n",
       "          volume  \n",
       "440    3908400.0  \n",
       "908    6003300.0  \n",
       "1376   7949400.0  \n",
       "1844  12815700.0  \n",
       "2312   9439100.0  "
      ]
     },
     "execution_count": 70,
     "metadata": {},
     "output_type": "execute_result"
    }
   ],
   "source": [
    "google.head()"
   ]
  },
  {
   "cell_type": "code",
   "execution_count": 71,
   "metadata": {
    "collapsed": true
   },
   "outputs": [],
   "source": [
    "google_stock_prices = google.close.values.astype('float32')"
   ]
  },
  {
   "cell_type": "code",
   "execution_count": 72,
   "metadata": {},
   "outputs": [
    {
     "data": {
      "text/plain": [
       "(1762,)"
      ]
     },
     "execution_count": 72,
     "metadata": {},
     "output_type": "execute_result"
    }
   ],
   "source": [
    "google_stock_prices.shape"
   ]
  },
  {
   "cell_type": "code",
   "execution_count": 73,
   "metadata": {},
   "outputs": [
    {
     "data": {
      "text/plain": [
       "[<matplotlib.lines.Line2D at 0x7fede6d0b6d8>]"
      ]
     },
     "execution_count": 73,
     "metadata": {},
     "output_type": "execute_result"
    },
    {
     "data": {
      "image/png": "[encoded data removed]",
      "text/plain": [
       "<matplotlib.figure.Figure at 0x7fede7a4f320>"
      ]
     },
     "metadata": {},
     "output_type": "display_data"
    }
   ],
   "source": [
    "plt.plot(google_stock_prices)"
   ]
  },
  {
   "cell_type": "code",
   "execution_count": 74,
   "metadata": {},
   "outputs": [
    {
     "name": "stderr",
     "output_type": "stream",
     "text": [
      "/home/pankaj/.local/lib/python3.5/site-packages/sklearn/preprocessing/data.py:321: DeprecationWarning: Passing 1d arrays as data is deprecated in 0.17 and will raise ValueError in 0.19. Reshape your data either using X.reshape(-1, 1) if your data has a single feature or X.reshape(1, -1) if it contains a single sample.\n",
      "  warnings.warn(DEPRECATION_MSG_1D, DeprecationWarning)\n",
      "/home/pankaj/.local/lib/python3.5/site-packages/sklearn/preprocessing/data.py:356: DeprecationWarning: Passing 1d arrays as data is deprecated in 0.17 and will raise ValueError in 0.19. Reshape your data either using X.reshape(-1, 1) if your data has a single feature or X.reshape(1, -1) if it contains a single sample.\n",
      "  warnings.warn(DEPRECATION_MSG_1D, DeprecationWarning)\n"
     ]
    }
   ],
   "source": [
    "## preprocessing of data, scale data into a scale of 0 to 1\n",
    "scaler = MinMaxScaler(feature_range=(0, 1))\n",
    "google_stock_prices = scaler.fit_transform(google_stock_prices)"
   ]
  },
  {
   "cell_type": "code",
   "execution_count": 75,
   "metadata": {},
   "outputs": [
    {
     "data": {
      "text/plain": [
       "[<matplotlib.lines.Line2D at 0x7fede6d01080>]"
      ]
     },
     "execution_count": 75,
     "metadata": {},
     "output_type": "execute_result"
    },
    {
     "data": {
      "image/png": "[encoded data removed]",
      "text/plain": [
       "<matplotlib.figure.Figure at 0x7fee16ee1400>"
      ]
     },
     "metadata": {},
     "output_type": "display_data"
    }
   ],
   "source": [
    "plt.plot(google_stock_prices)"
   ]
  },
  {
   "cell_type": "code",
   "execution_count": 76,
   "metadata": {
    "collapsed": true
   },
   "outputs": [],
   "source": [
    "def create_dataset(seq, input_size, num_steps):\n",
    "    # group according to input size\n",
    "    seq = [np.array(seq[i * input_size: (i + 1) * input_size]) for i in range(len(seq) // input_size)]\n",
    "    \n",
    "    # Split into groups of `num_steps`\n",
    "    X = np.array([seq[i: i + num_steps] for i in range(len(seq) - num_steps)])\n",
    "    y = np.array([seq[i + num_steps] for i in range(len(seq) - num_steps)])\n",
    "    return X,y"
   ]
  },
  {
   "cell_type": "code",
   "execution_count": 77,
   "metadata": {},
   "outputs": [
    {
     "name": "stdout",
     "output_type": "stream",
     "text": [
      "split:  (1410,) (352,)\n"
     ]
    }
   ],
   "source": [
    "split = round(test_train_split*len(google_stock_prices))\n",
    "train = google_stock_prices[0:split]\n",
    "test = google_stock_prices[split:len(google_stock_prices)]\n",
    "print(\"split: \",train.shape,test.shape)"
   ]
  },
  {
   "cell_type": "code",
   "execution_count": 78,
   "metadata": {},
   "outputs": [
    {
     "data": {
      "text/plain": [
       "<matplotlib.legend.Legend at 0x7fede7afd6d8>"
      ]
     },
     "execution_count": 78,
     "metadata": {},
     "output_type": "execute_result"
    },
    {
     "data": {
      "image/png": "[encoded data removed]",
      "text/plain": [
       "<matplotlib.figure.Figure at 0x7fede7a4e470>"
      ]
     },
     "metadata": {},
     "output_type": "display_data"
    }
   ],
   "source": [
    "# train data\n",
    "plt.plot(train, label = 'train data')\n",
    "plt.legend(bbox_to_anchor=(1.05, 1), loc=2, borderaxespad=0.)"
   ]
  },
  {
   "cell_type": "code",
   "execution_count": 79,
   "metadata": {},
   "outputs": [
    {
     "data": {
      "text/plain": [
       "<matplotlib.legend.Legend at 0x7fede6c7f668>"
      ]
     },
     "execution_count": 79,
     "metadata": {},
     "output_type": "execute_result"
    },
    {
     "data": {
      "image/png": "[encoded data removed]",
      "text/plain": [
       "<matplotlib.figure.Figure at 0x7fede6c7fa20>"
      ]
     },
     "metadata": {},
     "output_type": "display_data"
    }
   ],
   "source": [
    "#test data\n",
    "plt.plot(test, label ='test data')\n",
    "plt.legend(bbox_to_anchor=(1.05, 1), loc=2, borderaxespad=0.)"
   ]
  },
  {
   "cell_type": "code",
   "execution_count": 80,
   "metadata": {
    "collapsed": true
   },
   "outputs": [],
   "source": [
    "## create data test and train\n",
    "train_x,train_y = create_dataset(train,input_size, num_steps)\n",
    "test_x,test_y = create_dataset(test,input_size, num_steps)"
   ]
  },
  {
   "cell_type": "code",
   "execution_count": 17,
   "metadata": {
    "collapsed": true
   },
   "outputs": [],
   "source": [
    "import tensorflow as tf\n",
    "tf.reset_default_graph()\n",
    "lstm_graph = tf.Graph()"
   ]
  },
  {
   "cell_type": "code",
   "execution_count": 18,
   "metadata": {},
   "outputs": [
    {
     "name": "stderr",
     "output_type": "stream",
     "text": [
      "/home/pankaj/.local/lib/python3.5/site-packages/tensorflow/python/ops/gradients_impl.py:93: UserWarning: Converting sparse IndexedSlices to a dense Tensor of unknown shape. This may consume a large amount of memory.\n",
      "  \"Converting sparse IndexedSlices to a dense Tensor of unknown shape. \"\n"
     ]
    }
   ],
   "source": [
    "with lstm_graph.as_default():\n",
    "    inputs = tf.placeholder(tf.float32, [None, num_steps, input_size])\n",
    "    targets = tf.placeholder(tf.float32, [None, input_size])\n",
    "    #learning_rate = tf.placeholder(tf.float32, None)\n",
    "    \n",
    "    def create_one_cell():\n",
    "        return tf.contrib.rnn.LSTMCell(lstm_size, state_is_tuple=True)\n",
    "        if keep_prob < 1.0:\n",
    "            return tf.contrib.rnn.DropoutWrapper(lstm_cell, output_keep_prob=keep_prob)\n",
    "        \n",
    "    ##stack the cells into multiple layers if needed. MultiRNNCell helps connect sequentially multiple \n",
    "    ##simple cells to compose one cell.    \n",
    "    if num_layers > 1:\n",
    "        cell = tf.contrib.rnn.MultiRNNCell([create_one_cell() for _ in range(num_layers)], state_is_tuple=True)\n",
    "    else:\n",
    "        cell = create_one_cell()\n",
    "        \n",
    "    ## tf.nn.dynamic_rnn constructs a recurrent neural network specified by cell (RNNCell). \n",
    "    ## It returns a pair of (model outpus, state), where the outputs val is of size (batch_size, num_steps, \n",
    "    ## lstm_size) by default. The state refers to the current state of the LSTM cell, not consumed here.    \n",
    "    val, _ = tf.nn.dynamic_rnn(cell, inputs, dtype=tf.float32)\n",
    "    \n",
    "    # Before transpose, val.get_shape() = (batch_size, num_steps, lstm_size)\n",
    "    # After transpose, val.get_shape() = (num_steps, batch_size, lstm_size)\n",
    "    val = tf.transpose(val, [1, 0, 2])\n",
    "    # last.get_shape() = (batch_size, lstm_size)\n",
    "    last = tf.gather(val, int(val.get_shape()[0]) - 1, name=\"last_lstm_output\")\n",
    "    \n",
    "    # Define weights and biases between the hidden and output layers.\n",
    "    weight = tf.Variable(tf.truncated_normal([lstm_size, input_size]))\n",
    "    bias = tf.Variable(tf.constant(0.1, shape=[input_size]))\n",
    "    prediction = tf.matmul(last, weight) + bias\n",
    "    \n",
    "    ## define cost function and minimize it\n",
    "    loss = tf.reduce_mean(tf.square(prediction - targets))\n",
    "    optimizer = tf.train.AdamOptimizer(learning_rate)\n",
    "    minimize = optimizer.minimize(loss)\n",
    "    "
   ]
  },
  {
   "cell_type": "code",
   "execution_count": 81,
   "metadata": {
    "scrolled": true
   },
   "outputs": [
    {
     "name": "stdout",
     "output_type": "stream",
     "text": [
      "Epoch: 0001 cost=  0.0285426050197\n",
      "Epoch: 0002 cost=  0.02952412881\n",
      "Epoch: 0003 cost=  0.00872400696178\n",
      "Epoch: 0004 cost=  0.00438060905303\n",
      "Epoch: 0005 cost=  0.0016640174667\n",
      "Epoch: 0006 cost=  0.000835870464388\n",
      "Epoch: 0007 cost=  0.000593226512799\n",
      "Epoch: 0008 cost=  0.000558742265474\n",
      "Epoch: 0009 cost=  0.000555214285255\n",
      "Epoch: 0010 cost=  0.00055617891088\n",
      "Epoch: 0011 cost=  0.000557411697876\n",
      "Epoch: 0012 cost=  0.000558397487277\n",
      "Epoch: 0013 cost=  0.000559235810215\n",
      "Epoch: 0014 cost=  0.000560139055531\n",
      "Epoch: 0015 cost=  0.000561164540572\n",
      "Epoch: 0016 cost=  0.000562266054079\n",
      "Epoch: 0017 cost=  0.000563412983452\n",
      "Epoch: 0018 cost=  0.000564625100444\n",
      "Epoch: 0019 cost=  0.000565934554205\n",
      "Epoch: 0020 cost=  0.000567355773951\n",
      "Epoch: 0021 cost=  0.000568890797281\n",
      "Epoch: 0022 cost=  0.000570548229999\n",
      "Epoch: 0023 cost=  0.00057234827314\n",
      "Epoch: 0024 cost=  0.000574313392876\n",
      "Epoch: 0025 cost=  0.000576465116451\n",
      "Epoch: 0026 cost=  0.000578822816764\n",
      "Epoch: 0027 cost=  0.000581411735766\n",
      "Epoch: 0028 cost=  0.000584261415166\n",
      "Epoch: 0029 cost=  0.000587405564808\n",
      "Epoch: 0030 cost=  0.000590880151735\n",
      "Epoch: 0031 cost=  0.000594724452888\n",
      "Epoch: 0032 cost=  0.000598982114422\n",
      "Epoch: 0033 cost=  0.000603701160303\n",
      "Epoch: 0034 cost=  0.000608933917564\n",
      "Epoch: 0035 cost=  0.00061473611442\n",
      "Epoch: 0036 cost=  0.000621166225756\n",
      "Epoch: 0037 cost=  0.000628286332027\n",
      "Epoch: 0038 cost=  0.000636159345793\n",
      "Epoch: 0039 cost=  0.00064484693741\n",
      "Epoch: 0040 cost=  0.000654409717589\n",
      "Epoch: 0041 cost=  0.000664902539442\n",
      "Epoch: 0042 cost=  0.000676371690299\n",
      "Epoch: 0043 cost=  0.00068885239836\n",
      "Epoch: 0044 cost=  0.000702362700725\n",
      "Epoch: 0045 cost=  0.000716901469952\n",
      "Epoch: 0046 cost=  0.00073244215144\n",
      "Epoch: 0047 cost=  0.00074892992085\n",
      "Epoch: 0048 cost=  0.000766278973804\n",
      "Epoch: 0049 cost=  0.000784368876669\n",
      "Epoch: 0050 cost=  0.000803044481886\n",
      "Epoch: 0051 cost=  0.000822117609046\n",
      "Epoch: 0052 cost=  0.000841368125376\n",
      "Epoch: 0053 cost=  0.000860551106929\n",
      "Epoch: 0054 cost=  0.000879401501152\n",
      "Epoch: 0055 cost=  0.000897643277395\n",
      "Epoch: 0056 cost=  0.000914997185729\n",
      "Epoch: 0057 cost=  0.000931192877364\n",
      "Epoch: 0058 cost=  0.000945975759268\n",
      "Epoch: 0059 cost=  0.000959117303534\n",
      "Epoch: 0060 cost=  0.00097042682914\n",
      "Epoch: 0061 cost=  0.00097975169708\n",
      "Epoch: 0062 cost=  0.000986988018584\n",
      "Epoch: 0063 cost=  0.000992081427698\n",
      "Epoch: 0064 cost=  0.000995029178078\n",
      "Epoch: 0065 cost=  0.000995876148491\n",
      "Epoch: 0066 cost=  0.000994716260307\n",
      "Epoch: 0067 cost=  0.000991681828137\n",
      "Epoch: 0068 cost=  0.000986939212784\n",
      "Epoch: 0069 cost=  0.000980682235836\n",
      "Epoch: 0070 cost=  0.000973117065521\n",
      "Epoch: 0071 cost=  0.00096446082369\n",
      "Epoch: 0072 cost=  0.000954928630645\n",
      "Epoch: 0073 cost=  0.00094472750987\n",
      "Epoch: 0074 cost=  0.000934049567811\n",
      "Epoch: 0075 cost=  0.000923069422821\n",
      "Epoch: 0076 cost=  0.000911941815337\n",
      "Epoch: 0077 cost=  0.00090079642872\n",
      "Epoch: 0078 cost=  0.000889742893791\n",
      "Epoch: 0079 cost=  0.000878866385557\n",
      "Epoch: 0080 cost=  0.000868234768859\n",
      "Epoch: 0081 cost=  0.000857894771219\n",
      "Epoch: 0082 cost=  0.000847879466495\n",
      "Epoch: 0083 cost=  0.000838206106643\n",
      "Epoch: 0084 cost=  0.000828883296477\n",
      "Epoch: 0085 cost=  0.000819907748585\n",
      "Epoch: 0086 cost=  0.000811271393269\n",
      "Epoch: 0087 cost=  0.000802958392755\n",
      "Epoch: 0088 cost=  0.000794950690761\n",
      "Epoch: 0089 cost=  0.00078722645776\n",
      "Epoch: 0090 cost=  0.000779762505937\n",
      "Epoch: 0091 cost=  0.000772533668086\n",
      "Epoch: 0092 cost=  0.000765516342653\n",
      "Epoch: 0093 cost=  0.000758685081316\n",
      "Epoch: 0094 cost=  0.00075201684707\n",
      "Epoch: 0095 cost=  0.000745488264908\n",
      "Epoch: 0096 cost=  0.000739078690954\n",
      "Epoch: 0097 cost=  0.000732768387851\n",
      "Epoch: 0098 cost=  0.000726538431495\n",
      "Epoch: 0099 cost=  0.000720374054667\n",
      "Epoch: 0100 cost=  0.000714259316076\n",
      "Epoch: 0101 cost=  0.000708182678367\n",
      "Epoch: 0102 cost=  0.000702134387128\n",
      "Epoch: 0103 cost=  0.0006961067692\n",
      "Epoch: 0104 cost=  0.000690094067977\n",
      "Epoch: 0105 cost=  0.000684095043239\n",
      "Epoch: 0106 cost=  0.000678108780531\n",
      "Epoch: 0107 cost=  0.000672138533529\n",
      "Epoch: 0108 cost=  0.000666189924893\n",
      "Epoch: 0109 cost=  0.000660271137101\n",
      "Epoch: 0110 cost=  0.000654393382071\n",
      "Epoch: 0111 cost=  0.000648570556884\n",
      "Epoch: 0112 cost=  0.000642819088005\n",
      "Epoch: 0113 cost=  0.00063715692853\n",
      "Epoch: 0114 cost=  0.000631604419058\n",
      "Epoch: 0115 cost=  0.000626183228054\n",
      "Epoch: 0116 cost=  0.000620915268386\n",
      "Epoch: 0117 cost=  0.000615823318764\n",
      "Epoch: 0118 cost=  0.000610928255893\n",
      "Epoch: 0119 cost=  0.000606250746139\n",
      "Epoch: 0120 cost=  0.000601808241547\n",
      "Epoch: 0121 cost=  0.000597616072892\n",
      "Epoch: 0122 cost=  0.000593685055884\n",
      "Epoch: 0123 cost=  0.000590022523697\n",
      "Epoch: 0124 cost=  0.000586632025013\n",
      "Epoch: 0125 cost=  0.000583512119854\n",
      "Epoch: 0126 cost=  0.000580658021301\n",
      "Epoch: 0127 cost=  0.000578060024881\n",
      "Epoch: 0128 cost=  0.000575707119755\n",
      "Epoch: 0129 cost=  0.000573584079327\n",
      "Epoch: 0130 cost=  0.000571675607882\n",
      "Epoch: 0131 cost=  0.000569964004337\n",
      "Epoch: 0132 cost=  0.000568432363335\n",
      "Epoch: 0133 cost=  0.000567063570501\n",
      "Epoch: 0134 cost=  0.00056584151852\n",
      "Epoch: 0135 cost=  0.00056475133434\n",
      "Epoch: 0136 cost=  0.00056377946583\n",
      "Epoch: 0137 cost=  0.000562913294165\n",
      "Epoch: 0138 cost=  0.000562142843013\n",
      "Epoch: 0139 cost=  0.00056145835697\n",
      "Epoch: 0140 cost=  0.000560851740209\n",
      "Epoch: 0141 cost=  0.00056031639906\n",
      "Epoch: 0142 cost=  0.000559846306053\n",
      "Epoch: 0143 cost=  0.00055943556204\n",
      "Epoch: 0144 cost=  0.000559080216176\n",
      "Epoch: 0145 cost=  0.000558776440316\n",
      "Epoch: 0146 cost=  0.000558520694705\n",
      "Epoch: 0147 cost=  0.000558309807357\n",
      "Epoch: 0148 cost=  0.000558141248555\n",
      "Epoch: 0149 cost=  0.000558012933073\n",
      "Epoch: 0150 cost=  0.000557923109392\n",
      "Epoch: 0151 cost=  0.000557869719077\n",
      "Epoch: 0152 cost=  0.000557851321157\n",
      "Epoch: 0153 cost=  0.000557866931393\n",
      "Epoch: 0154 cost=  0.000557915434249\n",
      "Epoch: 0155 cost=  0.000557995513769\n",
      "Epoch: 0156 cost=  0.000558107131259\n",
      "Epoch: 0157 cost=  0.000558249313062\n",
      "Epoch: 0158 cost=  0.000558421138108\n",
      "Epoch: 0159 cost=  0.000558622025644\n",
      "Epoch: 0160 cost=  0.00055885280579\n",
      "Epoch: 0161 cost=  0.000559112523082\n",
      "Epoch: 0162 cost=  0.000559400314986\n",
      "Epoch: 0163 cost=  0.000559716379278\n",
      "Epoch: 0164 cost=  0.000560060841301\n",
      "Epoch: 0165 cost=  0.000560433756949\n",
      "Epoch: 0166 cost=  0.000560834749194\n",
      "Epoch: 0167 cost=  0.000561263116899\n",
      "Epoch: 0168 cost=  0.000561718772091\n",
      "Epoch: 0169 cost=  0.00056220240764\n",
      "Epoch: 0170 cost=  0.000562713626344\n",
      "Epoch: 0171 cost=  0.000563250548029\n",
      "Epoch: 0172 cost=  0.000563812984513\n",
      "Epoch: 0173 cost=  0.000564401741775\n",
      "Epoch: 0174 cost=  0.000565016390531\n",
      "Epoch: 0175 cost=  0.000565654313422\n",
      "Epoch: 0176 cost=  0.000566313730153\n",
      "Epoch: 0177 cost=  0.000566994696617\n",
      "Epoch: 0178 cost=  0.00056769712418\n",
      "Epoch: 0179 cost=  0.000568418347856\n",
      "Epoch: 0180 cost=  0.000569154004056\n",
      "Epoch: 0181 cost=  0.000569902241709\n",
      "Epoch: 0182 cost=  0.000570662954984\n",
      "Epoch: 0183 cost=  0.000571434125463\n",
      "Epoch: 0184 cost=  0.000572210474771\n",
      "Epoch: 0185 cost=  0.000572987475938\n",
      "Epoch: 0186 cost=  0.000573762056196\n",
      "Epoch: 0187 cost=  0.000574533280914\n",
      "Epoch: 0188 cost=  0.000575297889141\n",
      "Epoch: 0189 cost=  0.00057604981802\n",
      "Epoch: 0190 cost=  0.00057678385135\n",
      "Epoch: 0191 cost=  0.00057749749877\n",
      "Epoch: 0192 cost=  0.000578189697328\n",
      "Epoch: 0193 cost=  0.000578857444039\n",
      "Epoch: 0194 cost=  0.00057949560869\n",
      "Epoch: 0195 cost=  0.000580099720206\n",
      "Epoch: 0196 cost=  0.000580668773513\n",
      "Epoch: 0197 cost=  0.000581203433698\n",
      "Epoch: 0198 cost=  0.000581702525034\n",
      "Epoch: 0199 cost=  0.000582163919634\n",
      "Epoch: 0200 cost=  0.000582585849439\n"
     ]
    }
   ],
   "source": [
    "with tf.Session(graph=lstm_graph) as sess:\n",
    "    tf.global_variables_initializer().run()\n",
    "    \n",
    "    for epoch_step in range(max_epoch):\n",
    "        avg_cost = 0.\n",
    "        total_batch = int(len(train_x)/batch_size)\n",
    "        \n",
    "        for i in range(total_batch):\n",
    "            batch_X = train_x[(i*batch_size):((i*batch_size)+batch_size)]\n",
    "            batch_y = train_y[(i*batch_size):((i*batch_size)+batch_size)]\n",
    "            train_loss, _ = sess.run([loss, minimize], feed_dict = {inputs: batch_X, targets: batch_y})\n",
    "            avg_cost += train_loss / total_batch\n",
    "            \n",
    "        if (epoch_step) % 1 == 0:\n",
    "            print(\"Epoch:\", '%04d' % (epoch_step+1), \"cost= \",(avg_cost))\n",
    "    \n",
    "    prd_value = sess.run(prediction, feed_dict = {inputs: test_x})    "
   ]
  },
  {
   "cell_type": "code",
   "execution_count": 82,
   "metadata": {},
   "outputs": [
    {
     "data": {
      "text/plain": [
       "<matplotlib.legend.Legend at 0x7fede6b56898>"
      ]
     },
     "execution_count": 82,
     "metadata": {},
     "output_type": "execute_result"
    },
    {
     "data": {
      "image/png": "[encoded data removed]",
      "text/plain": [
       "<matplotlib.figure.Figure at 0x7fede6c276d8>"
      ]
     },
     "metadata": {},
     "output_type": "display_data"
    }
   ],
   "source": [
    "plt.plot(test,'b', label = 'actual')\n",
    "plt.plot(prd_value,'r', label = 'predicted')\n",
    "plt.legend(bbox_to_anchor=(1.05, 1), loc=2, borderaxespad=0.)"
   ]
  },
  {
   "cell_type": "code",
   "execution_count": null,
   "metadata": {
    "collapsed": true
   },
   "outputs": [],
   "source": []
  }
 ],
 "metadata": {
  "kernelspec": {
   "display_name": "Python 3",
   "language": "python",
   "name": "python3"
  },
  "language_info": {
   "codemirror_mode": {
    "name": "ipython",
    "version": 3
   },
   "file_extension": ".py",
   "mimetype": "text/x-python",
   "name": "python",
   "nbconvert_exporter": "python",
   "pygments_lexer": "ipython3",
   "version": "3.5.2"
  }
 },
 "nbformat": 4,
 "nbformat_minor": 2
}
