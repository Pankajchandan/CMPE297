{
 "cells": [
  {
   "cell_type": "code",
   "execution_count": 233,
   "metadata": {
    "collapsed": true
   },
   "outputs": [],
   "source": [
    "import pandas as pd\n",
    "import numpy as np\n",
    "import matplotlib.pyplot as plt\n",
    "%matplotlib inline\n",
    "from sklearn.preprocessing import MinMaxScaler\n",
    "import tensorflow as tf"
   ]
  },
  {
   "cell_type": "code",
   "execution_count": 234,
   "metadata": {
    "collapsed": true
   },
   "outputs": [],
   "source": [
    "input_size = 1 # no of past data to to consider\n",
    "num_steps = 1 # consecutive input elements are grouped into one training input\n",
    "lstm_size = 128 #number of units in one LSTM layer\n",
    "num_layers=1  # no of layers\n",
    "keep_prob=0.8 # keep probability of each node\n",
    "batch_size = 64 # batch size of input data\n",
    "learning_rate = 0.001 # learning rate\n",
    "max_epoch = 100 # no of epochs\n",
    "test_train_split = 0.8 #test train split"
   ]
  },
  {
   "cell_type": "code",
   "execution_count": 235,
   "metadata": {
    "collapsed": true
   },
   "outputs": [],
   "source": [
    "prices_dataset_train =  pd.read_csv('Google_Stock_Price_Train.csv', header=0)\n",
    "prices_dataset_test =  pd.read_csv('Google_Stock_Price_Test.csv', header=0)"
   ]
  },
  {
   "cell_type": "code",
   "execution_count": 236,
   "metadata": {},
   "outputs": [
    {
     "data": {
      "text/html": [
       "<div>\n",
       "<style>\n",
       "    .dataframe thead tr:only-child th {\n",
       "        text-align: right;\n",
       "    }\n",
       "\n",
       "    .dataframe thead th {\n",
       "        text-align: left;\n",
       "    }\n",
       "\n",
       "    .dataframe tbody tr th {\n",
       "        vertical-align: top;\n",
       "    }\n",
       "</style>\n",
       "<table border=\"1\" class=\"dataframe\">\n",
       "  <thead>\n",
       "    <tr style=\"text-align: right;\">\n",
       "      <th></th>\n",
       "      <th>Date</th>\n",
       "      <th>Open</th>\n",
       "      <th>High</th>\n",
       "      <th>Low</th>\n",
       "      <th>Close</th>\n",
       "      <th>Volume</th>\n",
       "    </tr>\n",
       "  </thead>\n",
       "  <tbody>\n",
       "    <tr>\n",
       "      <th>0</th>\n",
       "      <td>1/3/2012</td>\n",
       "      <td>325.25</td>\n",
       "      <td>332.83</td>\n",
       "      <td>324.97</td>\n",
       "      <td>663.59</td>\n",
       "      <td>7,380,500</td>\n",
       "    </tr>\n",
       "    <tr>\n",
       "      <th>1</th>\n",
       "      <td>1/4/2012</td>\n",
       "      <td>331.27</td>\n",
       "      <td>333.87</td>\n",
       "      <td>329.08</td>\n",
       "      <td>666.45</td>\n",
       "      <td>5,749,400</td>\n",
       "    </tr>\n",
       "    <tr>\n",
       "      <th>2</th>\n",
       "      <td>1/5/2012</td>\n",
       "      <td>329.83</td>\n",
       "      <td>330.75</td>\n",
       "      <td>326.89</td>\n",
       "      <td>657.21</td>\n",
       "      <td>6,590,300</td>\n",
       "    </tr>\n",
       "    <tr>\n",
       "      <th>3</th>\n",
       "      <td>1/6/2012</td>\n",
       "      <td>328.34</td>\n",
       "      <td>328.77</td>\n",
       "      <td>323.68</td>\n",
       "      <td>648.24</td>\n",
       "      <td>5,405,900</td>\n",
       "    </tr>\n",
       "    <tr>\n",
       "      <th>4</th>\n",
       "      <td>1/9/2012</td>\n",
       "      <td>322.04</td>\n",
       "      <td>322.29</td>\n",
       "      <td>309.46</td>\n",
       "      <td>620.76</td>\n",
       "      <td>11,688,800</td>\n",
       "    </tr>\n",
       "  </tbody>\n",
       "</table>\n",
       "</div>"
      ],
      "text/plain": [
       "       Date    Open    High     Low   Close      Volume\n",
       "0  1/3/2012  325.25  332.83  324.97  663.59   7,380,500\n",
       "1  1/4/2012  331.27  333.87  329.08  666.45   5,749,400\n",
       "2  1/5/2012  329.83  330.75  326.89  657.21   6,590,300\n",
       "3  1/6/2012  328.34  328.77  323.68  648.24   5,405,900\n",
       "4  1/9/2012  322.04  322.29  309.46  620.76  11,688,800"
      ]
     },
     "execution_count": 236,
     "metadata": {},
     "output_type": "execute_result"
    }
   ],
   "source": [
    "prices_dataset_train.head()"
   ]
  },
  {
   "cell_type": "code",
   "execution_count": 237,
   "metadata": {},
   "outputs": [
    {
     "data": {
      "text/html": [
       "<div>\n",
       "<style>\n",
       "    .dataframe thead tr:only-child th {\n",
       "        text-align: right;\n",
       "    }\n",
       "\n",
       "    .dataframe thead th {\n",
       "        text-align: left;\n",
       "    }\n",
       "\n",
       "    .dataframe tbody tr th {\n",
       "        vertical-align: top;\n",
       "    }\n",
       "</style>\n",
       "<table border=\"1\" class=\"dataframe\">\n",
       "  <thead>\n",
       "    <tr style=\"text-align: right;\">\n",
       "      <th></th>\n",
       "      <th>Date</th>\n",
       "      <th>Open</th>\n",
       "      <th>High</th>\n",
       "      <th>Low</th>\n",
       "      <th>Close</th>\n",
       "      <th>Volume</th>\n",
       "    </tr>\n",
       "  </thead>\n",
       "  <tbody>\n",
       "    <tr>\n",
       "      <th>0</th>\n",
       "      <td>1/3/2017</td>\n",
       "      <td>778.81</td>\n",
       "      <td>789.63</td>\n",
       "      <td>775.80</td>\n",
       "      <td>786.14</td>\n",
       "      <td>1,657,300</td>\n",
       "    </tr>\n",
       "    <tr>\n",
       "      <th>1</th>\n",
       "      <td>1/4/2017</td>\n",
       "      <td>788.36</td>\n",
       "      <td>791.34</td>\n",
       "      <td>783.16</td>\n",
       "      <td>786.90</td>\n",
       "      <td>1,073,000</td>\n",
       "    </tr>\n",
       "    <tr>\n",
       "      <th>2</th>\n",
       "      <td>1/5/2017</td>\n",
       "      <td>786.08</td>\n",
       "      <td>794.48</td>\n",
       "      <td>785.02</td>\n",
       "      <td>794.02</td>\n",
       "      <td>1,335,200</td>\n",
       "    </tr>\n",
       "    <tr>\n",
       "      <th>3</th>\n",
       "      <td>1/6/2017</td>\n",
       "      <td>795.26</td>\n",
       "      <td>807.90</td>\n",
       "      <td>792.20</td>\n",
       "      <td>806.15</td>\n",
       "      <td>1,640,200</td>\n",
       "    </tr>\n",
       "    <tr>\n",
       "      <th>4</th>\n",
       "      <td>1/9/2017</td>\n",
       "      <td>806.40</td>\n",
       "      <td>809.97</td>\n",
       "      <td>802.83</td>\n",
       "      <td>806.65</td>\n",
       "      <td>1,272,400</td>\n",
       "    </tr>\n",
       "  </tbody>\n",
       "</table>\n",
       "</div>"
      ],
      "text/plain": [
       "       Date    Open    High     Low   Close     Volume\n",
       "0  1/3/2017  778.81  789.63  775.80  786.14  1,657,300\n",
       "1  1/4/2017  788.36  791.34  783.16  786.90  1,073,000\n",
       "2  1/5/2017  786.08  794.48  785.02  794.02  1,335,200\n",
       "3  1/6/2017  795.26  807.90  792.20  806.15  1,640,200\n",
       "4  1/9/2017  806.40  809.97  802.83  806.65  1,272,400"
      ]
     },
     "execution_count": 237,
     "metadata": {},
     "output_type": "execute_result"
    }
   ],
   "source": [
    "prices_dataset_test.head()"
   ]
  },
  {
   "cell_type": "code",
   "execution_count": 238,
   "metadata": {
    "collapsed": true
   },
   "outputs": [],
   "source": [
    "#google_stock_prices_train = prices_dataset_train[\"Close\"]\n",
    "#google_stock_prices_test = prices_dataset_test[\"Close\"]\n",
    "google_stock_prices_train = prices_dataset_train.Open.values.astype('float32')\n",
    "google_stock_prices_test = prices_dataset_test.Open.values.astype('float32')"
   ]
  },
  {
   "cell_type": "code",
   "execution_count": 239,
   "metadata": {},
   "outputs": [
    {
     "name": "stdout",
     "output_type": "stream",
     "text": [
      "train shape:  (1258,)\n",
      "test shape:  (20,)\n"
     ]
    }
   ],
   "source": [
    "print(\"train shape: \",google_stock_prices_train.shape)\n",
    "print(\"test shape: \",google_stock_prices_test.shape)"
   ]
  },
  {
   "cell_type": "code",
   "execution_count": 240,
   "metadata": {},
   "outputs": [
    {
     "name": "stderr",
     "output_type": "stream",
     "text": [
      "/home/pankaj/.local/lib/python3.5/site-packages/sklearn/preprocessing/data.py:321: DeprecationWarning: Passing 1d arrays as data is deprecated in 0.17 and will raise ValueError in 0.19. Reshape your data either using X.reshape(-1, 1) if your data has a single feature or X.reshape(1, -1) if it contains a single sample.\n",
      "  warnings.warn(DEPRECATION_MSG_1D, DeprecationWarning)\n",
      "/home/pankaj/.local/lib/python3.5/site-packages/sklearn/preprocessing/data.py:356: DeprecationWarning: Passing 1d arrays as data is deprecated in 0.17 and will raise ValueError in 0.19. Reshape your data either using X.reshape(-1, 1) if your data has a single feature or X.reshape(1, -1) if it contains a single sample.\n",
      "  warnings.warn(DEPRECATION_MSG_1D, DeprecationWarning)\n",
      "/home/pankaj/.local/lib/python3.5/site-packages/sklearn/preprocessing/data.py:321: DeprecationWarning: Passing 1d arrays as data is deprecated in 0.17 and will raise ValueError in 0.19. Reshape your data either using X.reshape(-1, 1) if your data has a single feature or X.reshape(1, -1) if it contains a single sample.\n",
      "  warnings.warn(DEPRECATION_MSG_1D, DeprecationWarning)\n",
      "/home/pankaj/.local/lib/python3.5/site-packages/sklearn/preprocessing/data.py:356: DeprecationWarning: Passing 1d arrays as data is deprecated in 0.17 and will raise ValueError in 0.19. Reshape your data either using X.reshape(-1, 1) if your data has a single feature or X.reshape(1, -1) if it contains a single sample.\n",
      "  warnings.warn(DEPRECATION_MSG_1D, DeprecationWarning)\n"
     ]
    }
   ],
   "source": [
    "## preprocessing of data, scale data into a scale of 0 to 1\n",
    "scaler = MinMaxScaler(feature_range=(0, 1))\n",
    "google_stock_prices_train = scaler.fit_transform(google_stock_prices_train)\n",
    "google_stock_prices_test = scaler.fit_transform(google_stock_prices_test)"
   ]
  },
  {
   "cell_type": "code",
   "execution_count": 241,
   "metadata": {
    "collapsed": true
   },
   "outputs": [],
   "source": [
    "def create_dataset(seq, input_size, num_steps):\n",
    "    # group according to input size\n",
    "    seq = [np.array(seq[i * input_size: (i + 1) * input_size]) for i in range(len(seq) // input_size)]\n",
    "    \n",
    "    # Split into groups of `num_steps`\n",
    "    X = np.array([seq[i: i + num_steps] for i in range(len(seq) - num_steps)])\n",
    "    y = np.array([seq[i + num_steps] for i in range(len(seq) - num_steps)])\n",
    "    return X,y"
   ]
  },
  {
   "cell_type": "code",
   "execution_count": 242,
   "metadata": {
    "collapsed": true
   },
   "outputs": [],
   "source": [
    "train = google_stock_prices_train\n",
    "test = google_stock_prices_test"
   ]
  },
  {
   "cell_type": "code",
   "execution_count": 243,
   "metadata": {},
   "outputs": [
    {
     "data": {
      "text/plain": [
       "<matplotlib.legend.Legend at 0x7f0471a00dd8>"
      ]
     },
     "execution_count": 243,
     "metadata": {},
     "output_type": "execute_result"
    },
    {
     "data": {
      "image/png": "[encoded data removed]",
      "text/plain": [
       "<matplotlib.figure.Figure at 0x7f0471a006d8>"
      ]
     },
     "metadata": {},
     "output_type": "display_data"
    }
   ],
   "source": [
    "# train data\n",
    "plt.plot(train, label = 'train data')\n",
    "plt.legend(bbox_to_anchor=(1.05, 1), loc=2, borderaxespad=0.)"
   ]
  },
  {
   "cell_type": "code",
   "execution_count": 244,
   "metadata": {},
   "outputs": [
    {
     "data": {
      "text/plain": [
       "<matplotlib.legend.Legend at 0x7f047077b710>"
      ]
     },
     "execution_count": 244,
     "metadata": {},
     "output_type": "execute_result"
    },
    {
     "data": {
      "image/png": "[encoded data removed]",
      "text/plain": [
       "<matplotlib.figure.Figure at 0x7f047077b6a0>"
      ]
     },
     "metadata": {},
     "output_type": "display_data"
    }
   ],
   "source": [
    "#test data\n",
    "plt.plot(test, label ='test data')\n",
    "plt.legend(bbox_to_anchor=(1.05, 1), loc=2, borderaxespad=0.)"
   ]
  },
  {
   "cell_type": "code",
   "execution_count": 245,
   "metadata": {
    "collapsed": true
   },
   "outputs": [],
   "source": [
    "## create data test and train\n",
    "train_x,train_y = create_dataset(train,input_size, num_steps)\n",
    "test_x,test_y = create_dataset(test,input_size, num_steps)"
   ]
  },
  {
   "cell_type": "markdown",
   "metadata": {
    "collapsed": true
   },
   "source": [
    "## ANN"
   ]
  },
  {
   "cell_type": "code",
   "execution_count": 246,
   "metadata": {
    "collapsed": true
   },
   "outputs": [],
   "source": [
    "tf.reset_default_graph()\n",
    "ann_graph = tf.Graph()"
   ]
  },
  {
   "cell_type": "code",
   "execution_count": 247,
   "metadata": {
    "collapsed": true
   },
   "outputs": [],
   "source": [
    "with ann_graph.as_default():\n",
    "    inputs = tf.placeholder(tf.float32, [None, num_steps, input_size])\n",
    "    targets = tf.placeholder(tf.float32, [None, input_size])\n",
    "    # reshape the inputs\n",
    "    inputs_reshape = tf.reshape(inputs, [-1, num_steps * input_size])\n",
    "        \n",
    "    # declare weights and biases\n",
    "    W_1 = tf.get_variable(\n",
    "            name='W_1',\n",
    "            shape=[num_steps * input_size, lstm_size],\n",
    "            initializer = tf.contrib.layers.xavier_initializer(uniform=True, seed=None, dtype=tf.float32))\n",
    "    \n",
    "    B_1 = tf.get_variable(\n",
    "            name='B_1',\n",
    "            shape=[lstm_size],\n",
    "            initializer = tf.contrib.layers.xavier_initializer(uniform=True, seed=None, dtype=tf.float32))\n",
    "    \n",
    "    H_1 = tf.nn.bias_add(\n",
    "            name='H_1',\n",
    "            value=tf.matmul(inputs_reshape, W_1),\n",
    "            bias=B_1)\n",
    "    \n",
    "    H_1 = tf.nn.relu(H_1)\n",
    "    \n",
    "    W_2 = tf.get_variable(\n",
    "            name='W_2',\n",
    "            shape=[lstm_size, 1],\n",
    "            initializer = tf.contrib.layers.xavier_initializer(uniform=True, seed=None, dtype=tf.float32))\n",
    "    \n",
    "    B_2 = tf.get_variable(\n",
    "            name='B_2',\n",
    "            shape=[1],\n",
    "            initializer = tf.contrib.layers.xavier_initializer(uniform=True, seed=None, dtype=tf.float32))\n",
    "    \n",
    "    logits = tf.nn.bias_add(\n",
    "            name='logits',\n",
    "            value=tf.matmul(H_1, W_2),\n",
    "            bias=B_2)\n",
    "    \n",
    "    ## define cost function and minimize it\n",
    "    loss = tf.reduce_mean(tf.square(logits - targets))\n",
    "    optimizer = tf.train.AdamOptimizer(learning_rate)\n",
    "    minimize = optimizer.minimize(loss)"
   ]
  },
  {
   "cell_type": "code",
   "execution_count": 248,
   "metadata": {
    "scrolled": true
   },
   "outputs": [
    {
     "name": "stdout",
     "output_type": "stream",
     "text": [
      "Epoch: 0001 cost=  1.42707371398\n",
      "Epoch: 0011 cost=  0.00264037072453\n",
      "Epoch: 0021 cost=  0.00044794258199\n",
      "Epoch: 0031 cost=  0.000298060905296\n",
      "Epoch: 0041 cost=  0.000280589422848\n",
      "Epoch: 0051 cost=  0.00026756213667\n",
      "Epoch: 0061 cost=  0.000258350102644\n",
      "Epoch: 0071 cost=  0.000252088608058\n",
      "Epoch: 0081 cost=  0.000247938563821\n",
      "Epoch: 0091 cost=  0.000245163995714\n"
     ]
    }
   ],
   "source": [
    "with tf.Session(graph=ann_graph) as sess:\n",
    "    tf.global_variables_initializer().run()\n",
    "    \n",
    "    for epoch_step in range(max_epoch):\n",
    "        avg_cost = 0.\n",
    "        total_batch = int(len(train_x)/batch_size)\n",
    "        \n",
    "        for i in range(total_batch):\n",
    "            batch_X = train_x[(i*batch_size):((i*batch_size)+batch_size)]\n",
    "            batch_y = train_y[(i*batch_size):((i*batch_size)+batch_size)]\n",
    "            train_loss, _ = sess.run([loss, minimize], feed_dict = {inputs: batch_X, targets: batch_y})\n",
    "            avg_cost += train_loss / total_batch\n",
    "            \n",
    "        if (epoch_step) % 10 == 0:\n",
    "            print(\"Epoch:\", '%04d' % (epoch_step+1), \"cost= \",(avg_cost))\n",
    "    \n",
    "    prd_value = sess.run(logits, feed_dict = {inputs: test_x})  "
   ]
  },
  {
   "cell_type": "code",
   "execution_count": 249,
   "metadata": {},
   "outputs": [],
   "source": [
    "# unscale the data first\n",
    "test_unscaled = scaler.inverse_transform(test_y)\n",
    "prd_value_unscaled = scaler.inverse_transform(prd_value)"
   ]
  },
  {
   "cell_type": "code",
   "execution_count": 250,
   "metadata": {},
   "outputs": [
    {
     "data": {
      "text/plain": [
       "<matplotlib.legend.Legend at 0x7f044ee02f60>"
      ]
     },
     "execution_count": 250,
     "metadata": {},
     "output_type": "execute_result"
    },
    {
     "data": {
      "image/png": "[encoded data removed]",
      "text/plain": [
       "<matplotlib.figure.Figure at 0x7f044ef42208>"
      ]
     },
     "metadata": {},
     "output_type": "display_data"
    }
   ],
   "source": [
    "# plot the data points\n",
    "plt.plot(test_unscaled[:],'b', label = 'actual')\n",
    "plt.plot(prd_value_unscaled[:],'r', label = 'predicted')\n",
    "plt.legend(bbox_to_anchor=(1.05, 1), loc=2, borderaxespad=0.)"
   ]
  },
  {
   "cell_type": "markdown",
   "metadata": {},
   "source": [
    "### RNN"
   ]
  },
  {
   "cell_type": "code",
   "execution_count": 251,
   "metadata": {
    "collapsed": true
   },
   "outputs": [],
   "source": [
    "tf.reset_default_graph()\n",
    "rnn_graph = tf.Graph()"
   ]
  },
  {
   "cell_type": "code",
   "execution_count": 252,
   "metadata": {},
   "outputs": [
    {
     "name": "stderr",
     "output_type": "stream",
     "text": [
      "/home/pankaj/.local/lib/python3.5/site-packages/tensorflow/python/ops/gradients_impl.py:93: UserWarning: Converting sparse IndexedSlices to a dense Tensor of unknown shape. This may consume a large amount of memory.\n",
      "  \"Converting sparse IndexedSlices to a dense Tensor of unknown shape. \"\n"
     ]
    }
   ],
   "source": [
    "with rnn_graph.as_default():\n",
    "    inputs = tf.placeholder(tf.float32, [None, num_steps, input_size])\n",
    "    targets = tf.placeholder(tf.float32, [None, input_size])\n",
    "    #learning_rate = tf.placeholder(tf.float32, None)\n",
    "    \n",
    "    def create_one_cell():\n",
    "        return tf.contrib.rnn.BasicRNNCell(lstm_size)\n",
    "        if keep_prob < 1.0:\n",
    "            return tf.contrib.rnn.DropoutWrapper(lstm_cell, output_keep_prob=keep_prob)\n",
    "        \n",
    "    ##stack the cells into multiple layers if needed. MultiRNNCell helps connect sequentially multiple \n",
    "    ##simple cells to compose one cell.    \n",
    "    if num_layers > 1:\n",
    "        cell = tf.contrib.rnn.MultiRNNCell([create_one_cell() for _ in range(num_layers)], state_is_tuple=True)\n",
    "    else:\n",
    "        cell = create_one_cell()\n",
    "        \n",
    "    ## tf.nn.dynamic_rnn constructs a recurrent neural network specified by cell (RNNCell). \n",
    "    ## It returns a pair of (model outpus, state), where the outputs val is of size (batch_size, num_steps, \n",
    "    ## lstm_size) by default. The state refers to the current state of the LSTM cell, not consumed here.    \n",
    "    val, _ = tf.nn.dynamic_rnn(cell, inputs, dtype=tf.float32)\n",
    "    \n",
    "    # Before transpose, val.get_shape() = (batch_size, num_steps, lstm_size)\n",
    "    # After transpose, val.get_shape() = (num_steps, batch_size, lstm_size)\n",
    "    val = tf.transpose(val, [1, 0, 2])\n",
    "    # last.get_shape() = (batch_size, lstm_size)\n",
    "    last = tf.gather(val, int(val.get_shape()[0]) - 1, name=\"last_rnn_output\")\n",
    "    \n",
    "    # Define weights and biases between the hidden and output layers.\n",
    "    weight = tf.Variable(tf.truncated_normal([lstm_size, input_size]))\n",
    "    bias = tf.Variable(tf.constant(0.1, shape=[input_size]))\n",
    "    prediction = tf.matmul(last, weight) + bias\n",
    "    \n",
    "    ## define cost function and minimize it\n",
    "    loss = tf.reduce_mean(tf.square(prediction - targets))\n",
    "    optimizer = tf.train.AdamOptimizer(learning_rate)\n",
    "    minimize = optimizer.minimize(loss)"
   ]
  },
  {
   "cell_type": "code",
   "execution_count": 253,
   "metadata": {
    "scrolled": true
   },
   "outputs": [
    {
     "name": "stdout",
     "output_type": "stream",
     "text": [
      "Epoch: 0001 cost=  0.00320820186186\n",
      "Epoch: 0011 cost=  0.00249048140961\n",
      "Epoch: 0021 cost=  0.000591187209418\n",
      "Epoch: 0031 cost=  0.0156053786509\n",
      "Epoch: 0041 cost=  0.000604632693514\n",
      "Epoch: 0051 cost=  0.00024894456108\n",
      "Epoch: 0061 cost=  0.000458692045772\n",
      "Epoch: 0071 cost=  0.0357127834087\n",
      "Epoch: 0081 cost=  0.00119434503033\n",
      "Epoch: 0091 cost=  0.000242339500562\n"
     ]
    }
   ],
   "source": [
    "with tf.Session(graph=rnn_graph) as sess:\n",
    "    tf.global_variables_initializer().run()\n",
    "    \n",
    "    for epoch_step in range(max_epoch):\n",
    "        avg_cost = 0.\n",
    "        total_batch = int(len(train_x)/batch_size)\n",
    "        \n",
    "        for i in range(total_batch):\n",
    "            batch_X = train_x[(i*batch_size):((i*batch_size)+batch_size)]\n",
    "            batch_y = train_y[(i*batch_size):((i*batch_size)+batch_size)]\n",
    "            train_loss, _ = sess.run([loss, minimize], feed_dict = {inputs: batch_X, targets: batch_y})\n",
    "            avg_cost += train_loss / total_batch\n",
    "            \n",
    "        if (epoch_step) % 10 == 0:\n",
    "            print(\"Epoch:\", '%04d' % (epoch_step+1), \"cost= \",(avg_cost))\n",
    "    \n",
    "    prd_value = sess.run(prediction, feed_dict = {inputs: test_x})    "
   ]
  },
  {
   "cell_type": "code",
   "execution_count": 254,
   "metadata": {},
   "outputs": [],
   "source": [
    "# unscale the data first\n",
    "test_unscaled = scaler.inverse_transform(test_y)\n",
    "prd_value_unscaled = scaler.inverse_transform(prd_value)"
   ]
  },
  {
   "cell_type": "code",
   "execution_count": 255,
   "metadata": {},
   "outputs": [
    {
     "data": {
      "text/plain": [
       "<matplotlib.legend.Legend at 0x7f044236b400>"
      ]
     },
     "execution_count": 255,
     "metadata": {},
     "output_type": "execute_result"
    },
    {
     "data": {
      "image/png": "[encoded data removed]",
      "text/plain": [
       "<matplotlib.figure.Figure at 0x7f04425cb0b8>"
      ]
     },
     "metadata": {},
     "output_type": "display_data"
    }
   ],
   "source": [
    "# plot the data points\n",
    "plt.plot(test_unscaled[:],'b', label = 'actual')\n",
    "plt.plot(prd_value_unscaled[:],'r', label = 'predicted')\n",
    "plt.legend(bbox_to_anchor=(1.05, 1), loc=2, borderaxespad=0.)"
   ]
  },
  {
   "cell_type": "markdown",
   "metadata": {},
   "source": [
    "### LSTM"
   ]
  },
  {
   "cell_type": "code",
   "execution_count": 256,
   "metadata": {
    "collapsed": true
   },
   "outputs": [],
   "source": [
    "tf.reset_default_graph()\n",
    "lstm_graph = tf.Graph()"
   ]
  },
  {
   "cell_type": "code",
   "execution_count": 257,
   "metadata": {},
   "outputs": [
    {
     "name": "stderr",
     "output_type": "stream",
     "text": [
      "/home/pankaj/.local/lib/python3.5/site-packages/tensorflow/python/ops/gradients_impl.py:93: UserWarning: Converting sparse IndexedSlices to a dense Tensor of unknown shape. This may consume a large amount of memory.\n",
      "  \"Converting sparse IndexedSlices to a dense Tensor of unknown shape. \"\n"
     ]
    }
   ],
   "source": [
    "with lstm_graph.as_default():\n",
    "    inputs = tf.placeholder(tf.float32, [None, num_steps, input_size])\n",
    "    targets = tf.placeholder(tf.float32, [None, input_size])\n",
    "    #learning_rate = tf.placeholder(tf.float32, None)\n",
    "    \n",
    "    def create_one_cell():\n",
    "        return tf.contrib.rnn.LSTMCell(lstm_size, state_is_tuple=True)\n",
    "        if keep_prob < 1.0:\n",
    "            return tf.contrib.rnn.DropoutWrapper(lstm_cell, output_keep_prob=keep_prob)\n",
    "        \n",
    "    ##stack the cells into multiple layers if needed. MultiRNNCell helps connect sequentially multiple \n",
    "    ##simple cells to compose one cell.    \n",
    "    if num_layers > 1:\n",
    "        cell = tf.contrib.rnn.MultiRNNCell([create_one_cell() for _ in range(num_layers)], state_is_tuple=True)\n",
    "    else:\n",
    "        cell = create_one_cell()\n",
    "        \n",
    "    ## tf.nn.dynamic_rnn constructs a recurrent neural network specified by cell (RNNCell). \n",
    "    ## It returns a pair of (model outpus, state), where the outputs val is of size (batch_size, num_steps, \n",
    "    ## lstm_size) by default. The state refers to the current state of the LSTM cell, not consumed here.    \n",
    "    val, _ = tf.nn.dynamic_rnn(cell, inputs, dtype=tf.float32)\n",
    "    \n",
    "    # Before transpose, val.get_shape() = (batch_size, num_steps, lstm_size)\n",
    "    # After transpose, val.get_shape() = (num_steps, batch_size, lstm_size)\n",
    "    val = tf.transpose(val, [1, 0, 2])\n",
    "    # last.get_shape() = (batch_size, lstm_size)\n",
    "    last = tf.gather(val, int(val.get_shape()[0]) - 1, name=\"last_lstm_output\")\n",
    "    \n",
    "    # Define weights and biases between the hidden and output layers.\n",
    "    weight = tf.Variable(tf.truncated_normal([lstm_size, input_size]))\n",
    "    bias = tf.Variable(tf.constant(0.1, shape=[input_size]))\n",
    "    prediction = tf.matmul(last, weight) + bias\n",
    "    \n",
    "    ## define cost function and minimize it\n",
    "    loss = tf.reduce_mean(tf.square(prediction - targets))\n",
    "    optimizer = tf.train.AdamOptimizer(learning_rate)\n",
    "    minimize = optimizer.minimize(loss)\n",
    "    "
   ]
  },
  {
   "cell_type": "code",
   "execution_count": 258,
   "metadata": {
    "scrolled": true
   },
   "outputs": [
    {
     "name": "stdout",
     "output_type": "stream",
     "text": [
      "Epoch: 0001 cost=  0.142369862027\n",
      "Epoch: 0011 cost=  0.000751590493325\n",
      "Epoch: 0021 cost=  0.000295253460966\n",
      "Epoch: 0031 cost=  0.00029977967585\n",
      "Epoch: 0041 cost=  0.000303209933918\n",
      "Epoch: 0051 cost=  0.000305399087282\n",
      "Epoch: 0061 cost=  0.000305981879616\n",
      "Epoch: 0071 cost=  0.000304262466288\n",
      "Epoch: 0081 cost=  0.00029906473432\n",
      "Epoch: 0091 cost=  0.000288663816096\n"
     ]
    }
   ],
   "source": [
    "with tf.Session(graph=lstm_graph) as sess:\n",
    "    tf.global_variables_initializer().run()\n",
    "    \n",
    "    for epoch_step in range(max_epoch):\n",
    "        avg_cost = 0.\n",
    "        total_batch = int(len(train_x)/batch_size)\n",
    "        \n",
    "        for i in range(total_batch):\n",
    "            batch_X = train_x[(i*batch_size):((i*batch_size)+batch_size)]\n",
    "            batch_y = train_y[(i*batch_size):((i*batch_size)+batch_size)]\n",
    "            train_loss, _ = sess.run([loss, minimize], feed_dict = {inputs: batch_X, targets: batch_y})\n",
    "            avg_cost += train_loss / total_batch\n",
    "            \n",
    "        if (epoch_step) % 10 == 0:\n",
    "            print(\"Epoch:\", '%04d' % (epoch_step+1), \"cost= \",(avg_cost))\n",
    "    \n",
    "    prd_value = sess.run(prediction, feed_dict = {inputs: test_x})    "
   ]
  },
  {
   "cell_type": "code",
   "execution_count": 259,
   "metadata": {},
   "outputs": [],
   "source": [
    "# unscale the data first\n",
    "test_unscaled = scaler.inverse_transform(test_y)\n",
    "prd_value_unscaled = scaler.inverse_transform(prd_value)"
   ]
  },
  {
   "cell_type": "code",
   "execution_count": 260,
   "metadata": {},
   "outputs": [
    {
     "data": {
      "text/plain": [
       "<matplotlib.legend.Legend at 0x7f0441f7e5f8>"
      ]
     },
     "execution_count": 260,
     "metadata": {},
     "output_type": "execute_result"
    },
    {
     "data": {
      "image/png": "[encoded data removed]",
      "text/plain": [
       "<matplotlib.figure.Figure at 0x7f044ee1f898>"
      ]
     },
     "metadata": {},
     "output_type": "display_data"
    }
   ],
   "source": [
    "# plot the data points\n",
    "plt.plot(test_unscaled[:],'b', label = 'actual')\n",
    "plt.plot(prd_value_unscaled[:],'r', label = 'predicted')\n",
    "plt.legend(bbox_to_anchor=(1.05, 1), loc=2, borderaxespad=0.)"
   ]
  }
 ],
 "metadata": {
  "kernelspec": {
   "display_name": "Python 3",
   "language": "python",
   "name": "python3"
  },
  "language_info": {
   "codemirror_mode": {
    "name": "ipython",
    "version": 3
   },
   "file_extension": ".py",
   "mimetype": "text/x-python",
   "name": "python",
   "nbconvert_exporter": "python",
   "pygments_lexer": "ipython3",
   "version": "3.5.2"
  }
 },
 "nbformat": 4,
 "nbformat_minor": 2
}
