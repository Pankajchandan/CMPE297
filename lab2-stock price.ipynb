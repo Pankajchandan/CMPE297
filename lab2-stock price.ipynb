{
 "cells": [
  {
   "cell_type": "code",
   "execution_count": 71,
   "metadata": {
    "collapsed": true
   },
   "outputs": [],
   "source": [
    "import pandas as pd\n",
    "import numpy as np\n",
    "import matplotlib.pyplot as plt\n",
    "%matplotlib inline\n",
    "from sklearn.preprocessing import MinMaxScaler\n",
    "import tensorflow as tf"
   ]
  },
  {
   "cell_type": "code",
   "execution_count": 72,
   "metadata": {
    "collapsed": true
   },
   "outputs": [],
   "source": [
    "input_size = 1 # no of past data to to consider\n",
    "num_steps = 1 # consecutive input elements are grouped into one training input\n",
    "lstm_size = 128 #number of units in one LSTM layer\n",
    "num_layers=1  # no of layers\n",
    "keep_prob=0.8 # keep probability of each node\n",
    "batch_size = 64 # batch size of input data\n",
    "learning_rate = 0.001 # learning rate\n",
    "max_epoch = 200 # no of epochs\n",
    "test_train_split = 0.8 #test train split"
   ]
  },
  {
   "cell_type": "code",
   "execution_count": 73,
   "metadata": {
    "collapsed": true
   },
   "outputs": [],
   "source": [
    "prices_dataset_train =  pd.read_csv('Google_Stock_Price_Train.csv', header=0)\n",
    "prices_dataset_test =  pd.read_csv('Google_Stock_Price_Test.csv', header=0)"
   ]
  },
  {
   "cell_type": "code",
   "execution_count": 74,
   "metadata": {},
   "outputs": [
    {
     "data": {
      "text/html": [
       "<div>\n",
       "<style>\n",
       "    .dataframe thead tr:only-child th {\n",
       "        text-align: right;\n",
       "    }\n",
       "\n",
       "    .dataframe thead th {\n",
       "        text-align: left;\n",
       "    }\n",
       "\n",
       "    .dataframe tbody tr th {\n",
       "        vertical-align: top;\n",
       "    }\n",
       "</style>\n",
       "<table border=\"1\" class=\"dataframe\">\n",
       "  <thead>\n",
       "    <tr style=\"text-align: right;\">\n",
       "      <th></th>\n",
       "      <th>Date</th>\n",
       "      <th>Open</th>\n",
       "      <th>High</th>\n",
       "      <th>Low</th>\n",
       "      <th>Close</th>\n",
       "      <th>Volume</th>\n",
       "    </tr>\n",
       "  </thead>\n",
       "  <tbody>\n",
       "    <tr>\n",
       "      <th>0</th>\n",
       "      <td>1/3/2012</td>\n",
       "      <td>325.25</td>\n",
       "      <td>332.83</td>\n",
       "      <td>324.97</td>\n",
       "      <td>663.59</td>\n",
       "      <td>7,380,500</td>\n",
       "    </tr>\n",
       "    <tr>\n",
       "      <th>1</th>\n",
       "      <td>1/4/2012</td>\n",
       "      <td>331.27</td>\n",
       "      <td>333.87</td>\n",
       "      <td>329.08</td>\n",
       "      <td>666.45</td>\n",
       "      <td>5,749,400</td>\n",
       "    </tr>\n",
       "    <tr>\n",
       "      <th>2</th>\n",
       "      <td>1/5/2012</td>\n",
       "      <td>329.83</td>\n",
       "      <td>330.75</td>\n",
       "      <td>326.89</td>\n",
       "      <td>657.21</td>\n",
       "      <td>6,590,300</td>\n",
       "    </tr>\n",
       "    <tr>\n",
       "      <th>3</th>\n",
       "      <td>1/6/2012</td>\n",
       "      <td>328.34</td>\n",
       "      <td>328.77</td>\n",
       "      <td>323.68</td>\n",
       "      <td>648.24</td>\n",
       "      <td>5,405,900</td>\n",
       "    </tr>\n",
       "    <tr>\n",
       "      <th>4</th>\n",
       "      <td>1/9/2012</td>\n",
       "      <td>322.04</td>\n",
       "      <td>322.29</td>\n",
       "      <td>309.46</td>\n",
       "      <td>620.76</td>\n",
       "      <td>11,688,800</td>\n",
       "    </tr>\n",
       "  </tbody>\n",
       "</table>\n",
       "</div>"
      ],
      "text/plain": [
       "       Date    Open    High     Low   Close      Volume\n",
       "0  1/3/2012  325.25  332.83  324.97  663.59   7,380,500\n",
       "1  1/4/2012  331.27  333.87  329.08  666.45   5,749,400\n",
       "2  1/5/2012  329.83  330.75  326.89  657.21   6,590,300\n",
       "3  1/6/2012  328.34  328.77  323.68  648.24   5,405,900\n",
       "4  1/9/2012  322.04  322.29  309.46  620.76  11,688,800"
      ]
     },
     "execution_count": 74,
     "metadata": {},
     "output_type": "execute_result"
    }
   ],
   "source": [
    "prices_dataset_train.head()"
   ]
  },
  {
   "cell_type": "code",
   "execution_count": 75,
   "metadata": {},
   "outputs": [
    {
     "data": {
      "text/html": [
       "<div>\n",
       "<style>\n",
       "    .dataframe thead tr:only-child th {\n",
       "        text-align: right;\n",
       "    }\n",
       "\n",
       "    .dataframe thead th {\n",
       "        text-align: left;\n",
       "    }\n",
       "\n",
       "    .dataframe tbody tr th {\n",
       "        vertical-align: top;\n",
       "    }\n",
       "</style>\n",
       "<table border=\"1\" class=\"dataframe\">\n",
       "  <thead>\n",
       "    <tr style=\"text-align: right;\">\n",
       "      <th></th>\n",
       "      <th>Date</th>\n",
       "      <th>Open</th>\n",
       "      <th>High</th>\n",
       "      <th>Low</th>\n",
       "      <th>Close</th>\n",
       "      <th>Volume</th>\n",
       "    </tr>\n",
       "  </thead>\n",
       "  <tbody>\n",
       "    <tr>\n",
       "      <th>0</th>\n",
       "      <td>1/3/2017</td>\n",
       "      <td>778.81</td>\n",
       "      <td>789.63</td>\n",
       "      <td>775.80</td>\n",
       "      <td>786.14</td>\n",
       "      <td>1,657,300</td>\n",
       "    </tr>\n",
       "    <tr>\n",
       "      <th>1</th>\n",
       "      <td>1/4/2017</td>\n",
       "      <td>788.36</td>\n",
       "      <td>791.34</td>\n",
       "      <td>783.16</td>\n",
       "      <td>786.90</td>\n",
       "      <td>1,073,000</td>\n",
       "    </tr>\n",
       "    <tr>\n",
       "      <th>2</th>\n",
       "      <td>1/5/2017</td>\n",
       "      <td>786.08</td>\n",
       "      <td>794.48</td>\n",
       "      <td>785.02</td>\n",
       "      <td>794.02</td>\n",
       "      <td>1,335,200</td>\n",
       "    </tr>\n",
       "    <tr>\n",
       "      <th>3</th>\n",
       "      <td>1/6/2017</td>\n",
       "      <td>795.26</td>\n",
       "      <td>807.90</td>\n",
       "      <td>792.20</td>\n",
       "      <td>806.15</td>\n",
       "      <td>1,640,200</td>\n",
       "    </tr>\n",
       "    <tr>\n",
       "      <th>4</th>\n",
       "      <td>1/9/2017</td>\n",
       "      <td>806.40</td>\n",
       "      <td>809.97</td>\n",
       "      <td>802.83</td>\n",
       "      <td>806.65</td>\n",
       "      <td>1,272,400</td>\n",
       "    </tr>\n",
       "  </tbody>\n",
       "</table>\n",
       "</div>"
      ],
      "text/plain": [
       "       Date    Open    High     Low   Close     Volume\n",
       "0  1/3/2017  778.81  789.63  775.80  786.14  1,657,300\n",
       "1  1/4/2017  788.36  791.34  783.16  786.90  1,073,000\n",
       "2  1/5/2017  786.08  794.48  785.02  794.02  1,335,200\n",
       "3  1/6/2017  795.26  807.90  792.20  806.15  1,640,200\n",
       "4  1/9/2017  806.40  809.97  802.83  806.65  1,272,400"
      ]
     },
     "execution_count": 75,
     "metadata": {},
     "output_type": "execute_result"
    }
   ],
   "source": [
    "prices_dataset_test.head()"
   ]
  },
  {
   "cell_type": "code",
   "execution_count": 76,
   "metadata": {
    "collapsed": true
   },
   "outputs": [],
   "source": [
    "#google_stock_prices_train = prices_dataset_train[\"Close\"]\n",
    "#google_stock_prices_test = prices_dataset_test[\"Close\"]\n",
    "google_stock_prices_train = prices_dataset_train.Close.values.astype('float32')\n",
    "google_stock_prices_test = prices_dataset_test.Close.values.astype('float32')"
   ]
  },
  {
   "cell_type": "code",
   "execution_count": 77,
   "metadata": {},
   "outputs": [
    {
     "name": "stdout",
     "output_type": "stream",
     "text": [
      "train shape:  (1258,)\n",
      "test shape:  (20,)\n"
     ]
    }
   ],
   "source": [
    "print(\"train shape: \",google_stock_prices_train.shape)\n",
    "print(\"test shape: \",google_stock_prices_test.shape)"
   ]
  },
  {
   "cell_type": "code",
   "execution_count": 78,
   "metadata": {},
   "outputs": [
    {
     "name": "stderr",
     "output_type": "stream",
     "text": [
      "/home/pankaj/.local/lib/python3.5/site-packages/sklearn/preprocessing/data.py:321: DeprecationWarning: Passing 1d arrays as data is deprecated in 0.17 and will raise ValueError in 0.19. Reshape your data either using X.reshape(-1, 1) if your data has a single feature or X.reshape(1, -1) if it contains a single sample.\n",
      "  warnings.warn(DEPRECATION_MSG_1D, DeprecationWarning)\n",
      "/home/pankaj/.local/lib/python3.5/site-packages/sklearn/preprocessing/data.py:356: DeprecationWarning: Passing 1d arrays as data is deprecated in 0.17 and will raise ValueError in 0.19. Reshape your data either using X.reshape(-1, 1) if your data has a single feature or X.reshape(1, -1) if it contains a single sample.\n",
      "  warnings.warn(DEPRECATION_MSG_1D, DeprecationWarning)\n",
      "/home/pankaj/.local/lib/python3.5/site-packages/sklearn/preprocessing/data.py:321: DeprecationWarning: Passing 1d arrays as data is deprecated in 0.17 and will raise ValueError in 0.19. Reshape your data either using X.reshape(-1, 1) if your data has a single feature or X.reshape(1, -1) if it contains a single sample.\n",
      "  warnings.warn(DEPRECATION_MSG_1D, DeprecationWarning)\n",
      "/home/pankaj/.local/lib/python3.5/site-packages/sklearn/preprocessing/data.py:356: DeprecationWarning: Passing 1d arrays as data is deprecated in 0.17 and will raise ValueError in 0.19. Reshape your data either using X.reshape(-1, 1) if your data has a single feature or X.reshape(1, -1) if it contains a single sample.\n",
      "  warnings.warn(DEPRECATION_MSG_1D, DeprecationWarning)\n"
     ]
    }
   ],
   "source": [
    "## preprocessing of data, scale data into a scale of 0 to 1\n",
    "scaler = MinMaxScaler(feature_range=(0, 1))\n",
    "google_stock_prices_train = scaler.fit_transform(google_stock_prices_train)\n",
    "google_stock_prices_test = scaler.fit_transform(google_stock_prices_test)"
   ]
  },
  {
   "cell_type": "code",
   "execution_count": 79,
   "metadata": {
    "collapsed": true
   },
   "outputs": [],
   "source": [
    "def create_dataset(seq, input_size, num_steps):\n",
    "    # group according to input size\n",
    "    seq = [np.array(seq[i * input_size: (i + 1) * input_size]) for i in range(len(seq) // input_size)]\n",
    "    \n",
    "    # Split into groups of `num_steps`\n",
    "    X = np.array([seq[i: i + num_steps] for i in range(len(seq) - num_steps)])\n",
    "    y = np.array([seq[i + num_steps] for i in range(len(seq) - num_steps)])\n",
    "    return X,y"
   ]
  },
  {
   "cell_type": "code",
   "execution_count": 80,
   "metadata": {
    "collapsed": true
   },
   "outputs": [],
   "source": [
    "train = google_stock_prices_train\n",
    "test = google_stock_prices_test"
   ]
  },
  {
   "cell_type": "code",
   "execution_count": 81,
   "metadata": {},
   "outputs": [
    {
     "data": {
      "text/plain": [
       "<matplotlib.legend.Legend at 0x7f5613f48710>"
      ]
     },
     "execution_count": 81,
     "metadata": {},
     "output_type": "execute_result"
    },
    {
     "data": {
      "image/png": "[encoded data removed]",
      "text/plain": [
       "<matplotlib.figure.Figure at 0x7f5613f486d8>"
      ]
     },
     "metadata": {},
     "output_type": "display_data"
    }
   ],
   "source": [
    "# train data\n",
    "plt.plot(train, label = 'train data')\n",
    "plt.legend(bbox_to_anchor=(1.05, 1), loc=2, borderaxespad=0.)"
   ]
  },
  {
   "cell_type": "code",
   "execution_count": 82,
   "metadata": {},
   "outputs": [
    {
     "data": {
      "text/plain": [
       "<matplotlib.legend.Legend at 0x7f561888d278>"
      ]
     },
     "execution_count": 82,
     "metadata": {},
     "output_type": "execute_result"
    },
    {
     "data": {
      "image/png": "[encoded data removed]",
      "text/plain": [
       "<matplotlib.figure.Figure at 0x7f561888d2b0>"
      ]
     },
     "metadata": {},
     "output_type": "display_data"
    }
   ],
   "source": [
    "#test data\n",
    "plt.plot(test, label ='test data')\n",
    "plt.legend(bbox_to_anchor=(1.05, 1), loc=2, borderaxespad=0.)"
   ]
  },
  {
   "cell_type": "code",
   "execution_count": 83,
   "metadata": {
    "collapsed": true
   },
   "outputs": [],
   "source": [
    "## create data test and train\n",
    "train_x,train_y = create_dataset(train,input_size, num_steps)\n",
    "test_x,test_y = create_dataset(test,input_size, num_steps)"
   ]
  },
  {
   "cell_type": "markdown",
   "metadata": {
    "collapsed": true
   },
   "source": [
    "## ANN"
   ]
  },
  {
   "cell_type": "code",
   "execution_count": 84,
   "metadata": {
    "collapsed": true
   },
   "outputs": [],
   "source": [
    "tf.reset_default_graph()\n",
    "ann_graph = tf.Graph()"
   ]
  },
  {
   "cell_type": "code",
   "execution_count": 85,
   "metadata": {},
   "outputs": [],
   "source": [
    "with ann_graph.as_default():\n",
    "    inputs = tf.placeholder(tf.float32, [None, num_steps, input_size])\n",
    "    targets = tf.placeholder(tf.float32, [None, input_size])\n",
    "    # reshape the inputs\n",
    "    inputs_reshape = tf.reshape(inputs, [-1, num_steps * input_size])\n",
    "        \n",
    "    # declare weights and biases\n",
    "    W_1 = tf.get_variable(\n",
    "            name='W_1',\n",
    "            shape=[num_steps * input_size, lstm_size],\n",
    "            initializer = tf.contrib.layers.xavier_initializer(uniform=True, seed=None, dtype=tf.float32))\n",
    "    \n",
    "    B_1 = tf.get_variable(\n",
    "            name='B_1',\n",
    "            shape=[lstm_size],\n",
    "            initializer = tf.contrib.layers.xavier_initializer(uniform=True, seed=None, dtype=tf.float32))\n",
    "    \n",
    "    H_1 = tf.nn.bias_add(\n",
    "            name='H_1',\n",
    "            value=tf.matmul(inputs_reshape, W_1),\n",
    "            bias=B_1)\n",
    "    \n",
    "    H_1 = tf.nn.relu(H_1)\n",
    "    \n",
    "    W_2 = tf.get_variable(\n",
    "            name='W_2',\n",
    "            shape=[lstm_size, 1],\n",
    "            initializer = tf.contrib.layers.xavier_initializer(uniform=True, seed=None, dtype=tf.float32))\n",
    "    \n",
    "    B_2 = tf.get_variable(\n",
    "            name='B_2',\n",
    "            shape=[1],\n",
    "            initializer = tf.contrib.layers.xavier_initializer(uniform=True, seed=None, dtype=tf.float32))\n",
    "    \n",
    "    logits = tf.nn.bias_add(\n",
    "            name='logits',\n",
    "            value=tf.matmul(H_1, W_2),\n",
    "            bias=B_2)\n",
    "    \n",
    "    ## define cost function and minimize it\n",
    "    loss = tf.reduce_mean(tf.square(logits - targets))\n",
    "    optimizer = tf.train.AdamOptimizer(learning_rate)\n",
    "    minimize = optimizer.minimize(loss)"
   ]
  },
  {
   "cell_type": "code",
   "execution_count": 86,
   "metadata": {},
   "outputs": [
    {
     "name": "stdout",
     "output_type": "stream",
     "text": [
      "Epoch: 0001 cost=  0.0783474714936\n",
      "Epoch: 0002 cost=  0.0367860439736\n",
      "Epoch: 0003 cost=  0.0272966089634\n",
      "Epoch: 0004 cost=  0.0210497931893\n",
      "Epoch: 0005 cost=  0.016091402133\n",
      "Epoch: 0006 cost=  0.0119070412551\n",
      "Epoch: 0007 cost=  0.00843004833548\n",
      "Epoch: 0008 cost=  0.00574470077194\n",
      "Epoch: 0009 cost=  0.00378285456559\n",
      "Epoch: 0010 cost=  0.00245700258069\n",
      "Epoch: 0011 cost=  0.00163499822405\n",
      "Epoch: 0012 cost=  0.00117002782568\n",
      "Epoch: 0013 cost=  0.000931137939532\n",
      "Epoch: 0014 cost=  0.000819653895298\n",
      "Epoch: 0015 cost=  0.00077227601325\n",
      "Epoch: 0016 cost=  0.000753371077161\n",
      "Epoch: 0017 cost=  0.000745929609509\n",
      "Epoch: 0018 cost=  0.000742641904492\n",
      "Epoch: 0019 cost=  0.000740329666051\n",
      "Epoch: 0020 cost=  0.000738642004236\n",
      "Epoch: 0021 cost=  0.000737312327194\n",
      "Epoch: 0022 cost=  0.000736081421277\n",
      "Epoch: 0023 cost=  0.000735034744905\n",
      "Epoch: 0024 cost=  0.000734134116532\n",
      "Epoch: 0025 cost=  0.000733370101156\n",
      "Epoch: 0026 cost=  0.000732679196134\n",
      "Epoch: 0027 cost=  0.000731793061852\n",
      "Epoch: 0028 cost=  0.000730696976749\n",
      "Epoch: 0029 cost=  0.000729739957023\n",
      "Epoch: 0030 cost=  0.000728906906213\n",
      "Epoch: 0031 cost=  0.000728200095182\n",
      "Epoch: 0032 cost=  0.000727648106955\n",
      "Epoch: 0033 cost=  0.000727256305828\n",
      "Epoch: 0034 cost=  0.000726966180848\n",
      "Epoch: 0035 cost=  0.0007267642309\n",
      "Epoch: 0036 cost=  0.000726595650409\n",
      "Epoch: 0037 cost=  0.000726439035038\n",
      "Epoch: 0038 cost=  0.000726281183138\n",
      "Epoch: 0039 cost=  0.000726147467886\n",
      "Epoch: 0040 cost=  0.000726027501514\n",
      "Epoch: 0041 cost=  0.000725916551202\n",
      "Epoch: 0042 cost=  0.000725810978589\n",
      "Epoch: 0043 cost=  0.00072572508859\n",
      "Epoch: 0044 cost=  0.000725169471958\n",
      "Epoch: 0045 cost=  0.000724600852807\n",
      "Epoch: 0046 cost=  0.000724071467534\n",
      "Epoch: 0047 cost=  0.000723633203291\n",
      "Epoch: 0048 cost=  0.00072321426131\n",
      "Epoch: 0049 cost=  0.000722923915754\n",
      "Epoch: 0050 cost=  0.000722723285435\n",
      "Epoch: 0051 cost=  0.000722620628566\n",
      "Epoch: 0052 cost=  0.000722559069369\n",
      "Epoch: 0053 cost=  0.000722511286624\n",
      "Epoch: 0054 cost=  0.000722450759081\n",
      "Epoch: 0055 cost=  0.000722391475344\n",
      "Epoch: 0056 cost=  0.000722335233341\n",
      "Epoch: 0057 cost=  0.000722281431847\n",
      "Epoch: 0058 cost=  0.000722230339689\n",
      "Epoch: 0059 cost=  0.000722183482139\n",
      "Epoch: 0060 cost=  0.000722147598265\n",
      "Epoch: 0061 cost=  0.000722111782938\n",
      "Epoch: 0062 cost=  0.000722077018796\n",
      "Epoch: 0063 cost=  0.00072204829523\n",
      "Epoch: 0064 cost=  0.000722019968778\n",
      "Epoch: 0065 cost=  0.000721995899144\n",
      "Epoch: 0066 cost=  0.000721977847876\n",
      "Epoch: 0067 cost=  0.000721971246668\n",
      "Epoch: 0068 cost=  0.000721966931259\n",
      "Epoch: 0069 cost=  0.000721958257169\n",
      "Epoch: 0070 cost=  0.000721946815151\n",
      "Epoch: 0071 cost=  0.000721952335688\n",
      "Epoch: 0072 cost=  0.00072196085775\n",
      "Epoch: 0073 cost=  0.000721949327654\n",
      "Epoch: 0074 cost=  0.000721949784508\n",
      "Epoch: 0075 cost=  0.00072196769983\n",
      "Epoch: 0076 cost=  0.00072197952441\n",
      "Epoch: 0077 cost=  0.000721994014671\n",
      "Epoch: 0078 cost=  0.000722010964589\n",
      "Epoch: 0079 cost=  0.000722019554048\n",
      "Epoch: 0080 cost=  0.000722016097203\n",
      "Epoch: 0081 cost=  0.000722011149551\n",
      "Epoch: 0082 cost=  0.000722005391205\n",
      "Epoch: 0083 cost=  0.000722021582126\n",
      "Epoch: 0084 cost=  0.000722030283788\n",
      "Epoch: 0085 cost=  0.000722020978604\n",
      "Epoch: 0086 cost=  0.000722027474886\n",
      "Epoch: 0087 cost=  0.000722046866844\n",
      "Epoch: 0088 cost=  0.000722070668034\n",
      "Epoch: 0089 cost=  0.000722091129941\n",
      "Epoch: 0090 cost=  0.000722106885836\n",
      "Epoch: 0091 cost=  0.000722137564337\n",
      "Epoch: 0092 cost=  0.000722179497212\n",
      "Epoch: 0093 cost=  0.000722205837711\n",
      "Epoch: 0094 cost=  0.000722214331817\n",
      "Epoch: 0095 cost=  0.000722234859208\n",
      "Epoch: 0096 cost=  0.000722260826718\n",
      "Epoch: 0097 cost=  0.000722297865554\n",
      "Epoch: 0098 cost=  0.000722333106846\n",
      "Epoch: 0099 cost=  0.000722357191415\n",
      "Epoch: 0100 cost=  0.000722399135779\n",
      "Epoch: 0101 cost=  0.000722436475993\n",
      "Epoch: 0102 cost=  0.000722468859749\n",
      "Epoch: 0103 cost=  0.000722512999537\n",
      "Epoch: 0104 cost=  0.000722561213479\n",
      "Epoch: 0105 cost=  0.000722560892954\n",
      "Epoch: 0106 cost=  0.000722566571264\n",
      "Epoch: 0107 cost=  0.000722569603807\n",
      "Epoch: 0108 cost=  0.00072258993245\n",
      "Epoch: 0109 cost=  0.000722614324906\n",
      "Epoch: 0110 cost=  0.000722651349574\n",
      "Epoch: 0111 cost=  0.000722693626717\n",
      "Epoch: 0112 cost=  0.000722727254278\n",
      "Epoch: 0113 cost=  0.000722740236118\n",
      "Epoch: 0114 cost=  0.000722755493419\n",
      "Epoch: 0115 cost=  0.000722772402744\n",
      "Epoch: 0116 cost=  0.000722777527699\n",
      "Epoch: 0117 cost=  0.000722769681919\n",
      "Epoch: 0118 cost=  0.000722748057773\n",
      "Epoch: 0119 cost=  0.000722748445696\n",
      "Epoch: 0120 cost=  0.000722738644598\n",
      "Epoch: 0121 cost=  0.000722734028961\n",
      "Epoch: 0122 cost=  0.000722696979019\n",
      "Epoch: 0123 cost=  0.000722673242164\n",
      "Epoch: 0124 cost=  0.000722652795574\n",
      "Epoch: 0125 cost=  0.000722638306845\n",
      "Epoch: 0126 cost=  0.000722566701466\n",
      "Epoch: 0127 cost=  0.000722503365403\n",
      "Epoch: 0128 cost=  0.000722411122728\n",
      "Epoch: 0129 cost=  0.00072232926246\n",
      "Epoch: 0130 cost=  0.000722226345189\n",
      "Epoch: 0131 cost=  0.000722092346558\n",
      "Epoch: 0132 cost=  0.000721973266321\n",
      "Epoch: 0133 cost=  0.000721850959771\n",
      "Epoch: 0134 cost=  0.000721749246096\n",
      "Epoch: 0135 cost=  0.000721657969591\n",
      "Epoch: 0136 cost=  0.000721589812249\n",
      "Epoch: 0137 cost=  0.00072152412184\n",
      "Epoch: 0138 cost=  0.000721486337409\n",
      "Epoch: 0139 cost=  0.00072133619879\n",
      "Epoch: 0140 cost=  0.000721310386373\n",
      "Epoch: 0141 cost=  0.000721229449003\n",
      "Epoch: 0142 cost=  0.000721163474066\n",
      "Epoch: 0143 cost=  0.000721030468795\n",
      "Epoch: 0144 cost=  0.000721017786801\n",
      "Epoch: 0145 cost=  0.000720900529\n",
      "Epoch: 0146 cost=  0.000720908750066\n",
      "Epoch: 0147 cost=  0.000720789456146\n",
      "Epoch: 0148 cost=  0.000720793557488\n",
      "Epoch: 0149 cost=  0.000720636989986\n",
      "Epoch: 0150 cost=  0.000720679075273\n",
      "Epoch: 0151 cost=  0.000720479243395\n",
      "Epoch: 0152 cost=  0.000720612460435\n",
      "Epoch: 0153 cost=  0.00072031685819\n",
      "Epoch: 0154 cost=  0.000720576916999\n",
      "Epoch: 0155 cost=  0.000720155523021\n",
      "Epoch: 0156 cost=  0.000720662994641\n",
      "Epoch: 0157 cost=  0.000720039661438\n",
      "Epoch: 0158 cost=  0.000721049480872\n",
      "Epoch: 0159 cost=  0.000720073812485\n",
      "Epoch: 0160 cost=  0.000722135754538\n",
      "Epoch: 0161 cost=  0.000720939821469\n",
      "Epoch: 0162 cost=  0.000725926359193\n",
      "Epoch: 0163 cost=  0.000725635677028\n",
      "Epoch: 0164 cost=  0.00073998850444\n",
      "Epoch: 0165 cost=  0.000747351425832\n",
      "Epoch: 0166 cost=  0.000793099167104\n",
      "Epoch: 0167 cost=  0.000834555238773\n",
      "Epoch: 0168 cost=  0.000969181570996\n",
      "Epoch: 0169 cost=  0.00106726213677\n",
      "Epoch: 0170 cost=  0.00125494042464\n",
      "Epoch: 0171 cost=  0.00119536490514\n",
      "Epoch: 0172 cost=  0.00115207910896\n",
      "Epoch: 0173 cost=  0.000937188944111\n",
      "Epoch: 0174 cost=  0.00084754329452\n",
      "Epoch: 0175 cost=  0.000764995186872\n",
      "Epoch: 0176 cost=  0.000749810785285\n",
      "Epoch: 0177 cost=  0.000730432555429\n",
      "Epoch: 0178 cost=  0.000730467495343\n",
      "Epoch: 0179 cost=  0.000723510077238\n",
      "Epoch: 0180 cost=  0.000724989794483\n",
      "Epoch: 0181 cost=  0.000721229322631\n",
      "Epoch: 0182 cost=  0.0007226012929\n",
      "Epoch: 0183 cost=  0.000720205912091\n",
      "Epoch: 0184 cost=  0.000721534066543\n",
      "Epoch: 0185 cost=  0.000719693398615\n",
      "Epoch: 0186 cost=  0.000721044509096\n",
      "Epoch: 0187 cost=  0.000719412320713\n",
      "Epoch: 0188 cost=  0.000720922024476\n",
      "Epoch: 0189 cost=  0.000719298528949\n",
      "Epoch: 0190 cost=  0.000721186609314\n",
      "Epoch: 0191 cost=  0.000719409008238\n",
      "Epoch: 0192 cost=  0.000721973075231\n",
      "Epoch: 0193 cost=  0.000720007398693\n",
      "Epoch: 0194 cost=  0.000724035145188\n",
      "Epoch: 0195 cost=  0.000721889685098\n",
      "Epoch: 0196 cost=  0.000728962698256\n",
      "Epoch: 0197 cost=  0.000727459939969\n",
      "Epoch: 0198 cost=  0.000741884990068\n",
      "Epoch: 0199 cost=  0.000744504134146\n",
      "Epoch: 0200 cost=  0.000778043926785\n"
     ]
    }
   ],
   "source": [
    "with tf.Session(graph=ann_graph) as sess:\n",
    "    tf.global_variables_initializer().run()\n",
    "    \n",
    "    for epoch_step in range(max_epoch):\n",
    "        avg_cost = 0.\n",
    "        total_batch = int(len(train_x)/batch_size)\n",
    "        \n",
    "        for i in range(total_batch):\n",
    "            batch_X = train_x[(i*batch_size):((i*batch_size)+batch_size)]\n",
    "            batch_y = train_y[(i*batch_size):((i*batch_size)+batch_size)]\n",
    "            train_loss, _ = sess.run([loss, minimize], feed_dict = {inputs: batch_X, targets: batch_y})\n",
    "            avg_cost += train_loss / total_batch\n",
    "            \n",
    "        if (epoch_step) % 1 == 0:\n",
    "            print(\"Epoch:\", '%04d' % (epoch_step+1), \"cost= \",(avg_cost))\n",
    "    \n",
    "    prd_value = sess.run(logits, feed_dict = {inputs: test_x})  "
   ]
  },
  {
   "cell_type": "code",
   "execution_count": 87,
   "metadata": {},
   "outputs": [
    {
     "name": "stderr",
     "output_type": "stream",
     "text": [
      "/home/pankaj/.local/lib/python3.5/site-packages/sklearn/preprocessing/data.py:374: DeprecationWarning: Passing 1d arrays as data is deprecated in 0.17 and will raise ValueError in 0.19. Reshape your data either using X.reshape(-1, 1) if your data has a single feature or X.reshape(1, -1) if it contains a single sample.\n",
      "  warnings.warn(DEPRECATION_MSG_1D, DeprecationWarning)\n"
     ]
    }
   ],
   "source": [
    "# unscale the data first\n",
    "test_unscaled = scaler.inverse_transform(test)\n",
    "prd_value_unscaled = scaler.inverse_transform(prd_value)"
   ]
  },
  {
   "cell_type": "code",
   "execution_count": 88,
   "metadata": {},
   "outputs": [
    {
     "data": {
      "text/plain": [
       "<matplotlib.legend.Legend at 0x7f561362f7f0>"
      ]
     },
     "execution_count": 88,
     "metadata": {},
     "output_type": "execute_result"
    },
    {
     "data": {
      "image/png": "[encoded data removed]",
      "text/plain": [
       "<matplotlib.figure.Figure at 0x7f5618931be0>"
      ]
     },
     "metadata": {},
     "output_type": "display_data"
    }
   ],
   "source": [
    "# plot the data points\n",
    "plt.plot(test_unscaled[:-1],'b', label = 'actual')\n",
    "plt.plot(prd_value_unscaled[:],'r', label = 'predicted')\n",
    "plt.legend(bbox_to_anchor=(1.05, 1), loc=2, borderaxespad=0.)"
   ]
  },
  {
   "cell_type": "markdown",
   "metadata": {},
   "source": [
    "### RNN"
   ]
  },
  {
   "cell_type": "code",
   "execution_count": 89,
   "metadata": {
    "collapsed": true
   },
   "outputs": [],
   "source": [
    "tf.reset_default_graph()\n",
    "rnn_graph = tf.Graph()"
   ]
  },
  {
   "cell_type": "code",
   "execution_count": 90,
   "metadata": {},
   "outputs": [
    {
     "name": "stderr",
     "output_type": "stream",
     "text": [
      "/home/pankaj/.local/lib/python3.5/site-packages/tensorflow/python/ops/gradients_impl.py:93: UserWarning: Converting sparse IndexedSlices to a dense Tensor of unknown shape. This may consume a large amount of memory.\n",
      "  \"Converting sparse IndexedSlices to a dense Tensor of unknown shape. \"\n"
     ]
    }
   ],
   "source": [
    "with rnn_graph.as_default():\n",
    "    inputs = tf.placeholder(tf.float32, [None, num_steps, input_size])\n",
    "    targets = tf.placeholder(tf.float32, [None, input_size])\n",
    "    #learning_rate = tf.placeholder(tf.float32, None)\n",
    "    \n",
    "    def create_one_cell():\n",
    "        return tf.contrib.rnn.BasicRNNCell(lstm_size)\n",
    "        if keep_prob < 1.0:\n",
    "            return tf.contrib.rnn.DropoutWrapper(lstm_cell, output_keep_prob=keep_prob)\n",
    "        \n",
    "    ##stack the cells into multiple layers if needed. MultiRNNCell helps connect sequentially multiple \n",
    "    ##simple cells to compose one cell.    \n",
    "    if num_layers > 1:\n",
    "        cell = tf.contrib.rnn.MultiRNNCell([create_one_cell() for _ in range(num_layers)], state_is_tuple=True)\n",
    "    else:\n",
    "        cell = create_one_cell()\n",
    "        \n",
    "    ## tf.nn.dynamic_rnn constructs a recurrent neural network specified by cell (RNNCell). \n",
    "    ## It returns a pair of (model outpus, state), where the outputs val is of size (batch_size, num_steps, \n",
    "    ## lstm_size) by default. The state refers to the current state of the LSTM cell, not consumed here.    \n",
    "    val, _ = tf.nn.dynamic_rnn(cell, inputs, dtype=tf.float32)\n",
    "    \n",
    "    # Before transpose, val.get_shape() = (batch_size, num_steps, lstm_size)\n",
    "    # After transpose, val.get_shape() = (num_steps, batch_size, lstm_size)\n",
    "    val = tf.transpose(val, [1, 0, 2])\n",
    "    # last.get_shape() = (batch_size, lstm_size)\n",
    "    last = tf.gather(val, int(val.get_shape()[0]) - 1, name=\"last_rnn_output\")\n",
    "    \n",
    "    # Define weights and biases between the hidden and output layers.\n",
    "    weight = tf.Variable(tf.truncated_normal([lstm_size, input_size]))\n",
    "    bias = tf.Variable(tf.constant(0.1, shape=[input_size]))\n",
    "    prediction = tf.matmul(last, weight) + bias\n",
    "    \n",
    "    ## define cost function and minimize it\n",
    "    loss = tf.reduce_mean(tf.square(prediction - targets))\n",
    "    optimizer = tf.train.AdamOptimizer(learning_rate)\n",
    "    minimize = optimizer.minimize(loss)"
   ]
  },
  {
   "cell_type": "code",
   "execution_count": 91,
   "metadata": {},
   "outputs": [
    {
     "name": "stdout",
     "output_type": "stream",
     "text": [
      "Epoch: 0001 cost=  0.00929870327175\n",
      "Epoch: 0002 cost=  0.00950374814841\n",
      "Epoch: 0003 cost=  0.00886038247968\n",
      "Epoch: 0004 cost=  0.00798261903631\n",
      "Epoch: 0005 cost=  0.00682943917529\n",
      "Epoch: 0006 cost=  0.00573378815898\n",
      "Epoch: 0007 cost=  0.00585576317328\n",
      "Epoch: 0008 cost=  0.00592810393152\n",
      "Epoch: 0009 cost=  0.00723369018861\n",
      "Epoch: 0010 cost=  0.00801416156709\n",
      "Epoch: 0011 cost=  0.00957649605851\n",
      "Epoch: 0012 cost=  0.00960615914205\n",
      "Epoch: 0013 cost=  0.00965358997468\n",
      "Epoch: 0014 cost=  0.00807967752917\n",
      "Epoch: 0015 cost=  0.00712160746824\n",
      "Epoch: 0016 cost=  0.00561371835954\n",
      "Epoch: 0017 cost=  0.00515679675951\n",
      "Epoch: 0018 cost=  0.00442639504955\n",
      "Epoch: 0019 cost=  0.00461249049036\n",
      "Epoch: 0020 cost=  0.00447254619825\n",
      "Epoch: 0021 cost=  0.00522476712573\n",
      "Epoch: 0022 cost=  0.0055927138892\n",
      "Epoch: 0023 cost=  0.0069551465414\n",
      "Epoch: 0024 cost=  0.00774293639513\n",
      "Epoch: 0025 cost=  0.00944026293061\n",
      "Epoch: 0026 cost=  0.00994547927066\n",
      "Epoch: 0027 cost=  0.0108239250472\n",
      "Epoch: 0028 cost=  0.00990935893864\n",
      "Epoch: 0029 cost=  0.00928113259234\n",
      "Epoch: 0030 cost=  0.00745215253157\n",
      "Epoch: 0031 cost=  0.00646357423025\n",
      "Epoch: 0032 cost=  0.00501428959328\n",
      "Epoch: 0033 cost=  0.00450948696571\n",
      "Epoch: 0034 cost=  0.00370635327846\n",
      "Epoch: 0035 cost=  0.00366512167047\n",
      "Epoch: 0036 cost=  0.00329828036085\n",
      "Epoch: 0037 cost=  0.00359783985493\n",
      "Epoch: 0038 cost=  0.0035443295017\n",
      "Epoch: 0039 cost=  0.0042004413094\n",
      "Epoch: 0040 cost=  0.00448272239392\n",
      "Epoch: 0041 cost=  0.00562832065503\n",
      "Epoch: 0042 cost=  0.00633297534506\n",
      "Epoch: 0043 cost=  0.008046686441\n",
      "Epoch: 0044 cost=  0.00901416438865\n",
      "Epoch: 0045 cost=  0.0107945748329\n",
      "Epoch: 0046 cost=  0.0110811261019\n",
      "Epoch: 0047 cost=  0.0116184418224\n",
      "Epoch: 0048 cost=  0.0102610069321\n",
      "Epoch: 0049 cost=  0.00927748146473\n",
      "Epoch: 0050 cost=  0.0072074495884\n",
      "Epoch: 0051 cost=  0.00607796726246\n",
      "Epoch: 0052 cost=  0.00457390703377\n",
      "Epoch: 0053 cost=  0.00399736593949\n",
      "Epoch: 0054 cost=  0.00316524918583\n",
      "Epoch: 0055 cost=  0.00301991776704\n",
      "Epoch: 0056 cost=  0.0025881776191\n",
      "Epoch: 0057 cost=  0.00270061179885\n",
      "Epoch: 0058 cost=  0.00250310840477\n",
      "Epoch: 0059 cost=  0.00282509081176\n",
      "Epoch: 0060 cost=  0.0028230870789\n",
      "Epoch: 0061 cost=  0.00341540780286\n",
      "Epoch: 0062 cost=  0.00367199298834\n",
      "Epoch: 0063 cost=  0.00469722970401\n",
      "Epoch: 0064 cost=  0.00536035760735\n",
      "Epoch: 0065 cost=  0.00702733095999\n",
      "Epoch: 0066 cost=  0.00816045743475\n",
      "Epoch: 0067 cost=  0.0103969697191\n",
      "Epoch: 0068 cost=  0.0114650205957\n",
      "Epoch: 0069 cost=  0.0129590626212\n",
      "Epoch: 0070 cost=  0.0123084769554\n",
      "Epoch: 0071 cost=  0.0116749294776\n",
      "Epoch: 0072 cost=  0.00929442190222\n",
      "Epoch: 0073 cost=  0.0076838839067\n",
      "Epoch: 0074 cost=  0.00554318830224\n",
      "Epoch: 0075 cost=  0.00450064349187\n",
      "Epoch: 0076 cost=  0.00329565015732\n",
      "Epoch: 0077 cost=  0.00288926090702\n",
      "Epoch: 0078 cost=  0.00228136324624\n",
      "Epoch: 0079 cost=  0.00220513665944\n",
      "Epoch: 0080 cost=  0.0018861610833\n",
      "Epoch: 0081 cost=  0.00197869632699\n",
      "Epoch: 0082 cost=  0.00181283739068\n",
      "Epoch: 0083 cost=  0.00203587264696\n",
      "Epoch: 0084 cost=  0.00198977842765\n",
      "Epoch: 0085 cost=  0.00238430211673\n",
      "Epoch: 0086 cost=  0.0024991323888\n",
      "Epoch: 0087 cost=  0.00319257683862\n",
      "Epoch: 0088 cost=  0.00360288943231\n",
      "Epoch: 0089 cost=  0.00484502224227\n",
      "Epoch: 0090 cost=  0.00579300445143\n",
      "Epoch: 0091 cost=  0.00789232550979\n",
      "Epoch: 0092 cost=  0.00948056178841\n",
      "Epoch: 0093 cost=  0.0121770788407\n",
      "Epoch: 0094 cost=  0.0133762935094\n",
      "Epoch: 0095 cost=  0.0147154046357\n",
      "Epoch: 0096 cost=  0.0133708148251\n",
      "Epoch: 0097 cost=  0.0119091543816\n",
      "Epoch: 0098 cost=  0.00883573428942\n",
      "Epoch: 0099 cost=  0.00683006851805\n",
      "Epoch: 0100 cost=  0.00463547434437\n",
      "Epoch: 0101 cost=  0.00361870683187\n",
      "Epoch: 0102 cost=  0.0025646366588\n",
      "Epoch: 0103 cost=  0.00222424476095\n",
      "Epoch: 0104 cost=  0.00173432374676\n",
      "Epoch: 0105 cost=  0.00167290869209\n",
      "Epoch: 0106 cost=  0.00141816027156\n",
      "Epoch: 0107 cost=  0.00147511288493\n",
      "Epoch: 0108 cost=  0.00132884412443\n",
      "Epoch: 0109 cost=  0.00146225480344\n",
      "Epoch: 0110 cost=  0.0013854332907\n",
      "Epoch: 0111 cost=  0.00160979570539\n",
      "Epoch: 0112 cost=  0.00161216689326\n",
      "Epoch: 0113 cost=  0.00199468717926\n",
      "Epoch: 0114 cost=  0.00214459295813\n",
      "Epoch: 0115 cost=  0.00284452636812\n",
      "Epoch: 0116 cost=  0.0033217780675\n",
      "Epoch: 0117 cost=  0.0046689656125\n",
      "Epoch: 0118 cost=  0.00582912319499\n",
      "Epoch: 0119 cost=  0.00830584477578\n",
      "Epoch: 0120 cost=  0.0104093866784\n",
      "Epoch: 0121 cost=  0.0137933778583\n",
      "Epoch: 0122 cost=  0.0154467347449\n",
      "Epoch: 0123 cost=  0.0168635994288\n",
      "Epoch: 0124 cost=  0.0148450135572\n",
      "Epoch: 0125 cost=  0.0124405912831\n",
      "Epoch: 0126 cost=  0.00854951191286\n",
      "Epoch: 0127 cost=  0.00621978110959\n",
      "Epoch: 0128 cost=  0.00401844998123\n",
      "Epoch: 0129 cost=  0.00299212936309\n",
      "Epoch: 0130 cost=  0.00203913212585\n",
      "Epoch: 0131 cost=  0.0017381829974\n",
      "Epoch: 0132 cost=  0.00134257661672\n",
      "Epoch: 0133 cost=  0.00129041534551\n",
      "Epoch: 0134 cost=  0.00109495183891\n",
      "Epoch: 0135 cost=  0.00112665047269\n",
      "Epoch: 0136 cost=  0.00101059095361\n",
      "Epoch: 0137 cost=  0.00108312092427\n",
      "Epoch: 0138 cost=  0.00100656935185\n",
      "Epoch: 0139 cost=  0.00111842074885\n",
      "Epoch: 0140 cost=  0.00107318818444\n",
      "Epoch: 0141 cost=  0.00124844916373\n",
      "Epoch: 0142 cost=  0.00125175945332\n",
      "Epoch: 0143 cost=  0.00155399640023\n",
      "Epoch: 0144 cost=  0.00167082060484\n",
      "Epoch: 0145 cost=  0.00225368323184\n",
      "Epoch: 0146 cost=  0.00266728357498\n",
      "Epoch: 0147 cost=  0.00389306481903\n",
      "Epoch: 0148 cost=  0.00504624451308\n",
      "Epoch: 0149 cost=  0.00761953835363\n",
      "Epoch: 0150 cost=  0.0101500575762\n",
      "Epoch: 0151 cost=  0.0144072049757\n",
      "Epoch: 0152 cost=  0.0172294170418\n",
      "Epoch: 0153 cost=  0.019723198107\n",
      "Epoch: 0154 cost=  0.0177047798382\n",
      "Epoch: 0155 cost=  0.0144488530319\n",
      "Epoch: 0156 cost=  0.00931124732597\n",
      "Epoch: 0157 cost=  0.00605450627949\n",
      "Epoch: 0158 cost=  0.00346995793792\n",
      "Epoch: 0159 cost=  0.00239909971041\n",
      "Epoch: 0160 cost=  0.00157030473316\n",
      "Epoch: 0161 cost=  0.00133079908081\n",
      "Epoch: 0162 cost=  0.0010435145274\n",
      "Epoch: 0163 cost=  0.00101123869689\n",
      "Epoch: 0164 cost=  0.000881879583176\n",
      "Epoch: 0165 cost=  0.00090193990572\n",
      "Epoch: 0166 cost=  0.00082646669532\n",
      "Epoch: 0167 cost=  0.000864138732523\n",
      "Epoch: 0168 cost=  0.000810580791853\n",
      "Epoch: 0169 cost=  0.000860666866126\n",
      "Epoch: 0170 cost=  0.000818054224701\n",
      "Epoch: 0171 cost=  0.000886142511215\n",
      "Epoch: 0172 cost=  0.000852800327457\n",
      "Epoch: 0173 cost=  0.000955240843101\n",
      "Epoch: 0174 cost=  0.000940253370668\n",
      "Epoch: 0175 cost=  0.00111620040231\n",
      "Epoch: 0176 cost=  0.00115542567418\n",
      "Epoch: 0177 cost=  0.00150417766417\n",
      "Epoch: 0178 cost=  0.00171440632058\n",
      "Epoch: 0179 cost=  0.00250276785779\n",
      "Epoch: 0180 cost=  0.00324057511017\n",
      "Epoch: 0181 cost=  0.00516575196525\n",
      "Epoch: 0182 cost=  0.00733159069817\n",
      "Epoch: 0183 cost=  0.0116799441656\n",
      "Epoch: 0184 cost=  0.0160330830565\n",
      "Epoch: 0185 cost=  0.0216718938349\n",
      "Epoch: 0186 cost=  0.0229103732165\n",
      "Epoch: 0187 cost=  0.0209253356964\n",
      "Epoch: 0188 cost=  0.0139825911955\n",
      "Epoch: 0189 cost=  0.00847217504634\n",
      "Epoch: 0190 cost=  0.00426276041483\n",
      "Epoch: 0191 cost=  0.00251357997829\n",
      "Epoch: 0192 cost=  0.00146592503925\n",
      "Epoch: 0193 cost=  0.00116654043086\n",
      "Epoch: 0194 cost=  0.000908734888837\n",
      "Epoch: 0195 cost=  0.000874800688746\n",
      "Epoch: 0196 cost=  0.000785644771225\n",
      "Epoch: 0197 cost=  0.000795752932103\n",
      "Epoch: 0198 cost=  0.000751606421545\n",
      "Epoch: 0199 cost=  0.000769045780257\n",
      "Epoch: 0200 cost=  0.000740272758106\n"
     ]
    }
   ],
   "source": [
    "with tf.Session(graph=rnn_graph) as sess:\n",
    "    tf.global_variables_initializer().run()\n",
    "    \n",
    "    for epoch_step in range(max_epoch):\n",
    "        avg_cost = 0.\n",
    "        total_batch = int(len(train_x)/batch_size)\n",
    "        \n",
    "        for i in range(total_batch):\n",
    "            batch_X = train_x[(i*batch_size):((i*batch_size)+batch_size)]\n",
    "            batch_y = train_y[(i*batch_size):((i*batch_size)+batch_size)]\n",
    "            train_loss, _ = sess.run([loss, minimize], feed_dict = {inputs: batch_X, targets: batch_y})\n",
    "            avg_cost += train_loss / total_batch\n",
    "            \n",
    "        if (epoch_step) % 1 == 0:\n",
    "            print(\"Epoch:\", '%04d' % (epoch_step+1), \"cost= \",(avg_cost))\n",
    "    \n",
    "    prd_value = sess.run(prediction, feed_dict = {inputs: test_x})    "
   ]
  },
  {
   "cell_type": "code",
   "execution_count": 92,
   "metadata": {},
   "outputs": [
    {
     "name": "stderr",
     "output_type": "stream",
     "text": [
      "/home/pankaj/.local/lib/python3.5/site-packages/sklearn/preprocessing/data.py:374: DeprecationWarning: Passing 1d arrays as data is deprecated in 0.17 and will raise ValueError in 0.19. Reshape your data either using X.reshape(-1, 1) if your data has a single feature or X.reshape(1, -1) if it contains a single sample.\n",
      "  warnings.warn(DEPRECATION_MSG_1D, DeprecationWarning)\n"
     ]
    }
   ],
   "source": [
    "# unscale the data first\n",
    "test_unscaled = scaler.inverse_transform(test)\n",
    "prd_value_unscaled = scaler.inverse_transform(prd_value)"
   ]
  },
  {
   "cell_type": "code",
   "execution_count": 93,
   "metadata": {},
   "outputs": [
    {
     "data": {
      "text/plain": [
       "<matplotlib.legend.Legend at 0x7f561316e358>"
      ]
     },
     "execution_count": 93,
     "metadata": {},
     "output_type": "execute_result"
    },
    {
     "data": {
      "image/png": "[encoded data removed]",
      "text/plain": [
       "<matplotlib.figure.Figure at 0x7f56136e5f98>"
      ]
     },
     "metadata": {},
     "output_type": "display_data"
    }
   ],
   "source": [
    "# plot the data points\n",
    "plt.plot(test_unscaled[:-1],'b', label = 'actual')\n",
    "plt.plot(prd_value_unscaled[:],'r', label = 'predicted')\n",
    "plt.legend(bbox_to_anchor=(1.05, 1), loc=2, borderaxespad=0.)"
   ]
  },
  {
   "cell_type": "markdown",
   "metadata": {},
   "source": [
    "### LSTM"
   ]
  },
  {
   "cell_type": "code",
   "execution_count": 94,
   "metadata": {
    "collapsed": true
   },
   "outputs": [],
   "source": [
    "tf.reset_default_graph()\n",
    "lstm_graph = tf.Graph()"
   ]
  },
  {
   "cell_type": "code",
   "execution_count": 95,
   "metadata": {},
   "outputs": [
    {
     "name": "stderr",
     "output_type": "stream",
     "text": [
      "/home/pankaj/.local/lib/python3.5/site-packages/tensorflow/python/ops/gradients_impl.py:93: UserWarning: Converting sparse IndexedSlices to a dense Tensor of unknown shape. This may consume a large amount of memory.\n",
      "  \"Converting sparse IndexedSlices to a dense Tensor of unknown shape. \"\n"
     ]
    }
   ],
   "source": [
    "with lstm_graph.as_default():\n",
    "    inputs = tf.placeholder(tf.float32, [None, num_steps, input_size])\n",
    "    targets = tf.placeholder(tf.float32, [None, input_size])\n",
    "    #learning_rate = tf.placeholder(tf.float32, None)\n",
    "    \n",
    "    def create_one_cell():\n",
    "        return tf.contrib.rnn.LSTMCell(lstm_size, state_is_tuple=True)\n",
    "        if keep_prob < 1.0:\n",
    "            return tf.contrib.rnn.DropoutWrapper(lstm_cell, output_keep_prob=keep_prob)\n",
    "        \n",
    "    ##stack the cells into multiple layers if needed. MultiRNNCell helps connect sequentially multiple \n",
    "    ##simple cells to compose one cell.    \n",
    "    if num_layers > 1:\n",
    "        cell = tf.contrib.rnn.MultiRNNCell([create_one_cell() for _ in range(num_layers)], state_is_tuple=True)\n",
    "    else:\n",
    "        cell = create_one_cell()\n",
    "        \n",
    "    ## tf.nn.dynamic_rnn constructs a recurrent neural network specified by cell (RNNCell). \n",
    "    ## It returns a pair of (model outpus, state), where the outputs val is of size (batch_size, num_steps, \n",
    "    ## lstm_size) by default. The state refers to the current state of the LSTM cell, not consumed here.    \n",
    "    val, _ = tf.nn.dynamic_rnn(cell, inputs, dtype=tf.float32)\n",
    "    \n",
    "    # Before transpose, val.get_shape() = (batch_size, num_steps, lstm_size)\n",
    "    # After transpose, val.get_shape() = (num_steps, batch_size, lstm_size)\n",
    "    val = tf.transpose(val, [1, 0, 2])\n",
    "    # last.get_shape() = (batch_size, lstm_size)\n",
    "    last = tf.gather(val, int(val.get_shape()[0]) - 1, name=\"last_lstm_output\")\n",
    "    \n",
    "    # Define weights and biases between the hidden and output layers.\n",
    "    weight = tf.Variable(tf.truncated_normal([lstm_size, input_size]))\n",
    "    bias = tf.Variable(tf.constant(0.1, shape=[input_size]))\n",
    "    prediction = tf.matmul(last, weight) + bias\n",
    "    \n",
    "    ## define cost function and minimize it\n",
    "    loss = tf.reduce_mean(tf.square(prediction - targets))\n",
    "    optimizer = tf.train.AdamOptimizer(learning_rate)\n",
    "    minimize = optimizer.minimize(loss)\n",
    "    "
   ]
  },
  {
   "cell_type": "code",
   "execution_count": 96,
   "metadata": {},
   "outputs": [
    {
     "name": "stdout",
     "output_type": "stream",
     "text": [
      "Epoch: 0001 cost=  0.0328973530375\n",
      "Epoch: 0002 cost=  0.0152986478382\n",
      "Epoch: 0003 cost=  0.00841490991374\n",
      "Epoch: 0004 cost=  0.00363253843113\n",
      "Epoch: 0005 cost=  0.00181371323982\n",
      "Epoch: 0006 cost=  0.0009888079516\n",
      "Epoch: 0007 cost=  0.000782676569591\n",
      "Epoch: 0008 cost=  0.000740867092023\n",
      "Epoch: 0009 cost=  0.000739048946248\n",
      "Epoch: 0010 cost=  0.000740042327379\n",
      "Epoch: 0011 cost=  0.00074111126014\n",
      "Epoch: 0012 cost=  0.000741890020819\n",
      "Epoch: 0013 cost=  0.00074263075964\n",
      "Epoch: 0014 cost=  0.000743401341759\n",
      "Epoch: 0015 cost=  0.000744187340483\n",
      "Epoch: 0016 cost=  0.000744983084779\n",
      "Epoch: 0017 cost=  0.000745780396468\n",
      "Epoch: 0018 cost=  0.000746577474944\n",
      "Epoch: 0019 cost=  0.000747377464186\n",
      "Epoch: 0020 cost=  0.000748182551194\n",
      "Epoch: 0021 cost=  0.000748993743879\n",
      "Epoch: 0022 cost=  0.000749810300859\n",
      "Epoch: 0023 cost=  0.000750631735029\n",
      "Epoch: 0024 cost=  0.000751458307174\n",
      "Epoch: 0025 cost=  0.000752289452449\n",
      "Epoch: 0026 cost=  0.000753125066311\n",
      "Epoch: 0027 cost=  0.000753963863214\n",
      "Epoch: 0028 cost=  0.000754804013827\n",
      "Epoch: 0029 cost=  0.000755644199288\n",
      "Epoch: 0030 cost=  0.000756482025808\n",
      "Epoch: 0031 cost=  0.000757314939524\n",
      "Epoch: 0032 cost=  0.000758139749738\n",
      "Epoch: 0033 cost=  0.000758952831108\n",
      "Epoch: 0034 cost=  0.000759749487196\n",
      "Epoch: 0035 cost=  0.000760524961822\n",
      "Epoch: 0036 cost=  0.000761272887375\n",
      "Epoch: 0037 cost=  0.000761987182303\n",
      "Epoch: 0038 cost=  0.000762660966996\n",
      "Epoch: 0039 cost=  0.000763285535581\n",
      "Epoch: 0040 cost=  0.000763853021214\n",
      "Epoch: 0041 cost=  0.000764353251342\n",
      "Epoch: 0042 cost=  0.000764776820832\n",
      "Epoch: 0043 cost=  0.000765113477093\n",
      "Epoch: 0044 cost=  0.000765352734705\n",
      "Epoch: 0045 cost=  0.000765483932858\n",
      "Epoch: 0046 cost=  0.0007654968136\n",
      "Epoch: 0047 cost=  0.000765382035752\n",
      "Epoch: 0048 cost=  0.000765130205285\n",
      "Epoch: 0049 cost=  0.000764733728781\n",
      "Epoch: 0050 cost=  0.000764187004901\n",
      "Epoch: 0051 cost=  0.000763485172923\n",
      "Epoch: 0052 cost=  0.000762626906324\n",
      "Epoch: 0053 cost=  0.000761612852665\n",
      "Epoch: 0054 cost=  0.000760446404839\n",
      "Epoch: 0055 cost=  0.000759134542788\n",
      "Epoch: 0056 cost=  0.000757686512339\n",
      "Epoch: 0057 cost=  0.00075611481129\n",
      "Epoch: 0058 cost=  0.000754434983767\n",
      "Epoch: 0059 cost=  0.000752665052699\n",
      "Epoch: 0060 cost=  0.000750824441064\n",
      "Epoch: 0061 cost=  0.000748934362108\n",
      "Epoch: 0062 cost=  0.000747017103621\n",
      "Epoch: 0063 cost=  0.000745094479307\n",
      "Epoch: 0064 cost=  0.000743188269936\n",
      "Epoch: 0065 cost=  0.000741318434609\n",
      "Epoch: 0066 cost=  0.000739503371159\n",
      "Epoch: 0067 cost=  0.000737758965299\n",
      "Epoch: 0068 cost=  0.000736098304562\n",
      "Epoch: 0069 cost=  0.000734530953387\n",
      "Epoch: 0070 cost=  0.000733064173179\n",
      "Epoch: 0071 cost=  0.00073170170263\n",
      "Epoch: 0072 cost=  0.000730445315161\n",
      "Epoch: 0073 cost=  0.000729293436866\n",
      "Epoch: 0074 cost=  0.000728243333134\n",
      "Epoch: 0075 cost=  0.000727290336248\n",
      "Epoch: 0076 cost=  0.000726428771725\n",
      "Epoch: 0077 cost=  0.000725652702003\n",
      "Epoch: 0078 cost=  0.000724955159393\n",
      "Epoch: 0079 cost=  0.000724329472225\n",
      "Epoch: 0080 cost=  0.000723769333394\n",
      "Epoch: 0081 cost=  0.000723268485576\n",
      "Epoch: 0082 cost=  0.000722820683701\n",
      "Epoch: 0083 cost=  0.000722420934931\n",
      "Epoch: 0084 cost=  0.000722063981046\n",
      "Epoch: 0085 cost=  0.000721745919834\n",
      "Epoch: 0086 cost=  0.000721461965632\n",
      "Epoch: 0087 cost=  0.000721209425951\n",
      "Epoch: 0088 cost=  0.000720984359903\n",
      "Epoch: 0089 cost=  0.000720784583935\n",
      "Epoch: 0090 cost=  0.00072060645126\n",
      "Epoch: 0091 cost=  0.000720449410437\n",
      "Epoch: 0092 cost=  0.000720309835742\n",
      "Epoch: 0093 cost=  0.000720187278746\n",
      "Epoch: 0094 cost=  0.000720078362639\n",
      "Epoch: 0095 cost=  0.000719984822545\n",
      "Epoch: 0096 cost=  0.000719900461646\n",
      "Epoch: 0097 cost=  0.000719831552966\n",
      "Epoch: 0098 cost=  0.00071976701752\n",
      "Epoch: 0099 cost=  0.000719719037941\n",
      "Epoch: 0100 cost=  0.000719669703501\n",
      "Epoch: 0101 cost=  0.000719642061373\n",
      "Epoch: 0102 cost=  0.000719601367707\n",
      "Epoch: 0103 cost=  0.000719595884316\n",
      "Epoch: 0104 cost=  0.00071955579379\n",
      "Epoch: 0105 cost=  0.000719580380782\n",
      "Epoch: 0106 cost=  0.000719524808933\n",
      "Epoch: 0107 cost=  0.000719598103866\n",
      "Epoch: 0108 cost=  0.000719495518225\n",
      "Epoch: 0109 cost=  0.000719660506691\n",
      "Epoch: 0110 cost=  0.000719447859554\n",
      "Epoch: 0111 cost=  0.000719792782452\n",
      "Epoch: 0112 cost=  0.000719348266246\n",
      "Epoch: 0113 cost=  0.000720043650194\n",
      "Epoch: 0114 cost=  0.000719148739958\n",
      "Epoch: 0115 cost=  0.000720495504395\n",
      "Epoch: 0116 cost=  0.000718807152129\n",
      "Epoch: 0117 cost=  0.000721254318992\n",
      "Epoch: 0118 cost=  0.000718345582228\n",
      "Epoch: 0119 cost=  0.000722355946077\n",
      "Epoch: 0120 cost=  0.00071793260883\n",
      "Epoch: 0121 cost=  0.000723465489021\n",
      "Epoch: 0122 cost=  0.000717874516819\n",
      "Epoch: 0123 cost=  0.000723471146653\n",
      "Epoch: 0124 cost=  0.000718595639659\n",
      "Epoch: 0125 cost=  0.000721191215378\n",
      "Epoch: 0126 cost=  0.000721094548537\n",
      "Epoch: 0127 cost=  0.000718233459721\n",
      "Epoch: 0128 cost=  0.000725320624234\n",
      "Epoch: 0129 cost=  0.000718108385244\n",
      "Epoch: 0130 cost=  0.000723633537602\n",
      "Epoch: 0131 cost=  0.000722892320099\n",
      "Epoch: 0132 cost=  0.000717091018343\n",
      "Epoch: 0133 cost=  0.000739052982106\n",
      "Epoch: 0134 cost=  0.000722154580504\n",
      "Epoch: 0135 cost=  0.000726579629516\n",
      "Epoch: 0136 cost=  0.000751467871611\n",
      "Epoch: 0137 cost=  0.000754188659285\n",
      "Epoch: 0138 cost=  0.000846535394406\n",
      "Epoch: 0139 cost=  0.000779337678978\n",
      "Epoch: 0140 cost=  0.000817296102851\n",
      "Epoch: 0141 cost=  0.00140833455876\n",
      "Epoch: 0142 cost=  0.00164219663527\n",
      "Epoch: 0143 cost=  0.00156821075698\n",
      "Epoch: 0144 cost=  0.000916545036154\n",
      "Epoch: 0145 cost=  0.000768632606962\n",
      "Epoch: 0146 cost=  0.000982566753488\n",
      "Epoch: 0147 cost=  0.00115908069481\n",
      "Epoch: 0148 cost=  0.00183903069487\n",
      "Epoch: 0149 cost=  0.00250603003645\n",
      "Epoch: 0150 cost=  0.00472971414963\n",
      "Epoch: 0151 cost=  0.00568382604673\n",
      "Epoch: 0152 cost=  0.00465175504934\n",
      "Epoch: 0153 cost=  0.00133438983405\n",
      "Epoch: 0154 cost=  0.000731688747213\n",
      "Epoch: 0155 cost=  0.000741368340402\n",
      "Epoch: 0156 cost=  0.000743100407386\n",
      "Epoch: 0157 cost=  0.000739554958464\n",
      "Epoch: 0158 cost=  0.000740189342698\n",
      "Epoch: 0159 cost=  0.000739632927243\n",
      "Epoch: 0160 cost=  0.000738886460711\n",
      "Epoch: 0161 cost=  0.000738175820228\n",
      "Epoch: 0162 cost=  0.000737358777291\n",
      "Epoch: 0163 cost=  0.000736555883793\n",
      "Epoch: 0164 cost=  0.000735756841191\n",
      "Epoch: 0165 cost=  0.00073497506482\n",
      "Epoch: 0166 cost=  0.000734217393696\n",
      "Epoch: 0167 cost=  0.000733486118598\n",
      "Epoch: 0168 cost=  0.000732783912865\n",
      "Epoch: 0169 cost=  0.000732112322064\n",
      "Epoch: 0170 cost=  0.000731471922144\n",
      "Epoch: 0171 cost=  0.000730862731871\n",
      "Epoch: 0172 cost=  0.000730285295025\n",
      "Epoch: 0173 cost=  0.000729738944134\n",
      "Epoch: 0174 cost=  0.000729223127756\n",
      "Epoch: 0175 cost=  0.000728737052812\n",
      "Epoch: 0176 cost=  0.000728279579275\n",
      "Epoch: 0177 cost=  0.000727849963847\n",
      "Epoch: 0178 cost=  0.000727446637603\n",
      "Epoch: 0179 cost=  0.00072706811127\n",
      "Epoch: 0180 cost=  0.00072671356879\n",
      "Epoch: 0181 cost=  0.000726381354693\n",
      "Epoch: 0182 cost=  0.000726070022593\n",
      "Epoch: 0183 cost=  0.000725778183168\n",
      "Epoch: 0184 cost=  0.000725504939175\n",
      "Epoch: 0185 cost=  0.000725248601444\n",
      "Epoch: 0186 cost=  0.000725007921957\n",
      "Epoch: 0187 cost=  0.000724782028364\n",
      "Epoch: 0188 cost=  0.000724569862972\n",
      "Epoch: 0189 cost=  0.000724370080877\n",
      "Epoch: 0190 cost=  0.000724181938016\n",
      "Epoch: 0191 cost=  0.000724004840442\n",
      "Epoch: 0192 cost=  0.000723837392702\n",
      "Epoch: 0193 cost=  0.000723679600541\n",
      "Epoch: 0194 cost=  0.000723530260745\n",
      "Epoch: 0195 cost=  0.000723389148142\n",
      "Epoch: 0196 cost=  0.000723254972974\n",
      "Epoch: 0197 cost=  0.000723128285532\n",
      "Epoch: 0198 cost=  0.000723007408133\n",
      "Epoch: 0199 cost=  0.000722893275547\n",
      "Epoch: 0200 cost=  0.000722784056913\n"
     ]
    }
   ],
   "source": [
    "with tf.Session(graph=lstm_graph) as sess:\n",
    "    tf.global_variables_initializer().run()\n",
    "    \n",
    "    for epoch_step in range(max_epoch):\n",
    "        avg_cost = 0.\n",
    "        total_batch = int(len(train_x)/batch_size)\n",
    "        \n",
    "        for i in range(total_batch):\n",
    "            batch_X = train_x[(i*batch_size):((i*batch_size)+batch_size)]\n",
    "            batch_y = train_y[(i*batch_size):((i*batch_size)+batch_size)]\n",
    "            train_loss, _ = sess.run([loss, minimize], feed_dict = {inputs: batch_X, targets: batch_y})\n",
    "            avg_cost += train_loss / total_batch\n",
    "            \n",
    "        if (epoch_step) % 1 == 0:\n",
    "            print(\"Epoch:\", '%04d' % (epoch_step+1), \"cost= \",(avg_cost))\n",
    "    \n",
    "    prd_value = sess.run(prediction, feed_dict = {inputs: test_x})    "
   ]
  },
  {
   "cell_type": "code",
   "execution_count": 97,
   "metadata": {},
   "outputs": [
    {
     "name": "stderr",
     "output_type": "stream",
     "text": [
      "/home/pankaj/.local/lib/python3.5/site-packages/sklearn/preprocessing/data.py:374: DeprecationWarning: Passing 1d arrays as data is deprecated in 0.17 and will raise ValueError in 0.19. Reshape your data either using X.reshape(-1, 1) if your data has a single feature or X.reshape(1, -1) if it contains a single sample.\n",
      "  warnings.warn(DEPRECATION_MSG_1D, DeprecationWarning)\n"
     ]
    }
   ],
   "source": [
    "# unscale the data first\n",
    "test_unscaled = scaler.inverse_transform(test)\n",
    "prd_value_unscaled = scaler.inverse_transform(prd_value)"
   ]
  },
  {
   "cell_type": "code",
   "execution_count": 98,
   "metadata": {},
   "outputs": [
    {
     "data": {
      "text/plain": [
       "<matplotlib.legend.Legend at 0x7f56131bae48>"
      ]
     },
     "execution_count": 98,
     "metadata": {},
     "output_type": "execute_result"
    },
    {
     "data": {
      "image/png": "[encoded data removed]",
      "text/plain": [
       "<matplotlib.figure.Figure at 0x7f561311ebe0>"
      ]
     },
     "metadata": {},
     "output_type": "display_data"
    }
   ],
   "source": [
    "# plot the data points\n",
    "plt.plot(test_unscaled[:-1],'b', label = 'actual')\n",
    "plt.plot(prd_value_unscaled[:],'r', label = 'predicted')\n",
    "plt.legend(bbox_to_anchor=(1.05, 1), loc=2, borderaxespad=0.)"
   ]
  },
  {
   "cell_type": "code",
   "execution_count": null,
   "metadata": {
    "collapsed": true
   },
   "outputs": [],
   "source": []
  }
 ],
 "metadata": {
  "kernelspec": {
   "display_name": "Python 3",
   "language": "python",
   "name": "python3"
  },
  "language_info": {
   "codemirror_mode": {
    "name": "ipython",
    "version": 3
   },
   "file_extension": ".py",
   "mimetype": "text/x-python",
   "name": "python",
   "nbconvert_exporter": "python",
   "pygments_lexer": "ipython3",
   "version": "3.5.2"
  }
 },
 "nbformat": 4,
 "nbformat_minor": 2
}
