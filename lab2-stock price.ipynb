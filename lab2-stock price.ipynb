{
 "cells": [
  {
   "cell_type": "code",
   "execution_count": 1,
   "metadata": {
    "collapsed": true
   },
   "outputs": [],
   "source": [
    "import pandas as pd\n",
    "import numpy as np\n",
    "import matplotlib.pyplot as plt\n",
    "%matplotlib inline\n",
    "from sklearn.preprocessing import MinMaxScaler"
   ]
  },
  {
   "cell_type": "code",
   "execution_count": 2,
   "metadata": {
    "collapsed": true
   },
   "outputs": [],
   "source": [
    "input_size = 1 # no of past data to to consider\n",
    "num_steps = 1 # consecutive input elements are grouped into one training input\n",
    "lstm_size = 128 #number of units in one LSTM layer\n",
    "num_layers=1  # no of layers\n",
    "keep_prob=0.8 # keep probability of each node\n",
    "batch_size = 64 # batch size of input data\n",
    "learning_rate = 0.001 # learning rate\n",
    "max_epoch = 200 # no of epochs\n",
    "test_train_split = 0.8 #test train split"
   ]
  },
  {
   "cell_type": "code",
   "execution_count": 3,
   "metadata": {
    "collapsed": true
   },
   "outputs": [],
   "source": [
    "prices_dataset =  pd.read_csv('prices.csv', header=0)"
   ]
  },
  {
   "cell_type": "code",
   "execution_count": 4,
   "metadata": {},
   "outputs": [
    {
     "data": {
      "text/html": [
       "<div>\n",
       "<style>\n",
       "    .dataframe thead tr:only-child th {\n",
       "        text-align: right;\n",
       "    }\n",
       "\n",
       "    .dataframe thead th {\n",
       "        text-align: left;\n",
       "    }\n",
       "\n",
       "    .dataframe tbody tr th {\n",
       "        vertical-align: top;\n",
       "    }\n",
       "</style>\n",
       "<table border=\"1\" class=\"dataframe\">\n",
       "  <thead>\n",
       "    <tr style=\"text-align: right;\">\n",
       "      <th></th>\n",
       "      <th>date</th>\n",
       "      <th>symbol</th>\n",
       "      <th>open</th>\n",
       "      <th>close</th>\n",
       "      <th>low</th>\n",
       "      <th>high</th>\n",
       "      <th>volume</th>\n",
       "    </tr>\n",
       "  </thead>\n",
       "  <tbody>\n",
       "    <tr>\n",
       "      <th>0</th>\n",
       "      <td>2016-01-05 00:00:00</td>\n",
       "      <td>WLTW</td>\n",
       "      <td>123.430000</td>\n",
       "      <td>125.839996</td>\n",
       "      <td>122.309998</td>\n",
       "      <td>126.250000</td>\n",
       "      <td>2163600.0</td>\n",
       "    </tr>\n",
       "    <tr>\n",
       "      <th>1</th>\n",
       "      <td>2016-01-06 00:00:00</td>\n",
       "      <td>WLTW</td>\n",
       "      <td>125.239998</td>\n",
       "      <td>119.980003</td>\n",
       "      <td>119.940002</td>\n",
       "      <td>125.540001</td>\n",
       "      <td>2386400.0</td>\n",
       "    </tr>\n",
       "    <tr>\n",
       "      <th>2</th>\n",
       "      <td>2016-01-07 00:00:00</td>\n",
       "      <td>WLTW</td>\n",
       "      <td>116.379997</td>\n",
       "      <td>114.949997</td>\n",
       "      <td>114.930000</td>\n",
       "      <td>119.739998</td>\n",
       "      <td>2489500.0</td>\n",
       "    </tr>\n",
       "    <tr>\n",
       "      <th>3</th>\n",
       "      <td>2016-01-08 00:00:00</td>\n",
       "      <td>WLTW</td>\n",
       "      <td>115.480003</td>\n",
       "      <td>116.620003</td>\n",
       "      <td>113.500000</td>\n",
       "      <td>117.440002</td>\n",
       "      <td>2006300.0</td>\n",
       "    </tr>\n",
       "    <tr>\n",
       "      <th>4</th>\n",
       "      <td>2016-01-11 00:00:00</td>\n",
       "      <td>WLTW</td>\n",
       "      <td>117.010002</td>\n",
       "      <td>114.970001</td>\n",
       "      <td>114.089996</td>\n",
       "      <td>117.330002</td>\n",
       "      <td>1408600.0</td>\n",
       "    </tr>\n",
       "  </tbody>\n",
       "</table>\n",
       "</div>"
      ],
      "text/plain": [
       "                  date symbol        open       close         low        high  \\\n",
       "0  2016-01-05 00:00:00   WLTW  123.430000  125.839996  122.309998  126.250000   \n",
       "1  2016-01-06 00:00:00   WLTW  125.239998  119.980003  119.940002  125.540001   \n",
       "2  2016-01-07 00:00:00   WLTW  116.379997  114.949997  114.930000  119.739998   \n",
       "3  2016-01-08 00:00:00   WLTW  115.480003  116.620003  113.500000  117.440002   \n",
       "4  2016-01-11 00:00:00   WLTW  117.010002  114.970001  114.089996  117.330002   \n",
       "\n",
       "      volume  \n",
       "0  2163600.0  \n",
       "1  2386400.0  \n",
       "2  2489500.0  \n",
       "3  2006300.0  \n",
       "4  1408600.0  "
      ]
     },
     "execution_count": 4,
     "metadata": {},
     "output_type": "execute_result"
    }
   ],
   "source": [
    "prices_dataset.head()"
   ]
  },
  {
   "cell_type": "code",
   "execution_count": 5,
   "metadata": {
    "collapsed": true
   },
   "outputs": [],
   "source": [
    "google = prices_dataset[prices_dataset['symbol']=='GOOGL']"
   ]
  },
  {
   "cell_type": "code",
   "execution_count": 6,
   "metadata": {},
   "outputs": [
    {
     "data": {
      "text/html": [
       "<div>\n",
       "<style>\n",
       "    .dataframe thead tr:only-child th {\n",
       "        text-align: right;\n",
       "    }\n",
       "\n",
       "    .dataframe thead th {\n",
       "        text-align: left;\n",
       "    }\n",
       "\n",
       "    .dataframe tbody tr th {\n",
       "        vertical-align: top;\n",
       "    }\n",
       "</style>\n",
       "<table border=\"1\" class=\"dataframe\">\n",
       "  <thead>\n",
       "    <tr style=\"text-align: right;\">\n",
       "      <th></th>\n",
       "      <th>date</th>\n",
       "      <th>symbol</th>\n",
       "      <th>open</th>\n",
       "      <th>close</th>\n",
       "      <th>low</th>\n",
       "      <th>high</th>\n",
       "      <th>volume</th>\n",
       "    </tr>\n",
       "  </thead>\n",
       "  <tbody>\n",
       "    <tr>\n",
       "      <th>440</th>\n",
       "      <td>2010-01-04</td>\n",
       "      <td>GOOGL</td>\n",
       "      <td>626.950006</td>\n",
       "      <td>626.750011</td>\n",
       "      <td>624.240011</td>\n",
       "      <td>629.510005</td>\n",
       "      <td>3908400.0</td>\n",
       "    </tr>\n",
       "    <tr>\n",
       "      <th>908</th>\n",
       "      <td>2010-01-05</td>\n",
       "      <td>GOOGL</td>\n",
       "      <td>627.180001</td>\n",
       "      <td>623.990017</td>\n",
       "      <td>621.540016</td>\n",
       "      <td>627.839984</td>\n",
       "      <td>6003300.0</td>\n",
       "    </tr>\n",
       "    <tr>\n",
       "      <th>1376</th>\n",
       "      <td>2010-01-06</td>\n",
       "      <td>GOOGL</td>\n",
       "      <td>625.860033</td>\n",
       "      <td>608.260035</td>\n",
       "      <td>606.360021</td>\n",
       "      <td>625.860033</td>\n",
       "      <td>7949400.0</td>\n",
       "    </tr>\n",
       "    <tr>\n",
       "      <th>1844</th>\n",
       "      <td>2010-01-07</td>\n",
       "      <td>GOOGL</td>\n",
       "      <td>609.400008</td>\n",
       "      <td>594.100015</td>\n",
       "      <td>592.649990</td>\n",
       "      <td>609.999993</td>\n",
       "      <td>12815700.0</td>\n",
       "    </tr>\n",
       "    <tr>\n",
       "      <th>2312</th>\n",
       "      <td>2010-01-08</td>\n",
       "      <td>GOOGL</td>\n",
       "      <td>592.000005</td>\n",
       "      <td>602.020005</td>\n",
       "      <td>589.110015</td>\n",
       "      <td>603.250036</td>\n",
       "      <td>9439100.0</td>\n",
       "    </tr>\n",
       "  </tbody>\n",
       "</table>\n",
       "</div>"
      ],
      "text/plain": [
       "            date symbol        open       close         low        high  \\\n",
       "440   2010-01-04  GOOGL  626.950006  626.750011  624.240011  629.510005   \n",
       "908   2010-01-05  GOOGL  627.180001  623.990017  621.540016  627.839984   \n",
       "1376  2010-01-06  GOOGL  625.860033  608.260035  606.360021  625.860033   \n",
       "1844  2010-01-07  GOOGL  609.400008  594.100015  592.649990  609.999993   \n",
       "2312  2010-01-08  GOOGL  592.000005  602.020005  589.110015  603.250036   \n",
       "\n",
       "          volume  \n",
       "440    3908400.0  \n",
       "908    6003300.0  \n",
       "1376   7949400.0  \n",
       "1844  12815700.0  \n",
       "2312   9439100.0  "
      ]
     },
     "execution_count": 6,
     "metadata": {},
     "output_type": "execute_result"
    }
   ],
   "source": [
    "google.head()"
   ]
  },
  {
   "cell_type": "code",
   "execution_count": 7,
   "metadata": {
    "collapsed": true
   },
   "outputs": [],
   "source": [
    "google_stock_prices = google.close.values.astype('float32')"
   ]
  },
  {
   "cell_type": "code",
   "execution_count": 8,
   "metadata": {},
   "outputs": [
    {
     "data": {
      "text/plain": [
       "(1762,)"
      ]
     },
     "execution_count": 8,
     "metadata": {},
     "output_type": "execute_result"
    }
   ],
   "source": [
    "google_stock_prices.shape"
   ]
  },
  {
   "cell_type": "code",
   "execution_count": 9,
   "metadata": {},
   "outputs": [
    {
     "data": {
      "text/plain": [
       "[<matplotlib.lines.Line2D at 0x7f09ab208b38>]"
      ]
     },
     "execution_count": 9,
     "metadata": {},
     "output_type": "execute_result"
    },
    {
     "data": {
      "image/png": "[encoded data removed]",
      "text/plain": [
       "<matplotlib.figure.Figure at 0x7f09ad28acc0>"
      ]
     },
     "metadata": {},
     "output_type": "display_data"
    }
   ],
   "source": [
    "plt.plot(google_stock_prices)"
   ]
  },
  {
   "cell_type": "code",
   "execution_count": 10,
   "metadata": {},
   "outputs": [
    {
     "name": "stderr",
     "output_type": "stream",
     "text": [
      "/home/pankaj/.local/lib/python3.5/site-packages/sklearn/preprocessing/data.py:321: DeprecationWarning: Passing 1d arrays as data is deprecated in 0.17 and will raise ValueError in 0.19. Reshape your data either using X.reshape(-1, 1) if your data has a single feature or X.reshape(1, -1) if it contains a single sample.\n",
      "  warnings.warn(DEPRECATION_MSG_1D, DeprecationWarning)\n",
      "/home/pankaj/.local/lib/python3.5/site-packages/sklearn/preprocessing/data.py:356: DeprecationWarning: Passing 1d arrays as data is deprecated in 0.17 and will raise ValueError in 0.19. Reshape your data either using X.reshape(-1, 1) if your data has a single feature or X.reshape(1, -1) if it contains a single sample.\n",
      "  warnings.warn(DEPRECATION_MSG_1D, DeprecationWarning)\n"
     ]
    }
   ],
   "source": [
    "## preprocessing of data, scale data into a scale of 0 to 1\n",
    "scaler = MinMaxScaler(feature_range=(0, 1))\n",
    "google_stock_prices = scaler.fit_transform(google_stock_prices)"
   ]
  },
  {
   "cell_type": "code",
   "execution_count": 11,
   "metadata": {},
   "outputs": [
    {
     "data": {
      "text/plain": [
       "[<matplotlib.lines.Line2D at 0x7f09ab0e08d0>]"
      ]
     },
     "execution_count": 11,
     "metadata": {},
     "output_type": "execute_result"
    },
    {
     "data": {
      "image/png": "[encoded data removed]",
      "text/plain": [
       "<matplotlib.figure.Figure at 0x7f09ab1610b8>"
      ]
     },
     "metadata": {},
     "output_type": "display_data"
    }
   ],
   "source": [
    "plt.plot(google_stock_prices)"
   ]
  },
  {
   "cell_type": "code",
   "execution_count": 12,
   "metadata": {
    "collapsed": true
   },
   "outputs": [],
   "source": [
    "def create_dataset(seq, input_size, num_steps):\n",
    "    # group according to input size\n",
    "    seq = [np.array(seq[i * input_size: (i + 1) * input_size]) for i in range(len(seq) // input_size)]\n",
    "    \n",
    "    # Split into groups of `num_steps`\n",
    "    X = np.array([seq[i: i + num_steps] for i in range(len(seq) - num_steps)])\n",
    "    y = np.array([seq[i + num_steps] for i in range(len(seq) - num_steps)])\n",
    "    return X,y"
   ]
  },
  {
   "cell_type": "code",
   "execution_count": 13,
   "metadata": {},
   "outputs": [
    {
     "name": "stdout",
     "output_type": "stream",
     "text": [
      "split:  (1410,) (352,)\n"
     ]
    }
   ],
   "source": [
    "split = round(test_train_split*len(google_stock_prices))\n",
    "train = google_stock_prices[0:split]\n",
    "test = google_stock_prices[split:len(google_stock_prices)]\n",
    "print(\"split: \",train.shape,test.shape)"
   ]
  },
  {
   "cell_type": "code",
   "execution_count": 14,
   "metadata": {},
   "outputs": [
    {
     "data": {
      "text/plain": [
       "<matplotlib.legend.Legend at 0x7f09ab0e74e0>"
      ]
     },
     "execution_count": 14,
     "metadata": {},
     "output_type": "execute_result"
    },
    {
     "data": {
      "image/png": "[encoded data removed]",
      "text/plain": [
       "<matplotlib.figure.Figure at 0x7f09ab0e74a8>"
      ]
     },
     "metadata": {},
     "output_type": "display_data"
    }
   ],
   "source": [
    "# train data\n",
    "plt.plot(train, label = 'train data')\n",
    "plt.legend(bbox_to_anchor=(1.05, 1), loc=2, borderaxespad=0.)"
   ]
  },
  {
   "cell_type": "code",
   "execution_count": 15,
   "metadata": {},
   "outputs": [
    {
     "data": {
      "text/plain": [
       "<matplotlib.legend.Legend at 0x7f09ab0751d0>"
      ]
     },
     "execution_count": 15,
     "metadata": {},
     "output_type": "execute_result"
    },
    {
     "data": {
      "image/png": "[encoded data removed]",
      "text/plain": [
       "<matplotlib.figure.Figure at 0x7f09ab075198>"
      ]
     },
     "metadata": {},
     "output_type": "display_data"
    }
   ],
   "source": [
    "#test data\n",
    "plt.plot(test, label ='test data')\n",
    "plt.legend(bbox_to_anchor=(1.05, 1), loc=2, borderaxespad=0.)"
   ]
  },
  {
   "cell_type": "code",
   "execution_count": 16,
   "metadata": {
    "collapsed": true
   },
   "outputs": [],
   "source": [
    "## create data test and train\n",
    "train_x,train_y = create_dataset(train,input_size, num_steps)\n",
    "test_x,test_y = create_dataset(test,input_size, num_steps)"
   ]
  },
  {
   "cell_type": "code",
   "execution_count": 17,
   "metadata": {
    "collapsed": true
   },
   "outputs": [],
   "source": [
    "import tensorflow as tf\n",
    "tf.reset_default_graph()\n",
    "lstm_graph = tf.Graph()"
   ]
  },
  {
   "cell_type": "code",
   "execution_count": 18,
   "metadata": {},
   "outputs": [
    {
     "name": "stderr",
     "output_type": "stream",
     "text": [
      "/home/pankaj/.local/lib/python3.5/site-packages/tensorflow/python/ops/gradients_impl.py:93: UserWarning: Converting sparse IndexedSlices to a dense Tensor of unknown shape. This may consume a large amount of memory.\n",
      "  \"Converting sparse IndexedSlices to a dense Tensor of unknown shape. \"\n"
     ]
    }
   ],
   "source": [
    "with lstm_graph.as_default():\n",
    "    inputs = tf.placeholder(tf.float32, [None, num_steps, input_size])\n",
    "    targets = tf.placeholder(tf.float32, [None, input_size])\n",
    "    #learning_rate = tf.placeholder(tf.float32, None)\n",
    "    \n",
    "    def create_one_cell():\n",
    "        return tf.contrib.rnn.LSTMCell(lstm_size, state_is_tuple=True)\n",
    "        if keep_prob < 1.0:\n",
    "            return tf.contrib.rnn.DropoutWrapper(lstm_cell, output_keep_prob=keep_prob)\n",
    "        \n",
    "    ##stack the cells into multiple layers if needed. MultiRNNCell helps connect sequentially multiple \n",
    "    ##simple cells to compose one cell.    \n",
    "    if num_layers > 1:\n",
    "        cell = tf.contrib.rnn.MultiRNNCell([create_one_cell() for _ in range(num_layers)], state_is_tuple=True)\n",
    "    else:\n",
    "        cell = create_one_cell()\n",
    "        \n",
    "    ## tf.nn.dynamic_rnn constructs a recurrent neural network specified by cell (RNNCell). \n",
    "    ## It returns a pair of (model outpus, state), where the outputs val is of size (batch_size, num_steps, \n",
    "    ## lstm_size) by default. The state refers to the current state of the LSTM cell, not consumed here.    \n",
    "    val, _ = tf.nn.dynamic_rnn(cell, inputs, dtype=tf.float32)\n",
    "    \n",
    "    # Before transpose, val.get_shape() = (batch_size, num_steps, lstm_size)\n",
    "    # After transpose, val.get_shape() = (num_steps, batch_size, lstm_size)\n",
    "    val = tf.transpose(val, [1, 0, 2])\n",
    "    # last.get_shape() = (batch_size, lstm_size)\n",
    "    last = tf.gather(val, int(val.get_shape()[0]) - 1, name=\"last_lstm_output\")\n",
    "    \n",
    "    # Define weights and biases between the hidden and output layers.\n",
    "    weight = tf.Variable(tf.truncated_normal([lstm_size, input_size]))\n",
    "    bias = tf.Variable(tf.constant(0.1, shape=[input_size]))\n",
    "    prediction = tf.matmul(last, weight) + bias\n",
    "    \n",
    "    ## define cost function and minimize it\n",
    "    loss = tf.reduce_mean(tf.square(prediction - targets))\n",
    "    optimizer = tf.train.AdamOptimizer(learning_rate)\n",
    "    minimize = optimizer.minimize(loss)\n",
    "    "
   ]
  },
  {
   "cell_type": "code",
   "execution_count": 19,
   "metadata": {
    "scrolled": true
   },
   "outputs": [
    {
     "name": "stdout",
     "output_type": "stream",
     "text": [
      "Epoch: 0001 cost=  0.0234887387937\n",
      "Epoch: 0002 cost=  0.0243810949508\n",
      "Epoch: 0003 cost=  0.00429735235097\n",
      "Epoch: 0004 cost=  0.00198681781397\n",
      "Epoch: 0005 cost=  0.00073775540229\n",
      "Epoch: 0006 cost=  0.000578653130188\n",
      "Epoch: 0007 cost=  0.000568902869749\n",
      "Epoch: 0008 cost=  0.000572279317897\n",
      "Epoch: 0009 cost=  0.000576752327271\n",
      "Epoch: 0010 cost=  0.000579107520025\n",
      "Epoch: 0011 cost=  0.000580522287319\n",
      "Epoch: 0012 cost=  0.000582982192017\n",
      "Epoch: 0013 cost=  0.000586496344939\n",
      "Epoch: 0014 cost=  0.000590107653393\n",
      "Epoch: 0015 cost=  0.000593495252608\n",
      "Epoch: 0016 cost=  0.000597169229216\n",
      "Epoch: 0017 cost=  0.000601581596791\n",
      "Epoch: 0018 cost=  0.000606664855282\n",
      "Epoch: 0019 cost=  0.000612191248365\n",
      "Epoch: 0020 cost=  0.000618198720159\n",
      "Epoch: 0021 cost=  0.000624937981973\n",
      "Epoch: 0022 cost=  0.0006325998157\n",
      "Epoch: 0023 cost=  0.000641244218555\n",
      "Epoch: 0024 cost=  0.000650921465422\n",
      "Epoch: 0025 cost=  0.000661753760968\n",
      "Epoch: 0026 cost=  0.000673900720854\n",
      "Epoch: 0027 cost=  0.000687508143363\n",
      "Epoch: 0028 cost=  0.000702700525091\n",
      "Epoch: 0029 cost=  0.000719591452666\n",
      "Epoch: 0030 cost=  0.000738280211491\n",
      "Epoch: 0031 cost=  0.000758839301852\n",
      "Epoch: 0032 cost=  0.000781300590461\n",
      "Epoch: 0033 cost=  0.000805641159373\n",
      "Epoch: 0034 cost=  0.000831771147535\n",
      "Epoch: 0035 cost=  0.000859525603697\n",
      "Epoch: 0036 cost=  0.000888652366319\n",
      "Epoch: 0037 cost=  0.000918808573095\n",
      "Epoch: 0038 cost=  0.000949563036887\n",
      "Epoch: 0039 cost=  0.000980400392026\n",
      "Epoch: 0040 cost=  0.0010107383046\n",
      "Epoch: 0041 cost=  0.00103994739303\n",
      "Epoch: 0042 cost=  0.00106737959868\n",
      "Epoch: 0043 cost=  0.00109240105468\n",
      "Epoch: 0044 cost=  0.00111442452709\n",
      "Epoch: 0045 cost=  0.00113294651436\n",
      "Epoch: 0046 cost=  0.00114757639941\n",
      "Epoch: 0047 cost=  0.00115806513879\n",
      "Epoch: 0048 cost=  0.00116431567916\n",
      "Epoch: 0049 cost=  0.00116638897453\n",
      "Epoch: 0050 cost=  0.00116449729566\n",
      "Epoch: 0051 cost=  0.00115898141667\n",
      "Epoch: 0052 cost=  0.0011502857914\n",
      "Epoch: 0053 cost=  0.00113891972168\n",
      "Epoch: 0054 cost=  0.00112542763567\n",
      "Epoch: 0055 cost=  0.00111034719157\n",
      "Epoch: 0056 cost=  0.00109418687696\n",
      "Epoch: 0057 cost=  0.00107740285206\n",
      "Epoch: 0058 cost=  0.00106038548719\n",
      "Epoch: 0059 cost=  0.00104345334561\n",
      "Epoch: 0060 cost=  0.00102685691871\n",
      "Epoch: 0061 cost=  0.00101077761461\n",
      "Epoch: 0062 cost=  0.000995340890024\n",
      "Epoch: 0063 cost=  0.00098062106223\n",
      "Epoch: 0064 cost=  0.000966655452926\n",
      "Epoch: 0065 cost=  0.000953446942731\n",
      "Epoch: 0066 cost=  0.000940978785696\n",
      "Epoch: 0067 cost=  0.000929214959218\n",
      "Epoch: 0068 cost=  0.000918109508348\n",
      "Epoch: 0069 cost=  0.000907609250465\n",
      "Epoch: 0070 cost=  0.000897657737369\n",
      "Epoch: 0071 cost=  0.000888197978466\n",
      "Epoch: 0072 cost=  0.000879172616723\n",
      "Epoch: 0073 cost=  0.00087052711156\n",
      "Epoch: 0074 cost=  0.000862210626523\n",
      "Epoch: 0075 cost=  0.000854173695023\n",
      "Epoch: 0076 cost=  0.000846373020481\n",
      "Epoch: 0077 cost=  0.000838767804618\n",
      "Epoch: 0078 cost=  0.00083131910651\n",
      "Epoch: 0079 cost=  0.000823996744822\n",
      "Epoch: 0080 cost=  0.000816768071342\n",
      "Epoch: 0081 cost=  0.000809608120604\n",
      "Epoch: 0082 cost=  0.000802492760572\n",
      "Epoch: 0083 cost=  0.000795401984678\n",
      "Epoch: 0084 cost=  0.000788317720766\n",
      "Epoch: 0085 cost=  0.000781225780057\n",
      "Epoch: 0086 cost=  0.000774111872571\n",
      "Epoch: 0087 cost=  0.000766967251283\n",
      "Epoch: 0088 cost=  0.000759782507719\n",
      "Epoch: 0089 cost=  0.000752552798738\n",
      "Epoch: 0090 cost=  0.000745273600676\n",
      "Epoch: 0091 cost=  0.000737942781019\n",
      "Epoch: 0092 cost=  0.000730562755383\n",
      "Epoch: 0093 cost=  0.000723133712282\n",
      "Epoch: 0094 cost=  0.000715663401272\n",
      "Epoch: 0095 cost=  0.000708158394197\n",
      "Epoch: 0096 cost=  0.000700629909261\n",
      "Epoch: 0097 cost=  0.000693091762514\n",
      "Epoch: 0098 cost=  0.000685559666387\n",
      "Epoch: 0099 cost=  0.000678053804388\n",
      "Epoch: 0100 cost=  0.000670597260151\n",
      "Epoch: 0101 cost=  0.000663214293705\n",
      "Epoch: 0102 cost=  0.000655934502984\n",
      "Epoch: 0103 cost=  0.000648787158504\n",
      "Epoch: 0104 cost=  0.000641805004059\n",
      "Epoch: 0105 cost=  0.000635020219885\n",
      "Epoch: 0106 cost=  0.00062846668648\n",
      "Epoch: 0107 cost=  0.000622175730148\n",
      "Epoch: 0108 cost=  0.000616177269628\n",
      "Epoch: 0109 cost=  0.000610497678942\n",
      "Epoch: 0110 cost=  0.000605159793353\n",
      "Epoch: 0111 cost=  0.000600179903069\n",
      "Epoch: 0112 cost=  0.000595569137989\n",
      "Epoch: 0113 cost=  0.000591331927849\n",
      "Epoch: 0114 cost=  0.000587466182796\n",
      "Epoch: 0115 cost=  0.000583963593024\n",
      "Epoch: 0116 cost=  0.000580810198616\n",
      "Epoch: 0117 cost=  0.000577987122762\n",
      "Epoch: 0118 cost=  0.000575472339816\n",
      "Epoch: 0119 cost=  0.000573241408181\n",
      "Epoch: 0120 cost=  0.000571268183359\n",
      "Epoch: 0121 cost=  0.000569526028399\n",
      "Epoch: 0122 cost=  0.000567990315176\n",
      "Epoch: 0123 cost=  0.00056663683691\n",
      "Epoch: 0124 cost=  0.000565444736077\n",
      "Epoch: 0125 cost=  0.000564393805689\n",
      "Epoch: 0126 cost=  0.000563467776043\n",
      "Epoch: 0127 cost=  0.000562652097539\n",
      "Epoch: 0128 cost=  0.000561934362023\n",
      "Epoch: 0129 cost=  0.000561303974378\n",
      "Epoch: 0130 cost=  0.000560752409166\n",
      "Epoch: 0131 cost=  0.000560272892141\n",
      "Epoch: 0132 cost=  0.000559858670551\n",
      "Epoch: 0133 cost=  0.00055950449347\n",
      "Epoch: 0134 cost=  0.000559205869319\n",
      "Epoch: 0135 cost=  0.000558959116791\n",
      "Epoch: 0136 cost=  0.000558760802629\n",
      "Epoch: 0137 cost=  0.000558608000243\n",
      "Epoch: 0138 cost=  0.000558498372067\n",
      "Epoch: 0139 cost=  0.000558429891746\n",
      "Epoch: 0140 cost=  0.000558400726732\n",
      "Epoch: 0141 cost=  0.000558409496906\n",
      "Epoch: 0142 cost=  0.000558455001407\n",
      "Epoch: 0143 cost=  0.000558536309902\n",
      "Epoch: 0144 cost=  0.000558651972493\n",
      "Epoch: 0145 cost=  0.000558801586687\n",
      "Epoch: 0146 cost=  0.00055898531057\n",
      "Epoch: 0147 cost=  0.000559201946255\n",
      "Epoch: 0148 cost=  0.000559451244705\n",
      "Epoch: 0149 cost=  0.000559732702558\n",
      "Epoch: 0150 cost=  0.000560047240221\n",
      "Epoch: 0151 cost=  0.000560394484968\n",
      "Epoch: 0152 cost=  0.000560773610645\n",
      "Epoch: 0153 cost=  0.000561184734662\n",
      "Epoch: 0154 cost=  0.000561628745345\n",
      "Epoch: 0155 cost=  0.000562105671138\n",
      "Epoch: 0156 cost=  0.000562614636279\n",
      "Epoch: 0157 cost=  0.000563156121313\n",
      "Epoch: 0158 cost=  0.000563729594763\n",
      "Epoch: 0159 cost=  0.000564335948928\n",
      "Epoch: 0160 cost=  0.000564973962768\n",
      "Epoch: 0161 cost=  0.000565643714005\n",
      "Epoch: 0162 cost=  0.000566344430726\n",
      "Epoch: 0163 cost=  0.000567075526553\n",
      "Epoch: 0164 cost=  0.000567835718274\n",
      "Epoch: 0165 cost=  0.000568624082503\n",
      "Epoch: 0166 cost=  0.000569438992071\n",
      "Epoch: 0167 cost=  0.000570277929166\n",
      "Epoch: 0168 cost=  0.000571140083511\n",
      "Epoch: 0169 cost=  0.000572022628066\n",
      "Epoch: 0170 cost=  0.000572922502298\n",
      "Epoch: 0171 cost=  0.00057383556751\n",
      "Epoch: 0172 cost=  0.000574759071407\n",
      "Epoch: 0173 cost=  0.000575689567168\n",
      "Epoch: 0174 cost=  0.000576622708732\n",
      "Epoch: 0175 cost=  0.000577553227314\n",
      "Epoch: 0176 cost=  0.000578476509624\n",
      "Epoch: 0177 cost=  0.00057938773865\n",
      "Epoch: 0178 cost=  0.000580282517727\n",
      "Epoch: 0179 cost=  0.000581156665496\n",
      "Epoch: 0180 cost=  0.000582004347962\n",
      "Epoch: 0181 cost=  0.000582820850964\n",
      "Epoch: 0182 cost=  0.000583601964701\n",
      "Epoch: 0183 cost=  0.000584344378942\n",
      "Epoch: 0184 cost=  0.000585045918507\n",
      "Epoch: 0185 cost=  0.000585703823824\n",
      "Epoch: 0186 cost=  0.000586315667037\n",
      "Epoch: 0187 cost=  0.000586878945879\n",
      "Epoch: 0188 cost=  0.000587393462907\n",
      "Epoch: 0189 cost=  0.000587861910224\n",
      "Epoch: 0190 cost=  0.000588284086751\n",
      "Epoch: 0191 cost=  0.000588660543806\n",
      "Epoch: 0192 cost=  0.000588992421068\n",
      "Epoch: 0193 cost=  0.000589283019839\n",
      "Epoch: 0194 cost=  0.000589535529963\n",
      "Epoch: 0195 cost=  0.000589752814531\n",
      "Epoch: 0196 cost=  0.000589938019402\n",
      "Epoch: 0197 cost=  0.000590093605834\n",
      "Epoch: 0198 cost=  0.000590222902247\n",
      "Epoch: 0199 cost=  0.000590329821452\n",
      "Epoch: 0200 cost=  0.000590417090941\n"
     ]
    }
   ],
   "source": [
    "with tf.Session(graph=lstm_graph) as sess:\n",
    "    tf.global_variables_initializer().run()\n",
    "    \n",
    "    for epoch_step in range(max_epoch):\n",
    "        avg_cost = 0.\n",
    "        total_batch = int(len(train_x)/batch_size)\n",
    "        \n",
    "        for i in range(total_batch):\n",
    "            batch_X = train_x[(i*batch_size):((i*batch_size)+batch_size)]\n",
    "            batch_y = train_y[(i*batch_size):((i*batch_size)+batch_size)]\n",
    "            train_loss, _ = sess.run([loss, minimize], feed_dict = {inputs: batch_X, targets: batch_y})\n",
    "            avg_cost += train_loss / total_batch\n",
    "            \n",
    "        if (epoch_step) % 1 == 0:\n",
    "            print(\"Epoch:\", '%04d' % (epoch_step+1), \"cost= \",(avg_cost))\n",
    "    \n",
    "    prd_value = sess.run(prediction, feed_dict = {inputs: test_x})    "
   ]
  },
  {
   "cell_type": "code",
   "execution_count": null,
   "metadata": {
    "collapsed": true
   },
   "outputs": [],
   "source": [
    "# unscale the data first\n",
    "test = scaler.inverse_transform(test)\n",
    "prd_value = scaler.inverse_transform(prd_value)"
   ]
  },
  {
   "cell_type": "code",
   "execution_count": 24,
   "metadata": {},
   "outputs": [
    {
     "data": {
      "text/plain": [
       "<matplotlib.legend.Legend at 0x7f099c169b70>"
      ]
     },
     "execution_count": 24,
     "metadata": {},
     "output_type": "execute_result"
    },
    {
     "data": {
      "image/png": "[encoded data removed]",
      "text/plain": [
       "<matplotlib.figure.Figure at 0x7f099c3976a0>"
      ]
     },
     "metadata": {},
     "output_type": "display_data"
    }
   ],
   "source": [
    "# plot the data points\n",
    "plt.plot(test[1:],'b', label = 'actual')\n",
    "plt.plot(prd_value[:-1],'r', label = 'predicted')\n",
    "plt.legend(bbox_to_anchor=(1.05, 1), loc=2, borderaxespad=0.)"
   ]
  },
  {
   "cell_type": "code",
   "execution_count": null,
   "metadata": {
    "collapsed": true
   },
   "outputs": [],
   "source": []
  }
 ],
 "metadata": {
  "kernelspec": {
   "display_name": "Python 3",
   "language": "python",
   "name": "python3"
  },
  "language_info": {
   "codemirror_mode": {
    "name": "ipython",
    "version": 3
   },
   "file_extension": ".py",
   "mimetype": "text/x-python",
   "name": "python",
   "nbconvert_exporter": "python",
   "pygments_lexer": "ipython3",
   "version": "3.5.2"
  }
 },
 "nbformat": 4,
 "nbformat_minor": 2
}
