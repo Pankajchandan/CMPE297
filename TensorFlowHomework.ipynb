{
 "cells": [
  {
   "cell_type": "code",
   "execution_count": 1,
   "metadata": {
    "collapsed": true
   },
   "outputs": [],
   "source": [
    "import tensorflow as tf\n",
    "import numpy as np\n",
    "import pandas as pd\n",
    "import matplotlib as plt"
   ]
  },
  {
   "cell_type": "markdown",
   "metadata": {},
   "source": [
    "1. Create\ttwo\t0-d\ttensors\ta\tand\tb\trandomly\tselected\tfrom\tthe\trange\t[-1,\t1).\t\t\n",
    "    a. Return\ta+b\tif\ta less then b\t\n",
    "    b. Return\t0\tif\ta greater then b.\tYou\tcan\tuse\ttf.case()\tif\tit\thelps\t"
   ]
  },
  {
   "cell_type": "code",
   "execution_count": 7,
   "metadata": {},
   "outputs": [],
   "source": [
    "sess=tf.Session()\n",
    "def compare():\n",
    "    a= tf.Variable(tf.random_normal([1],mean=0.0,stddev=1.0, dtype=tf.float32))\n",
    "    b= tf.Variable(tf.random_normal([1],mean=0.0,stddev=1.0, dtype=tf.float32))\n",
    "    c= tf.add(a,b)\n",
    "    z= tf.zeros([1],tf.int32)\n",
    "    sess.run(tf.global_variables_initializer())\n",
    "    val = tf.greater(a,b)\n",
    "    print(sess.run(val))\n",
    "    print (a.eval(session=sess))\n",
    "    print (b.eval(session=sess))\n",
    "    if val.eval(session=sess) is True:\n",
    "        print(\"0\")\n",
    "    else:\n",
    "        print(c.eval(session=sess))"
   ]
  },
  {
   "cell_type": "code",
   "execution_count": 8,
   "metadata": {},
   "outputs": [
    {
     "name": "stdout",
     "output_type": "stream",
     "text": [
      "[ True]\n",
      "[ 1.14786029]\n",
      "[-1.30699563]\n",
      "[-0.15913534]\n"
     ]
    }
   ],
   "source": [
    "compare()"
   ]
  },
  {
   "cell_type": "markdown",
   "metadata": {},
   "source": [
    "2.  Create\ta\t2d\ttensor\tof\tsize\t16x16\tfrom\tany\tdistribution\t\n",
    "    a. Calculate\tthe\tdeterminant\tusing\ttensorflow.\t"
   ]
  },
  {
   "cell_type": "code",
   "execution_count": 51,
   "metadata": {
    "collapsed": true
   },
   "outputs": [],
   "source": [
    "def determinant():\n",
    "    var_mat = tf.Variable(tf.random_normal([16,16],mean=0.0,stddev=10.0, dtype=tf.float32))\n",
    "    det=tf.matrix_determinant(var_mat)\n",
    "    sess.run(tf.global_variables_initializer())\n",
    "    print(sess.run(det))\n",
    "    print (var_mat.eval(session=sess))"
   ]
  },
  {
   "cell_type": "code",
   "execution_count": 52,
   "metadata": {},
   "outputs": [
    {
     "name": "stdout",
     "output_type": "stream",
     "text": [
      "-8.14973e+20\n"
     ]
    }
   ],
   "source": [
    "determinant()"
   ]
  },
  {
   "cell_type": "markdown",
   "metadata": {},
   "source": [
    "3. Create\tthe\ttensor\tt\tof\tvalue\t\t\n",
    "[30.05088806,\t\t17.61298943,\t\t41.19073486,\t\t19.35532951,\t\n",
    "31.97266006,\t\t16.67541885,\t\t28.08450317,\t\t21.74983215,\t\n",
    "32.94445419,\t\t30.45999146,\t\t39.06485367,\t\t32.01657104,\t\n",
    "26.88236427,\t\t27.56035233,\t\t10.20379066,\t\t22.51215172,\t\n",
    "30.71149445,\t\t24.59134293,\t\t56.05556488,\t\t30.66994858]\t\n",
    "    a. Get\tthe\tindices\tof\telements\tin\tt\twhose\tvalues\tare\tgreater\tthan\t25.\t\n",
    "    b. Extract\tthe\telement\twhose\tvalues\tare\tgreater\tthan\t30.\t\t\n",
    "You\tcan\ttry\ttf.where()\tand\ttf.gather()\t"
   ]
  },
  {
   "cell_type": "code",
   "execution_count": 101,
   "metadata": {
    "collapsed": true
   },
   "outputs": [],
   "source": [
    "def search():\n",
    "    mat=tf.constant([30.05088806, 17.61298943, 41.19073486, 19.35532951,\n",
    "                        31.97266006, 16.67541885, 28.08450317, 21.74983215,\n",
    "                        32.94445419, 30.45999146, 39.06485367, 32.01657104,\n",
    "                        26.88236427, 27.56035233, 10.20379066, 22.51215172,\n",
    "                        30.71149445, 24.59134293, 56.05556488, 30.66994858],dtype=tf.float32)\n",
    "    c=mat.eval(session=sess)\n",
    "    print(\"indices whose value are > 25: \")\n",
    "    for i,val in enumerate(c):\n",
    "        if val>25:\n",
    "            print(i)\n",
    "    print(\"elements whose value are > 30: \")\n",
    "    for val in c:\n",
    "        if val>30:\n",
    "            print(val)"
   ]
  },
  {
   "cell_type": "code",
   "execution_count": 102,
   "metadata": {},
   "outputs": [
    {
     "name": "stdout",
     "output_type": "stream",
     "text": [
      "indices whose value are > 25: \n",
      "0\n",
      "2\n",
      "4\n",
      "6\n",
      "8\n",
      "9\n",
      "10\n",
      "11\n",
      "12\n",
      "13\n",
      "16\n",
      "18\n",
      "19\n",
      "elements whose value are > 30: \n",
      "30.0509\n",
      "41.1907\n",
      "31.9727\n",
      "32.9445\n",
      "30.46\n",
      "39.0649\n",
      "32.0166\n",
      "30.7115\n",
      "56.0556\n",
      "30.6699\n"
     ]
    }
   ],
   "source": [
    "search()"
   ]
  },
  {
   "cell_type": "markdown",
   "metadata": {},
   "source": [
    "   4. Create\tthe\ttensor\tt\tof\tthe\tvalue\t[[-1,\t0,\t2],\t[1,\t0,\t2]]\tand\tt1\tas\ttensor\tof\tzeros\twith\tthe\tsame\tshape\tas\tt.\tReturn\ta\tboolean\ttensor\tthat\tyields\tTrues\tif\tt\tequals\tt1\telement-wise.\t"
   ]
  },
  {
   "cell_type": "code",
   "execution_count": 65,
   "metadata": {
    "collapsed": true
   },
   "outputs": [],
   "source": [
    "def isEqual():\n",
    "    t1 = tf.constant([-1,0,2,1,0,2],shape=[2,3],dtype=tf.float32)\n",
    "    t2 = tf.zeros_like(t1)\n",
    "    res = tf.equal(t1,t2)\n",
    "    print(sess.run(res))"
   ]
  },
  {
   "cell_type": "code",
   "execution_count": 66,
   "metadata": {},
   "outputs": [
    {
     "name": "stdout",
     "output_type": "stream",
     "text": [
      "[[False  True False]\n",
      " [False  True False]]\n"
     ]
    }
   ],
   "source": [
    "isEqual()"
   ]
  },
  {
   "cell_type": "markdown",
   "metadata": {},
   "source": [
    "Question 5"
   ]
  },
  {
   "cell_type": "code",
   "execution_count": 73,
   "metadata": {
    "collapsed": true
   },
   "outputs": [],
   "source": [
    "df = pd.read_csv(\"place_holder.csv\")\n",
    "X=df['X']\n",
    "Y=df['Y']"
   ]
  },
  {
   "cell_type": "code",
   "execution_count": 108,
   "metadata": {
    "collapsed": true
   },
   "outputs": [],
   "source": [
    "def add():\n",
    "    c = tf.constant([1,2,3,4,5,6,7,8,9,10],dtype=tf.float64)\n",
    "    a = tf.placeholder(tf.float64,shape=[10,])\n",
    "    b = tf.placeholder(tf.float64,shape=[10,])\n",
    "    res = tf.add(a,b)\n",
    "    res1 = tf.add(res,c)\n",
    "    print(sess.run(res1,feed_dict={a:df['X'],b:df['Y']}))"
   ]
  },
  {
   "cell_type": "code",
   "execution_count": 109,
   "metadata": {},
   "outputs": [
    {
     "name": "stdout",
     "output_type": "stream",
     "text": [
      "[  4.5   9.5  12.1  22.5   8.3  18.2  11.8  23.6  21.8  21.7]\n"
     ]
    }
   ],
   "source": [
    "add()"
   ]
  }
 ],
 "metadata": {
  "kernelspec": {
   "display_name": "Python 3",
   "language": "python",
   "name": "python3"
  },
  "language_info": {
   "codemirror_mode": {
    "name": "ipython",
    "version": 3
   },
   "file_extension": ".py",
   "mimetype": "text/x-python",
   "name": "python",
   "nbconvert_exporter": "python",
   "pygments_lexer": "ipython3",
   "version": "3.5.2"
  }
 },
 "nbformat": 4,
 "nbformat_minor": 2
}
