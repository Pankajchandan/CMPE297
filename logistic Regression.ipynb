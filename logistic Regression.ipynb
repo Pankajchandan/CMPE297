{
 "cells": [
  {
   "cell_type": "code",
   "execution_count": 1,
   "metadata": {
    "collapsed": true
   },
   "outputs": [],
   "source": [
    "import tensorflow as tf"
   ]
  },
  {
   "cell_type": "code",
   "execution_count": 2,
   "metadata": {},
   "outputs": [
    {
     "name": "stdout",
     "output_type": "stream",
     "text": [
      "Extracting /tmp/data/train-images-idx3-ubyte.gz\n",
      "Extracting /tmp/data/train-labels-idx1-ubyte.gz\n",
      "Extracting /tmp/data/t10k-images-idx3-ubyte.gz\n",
      "Extracting /tmp/data/t10k-labels-idx1-ubyte.gz\n"
     ]
    }
   ],
   "source": [
    "# Import MNIST data\n",
    "from tensorflow.examples.tutorials.mnist import input_data\n",
    "mnist = input_data.read_data_sets(\"/tmp/data/\", one_hot=True)"
   ]
  },
  {
   "cell_type": "code",
   "execution_count": 3,
   "metadata": {
    "collapsed": true
   },
   "outputs": [],
   "source": [
    "# Parameters\n",
    "learning_rate = 0.01\n",
    "training_epochs = 25\n",
    "batch_size = 100\n",
    "display_step = 1\n",
    "input_size = 784\n",
    "output_size = 10"
   ]
  },
  {
   "cell_type": "code",
   "execution_count": 4,
   "metadata": {
    "collapsed": true
   },
   "outputs": [],
   "source": [
    "# tf Graph Input\n",
    "x = tf.placeholder(tf.float32, [None, input_size]) # mnist data image of shape 28*28=784\n",
    "y = tf.placeholder(tf.float32, [None, output_size]) # 0-9 digits recognition => 10 classes\n",
    "\n",
    "# Set model weights\n",
    "W = tf.Variable(tf.random_normal([input_size,output_size],mean=0.0,stddev=1.0, dtype=tf.float32))\n",
    "b = tf.Variable(tf.random_normal([output_size],mean=0.0,stddev=1.0, dtype=tf.float32))"
   ]
  },
  {
   "cell_type": "code",
   "execution_count": 43,
   "metadata": {},
   "outputs": [],
   "source": [
    "# Construct model\n",
    "logits = tf.matmul(x, W) + b ##this is linear regression\n",
    "pred = tf.nn.softmax(logits) # Softmax , this is logistic regression\n",
    "\n",
    "# Minimize error mean square error for linear regression\n",
    "cost_linear = tf.reduce_mean(tf.reduce_sum(tf.square(logits-y),reduction_indices = 1))\n",
    "cost_logistic = tf.reduce_mean(-tf.reduce_sum(y*tf.log(pred), reduction_indices=1))\n",
    "#cost_logistic = tf.reduce_mean(y*tf.log(pred)+ (1 -y) *tf.log(1 -pred))\n",
    "\n",
    "# Gradient Descent\n",
    "optimizer_linear = tf.train.GradientDescentOptimizer(learning_rate).minimize(cost_linear)\n",
    "optimizer_logistic = tf.train.GradientDescentOptimizer(learning_rate).minimize(cost_logistic)\n",
    "\n",
    "#cross entropy error\n",
    "cost_entropy_logistic = tf.reduce_mean(tf.nn.softmax_cross_entropy_with_logits(logits=logits, labels=y))\n",
    "#adamoptimizer\n",
    "adam_optimizer =  tf.train.AdamOptimizer(learning_rate).minimize(cost_entropy_logistic) "
   ]
  },
  {
   "cell_type": "code",
   "execution_count": 57,
   "metadata": {
    "collapsed": true
   },
   "outputs": [],
   "source": [
    "# Initialize the variables (i.e. assign their default value)\n",
    "init = tf.global_variables_initializer()"
   ]
  },
  {
   "cell_type": "code",
   "execution_count": 58,
   "metadata": {
    "collapsed": true
   },
   "outputs": [],
   "source": [
    "# no of correct prediction\n",
    "correct_prediction = tf.equal(tf.argmax(pred, 1), tf.argmax(y, 1))\n",
    "# Calculate accuracy\n",
    "accuracy = tf.reduce_mean(tf.cast(correct_prediction, tf.float32))"
   ]
  },
  {
   "cell_type": "code",
   "execution_count": 59,
   "metadata": {},
   "outputs": [
    {
     "name": "stdout",
     "output_type": "stream",
     "text": [
      "Epoch: 0001 cost= 6.939578774\n",
      "0.31\n",
      "Epoch: 0002 cost= 3.913121308\n",
      "0.54\n",
      "Epoch: 0003 cost= 2.879443146\n",
      "0.51\n",
      "Epoch: 0004 cost= 2.353552332\n",
      "0.6\n",
      "Epoch: 0005 cost= 2.034220595\n",
      "0.65\n",
      "Epoch: 0006 cost= 1.817293562\n",
      "0.7\n",
      "Epoch: 0007 cost= 1.659587062\n",
      "0.77\n",
      "Epoch: 0008 cost= 1.538611289\n",
      "0.74\n",
      "Epoch: 0009 cost= 1.442500048\n",
      "0.71\n",
      "Epoch: 0010 cost= 1.363818900\n",
      "0.8\n",
      "Epoch: 0011 cost= 1.298142333\n",
      "0.72\n",
      "Epoch: 0012 cost= 1.242008838\n",
      "0.74\n",
      "Epoch: 0013 cost= 1.193702089\n",
      "0.76\n",
      "Epoch: 0014 cost= 1.151160456\n",
      "0.79\n",
      "Epoch: 0015 cost= 1.113435320\n",
      "0.8\n",
      "Epoch: 0016 cost= 1.079794331\n",
      "0.82\n",
      "Epoch: 0017 cost= 1.049412942\n",
      "0.81\n",
      "Epoch: 0018 cost= 1.021899730\n",
      "0.81\n",
      "Epoch: 0019 cost= 0.996942834\n",
      "0.73\n",
      "Epoch: 0020 cost= 0.973858736\n",
      "0.8\n",
      "Epoch: 0021 cost= 0.952789680\n",
      "0.84\n",
      "Epoch: 0022 cost= 0.933427631\n",
      "0.82\n",
      "Epoch: 0023 cost= 0.915389391\n",
      "0.83\n",
      "Epoch: 0024 cost= 0.898567218\n",
      "0.85\n",
      "Epoch: 0025 cost= 0.882902654\n",
      "0.81\n",
      "Optimization Finished!\n"
     ]
    }
   ],
   "source": [
    "sess = tf.Session()\n",
    "# Run the initializer\n",
    "sess.run(init)\n",
    "\n",
    "# Training cycle\n",
    "for epoch in range(training_epochs):\n",
    "    avg_cost = 0.\n",
    "    total_batch = int(mnist.train.num_examples/batch_size)\n",
    "    # Loop over all batches\n",
    "    for i in range(total_batch):\n",
    "        batch_xs, batch_ys = mnist.train.next_batch(batch_size)\n",
    "        # Run optimization op (backprop) and cost op (to get loss value)\n",
    "        _, c = sess.run([optimizer_logistic, cost_logistic], feed_dict={x: batch_xs,\n",
    "                                                          y: batch_ys})\n",
    "        # Compute average loss\n",
    "        avg_cost += c / total_batch\n",
    "    # Display logs per epoch step\n",
    "    if (epoch+1) % display_step == 0:\n",
    "        print(\"Epoch:\", '%04d' % (epoch+1), \"cost=\", \"{:.9f}\".format(avg_cost))\n",
    "        acc = sess.run(accuracy,feed_dict = {x: batch_xs, y: batch_ys})\n",
    "        print (acc)\n",
    "        ##print(\"Accuracy:\", acc.eval(sesion = sess))\n",
    "\n",
    "print(\"Optimization Finished!\")"
   ]
  },
  {
   "cell_type": "code",
   "execution_count": 60,
   "metadata": {},
   "outputs": [
    {
     "name": "stdout",
     "output_type": "stream",
     "text": [
      "[  1.17765325e-04   7.26122070e-13   5.02141884e-09   2.67057794e-06\n",
      "   1.02045317e-09   6.82574068e-08   7.23278384e-14   9.99840856e-01\n",
      "   2.13602962e-05   1.73008830e-05]\n"
     ]
    }
   ],
   "source": [
    "prd = sess.run(pred,feed_dict = {x: mnist.test.images, y: mnist.test.labels})\n",
    "print (prd[0])"
   ]
  },
  {
   "cell_type": "code",
   "execution_count": 61,
   "metadata": {},
   "outputs": [],
   "source": [
    "prd1 = tf.reduce_sum(prd,reduction_indices = 1)"
   ]
  },
  {
   "cell_type": "code",
   "execution_count": 62,
   "metadata": {},
   "outputs": [
    {
     "name": "stdout",
     "output_type": "stream",
     "text": [
      "1.0\n"
     ]
    }
   ],
   "source": [
    "prd1 = prd1.eval(session = sess)\n",
    "print (prd1[0])"
   ]
  },
  {
   "cell_type": "code",
   "execution_count": 56,
   "metadata": {},
   "outputs": [
    {
     "data": {
      "text/plain": [
       "array([ 1.        ,  0.99999988,  1.        , ...,  1.        ,\n",
       "        1.        ,  1.00000012], dtype=float32)"
      ]
     },
     "execution_count": 56,
     "metadata": {},
     "output_type": "execute_result"
    }
   ],
   "source": [
    "prd1"
   ]
  },
  {
   "cell_type": "code",
   "execution_count": 22,
   "metadata": {
    "collapsed": true
   },
   "outputs": [],
   "source": [
    "acc1 = sess.run(accuracy,feed_dict = {x: mnist.test.images, y: mnist.test.labels})"
   ]
  },
  {
   "cell_type": "code",
   "execution_count": 23,
   "metadata": {},
   "outputs": [
    {
     "name": "stdout",
     "output_type": "stream",
     "text": [
      "accuracy on test set:  0.8294\n"
     ]
    }
   ],
   "source": [
    "print (\"accuracy on test set: \",acc1)"
   ]
  },
  {
   "cell_type": "code",
   "execution_count": null,
   "metadata": {
    "collapsed": true
   },
   "outputs": [],
   "source": []
  }
 ],
 "metadata": {
  "kernelspec": {
   "display_name": "Python 3",
   "language": "python",
   "name": "python3"
  },
  "language_info": {
   "codemirror_mode": {
    "name": "ipython",
    "version": 3
   },
   "file_extension": ".py",
   "mimetype": "text/x-python",
   "name": "python",
   "nbconvert_exporter": "python",
   "pygments_lexer": "ipython3",
   "version": "3.5.2"
  }
 },
 "nbformat": 4,
 "nbformat_minor": 2
}
