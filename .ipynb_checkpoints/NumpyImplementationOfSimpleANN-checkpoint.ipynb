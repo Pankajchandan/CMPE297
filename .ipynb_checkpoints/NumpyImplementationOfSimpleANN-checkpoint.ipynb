{
 "cells": [
  {
   "cell_type": "code",
   "execution_count": 2,
   "metadata": {
    "collapsed": true
   },
   "outputs": [],
   "source": [
    "##import libs\n",
    "import numpy as   np\n",
    "import sklearn.datasets\n",
    "import matplotlib.pyplot as plt\n",
    "from sklearn.model_selection import train_test_split\n",
    "import sklearn"
   ]
  },
  {
   "cell_type": "code",
   "execution_count": 3,
   "metadata": {
    "collapsed": true
   },
   "outputs": [],
   "source": [
    "##load datasets\n",
    "X, y = sklearn.datasets.make_moons(100, noise=0.20)\n",
    "y = y.reshape(len(y),1)"
   ]
  },
  {
   "cell_type": "code",
   "execution_count": 4,
   "metadata": {},
   "outputs": [
    {
     "data": {
      "image/png": "[encoded data removed]",
      "text/plain": [
       "<matplotlib.figure.Figure at 0x7fd402afa908>"
      ]
     },
     "metadata": {},
     "output_type": "display_data"
    }
   ],
   "source": [
    "##plot data\n",
    "plt.figure(1)\n",
    "plt.scatter(X[:,0], X[:,1], s=40, c=y, cmap=plt.cm.Spectral)\n",
    "plt.show()"
   ]
  },
  {
   "cell_type": "code",
   "execution_count": 22,
   "metadata": {
    "collapsed": true
   },
   "outputs": [],
   "source": [
    "#Splitting into training and testing set\n",
    "data_train, data_test, labels_train, labels_test = train_test_split(X, y, test_size=0.20, random_state=42)"
   ]
  },
  {
   "cell_type": "code",
   "execution_count": 23,
   "metadata": {
    "collapsed": true
   },
   "outputs": [],
   "source": [
    "#Sigmoid Activation Function\n",
    "def sigmoid_activation_function (x):\n",
    "    return 1/(1 +  np.exp(-x))"
   ]
  },
  {
   "cell_type": "code",
   "execution_count": 24,
   "metadata": {
    "collapsed": true
   },
   "outputs": [],
   "source": [
    "#Derivative of   Sigmoid Function -  to   calculate the slope\n",
    "def derivatives_sigmoid(x):\n",
    "    return x *  (1 -  x)"
   ]
  },
  {
   "cell_type": "code",
   "execution_count": 25,
   "metadata": {
    "collapsed": true
   },
   "outputs": [],
   "source": [
    "##function to calculate the cost function for loss\n",
    "def cost_function(ypred,ytarget):\n",
    "    return np.mean((ytarget-ypred) ** 2)"
   ]
  },
  {
   "cell_type": "code",
   "execution_count": 26,
   "metadata": {},
   "outputs": [
    {
     "name": "stdout",
     "output_type": "stream",
     "text": [
      "Number of features in the dataset:  2\n"
     ]
    }
   ],
   "source": [
    "##no of input neurons\n",
    "inputlayer_neurons = X.shape[1]\n",
    "print(\"Number of features in the dataset: \", inputlayer_neurons)\n",
    "\n",
    "#number of hidden layers neurons\n",
    "hiddenL_neurons = 3\n",
    "\n",
    "#number of neurons at   output layer\n",
    "output_neurons =  1"
   ]
  },
  {
   "cell_type": "code",
   "execution_count": 28,
   "metadata": {},
   "outputs": [
    {
     "name": "stdout",
     "output_type": "stream",
     "text": [
      "random weight at 1st layer: [[ 0.00659659  0.36384909  0.12727364]\n",
      " [ 0.52021668  0.29448538  0.8603878 ]]\n",
      "random weight at 1st hidden layer: [[ 0.05390504]\n",
      " [ 0.88484703]\n",
      " [ 0.40718559]]\n"
     ]
    }
   ],
   "source": [
    "#weight and bias initialization using random function in numpy\n",
    "wh=np.random.uniform(size=(inputlayer_neurons,hiddenL_neurons))\n",
    "print(\"random weight at 1st layer:\",wh)\n",
    "bh=np.random.uniform(size=(1,hiddenL_neurons))\n",
    "wout=np.random.uniform(size=(hiddenL_neurons,output_neurons))\n",
    "print(\"random weight at 1st hidden layer:\",wout)\n",
    "bout=np.random.uniform(size=(1,output_neurons))"
   ]
  },
  {
   "cell_type": "code",
   "execution_count": 29,
   "metadata": {},
   "outputs": [
    {
     "name": "stdout",
     "output_type": "stream",
     "text": [
      "iteration number:  1\n",
      "loss=  0.325103869648\n",
      "iteration number:  101\n",
      "loss=  0.0994136408676\n",
      "iteration number:  201\n",
      "loss=  0.0983204286979\n",
      "iteration number:  301\n",
      "loss=  0.0978857438286\n",
      "iteration number:  401\n",
      "loss=  0.0976629545775\n",
      "iteration number:  501\n",
      "loss=  0.0975028026334\n",
      "iteration number:  601\n",
      "loss=  0.0969885542988\n",
      "iteration number:  701\n",
      "loss=  0.0956502114835\n",
      "iteration number:  801\n",
      "loss=  0.094708286248\n",
      "iteration number:  901\n",
      "loss=  0.0940174738264\n",
      "iteration number:  1001\n",
      "loss=  0.0932716881336\n",
      "iteration number:  1101\n",
      "loss=  0.0922031380358\n",
      "iteration number:  1201\n",
      "loss=  0.0904776486544\n",
      "iteration number:  1301\n",
      "loss=  0.08807863898\n",
      "iteration number:  1401\n",
      "loss=  0.0856642164238\n",
      "iteration number:  1501\n",
      "loss=  0.083703361683\n",
      "iteration number:  1601\n",
      "loss=  0.0822143684144\n",
      "iteration number:  1701\n",
      "loss=  0.0810919109769\n",
      "iteration number:  1801\n",
      "loss=  0.0802181649935\n",
      "iteration number:  1901\n",
      "loss=  0.0794959128417\n",
      "iteration number:  2001\n",
      "loss=  0.0788587453391\n",
      "iteration number:  2101\n",
      "loss=  0.0782677401641\n",
      "iteration number:  2201\n",
      "loss=  0.077693946812\n",
      "iteration number:  2301\n",
      "loss=  0.0770945224712\n",
      "iteration number:  2401\n",
      "loss=  0.0764075993853\n",
      "iteration number:  2501\n",
      "loss=  0.0755600856827\n",
      "iteration number:  2601\n",
      "loss=  0.0744410636595\n",
      "iteration number:  2701\n",
      "loss=  0.0728667910442\n",
      "iteration number:  2801\n",
      "loss=  0.0707285372015\n",
      "iteration number:  2901\n",
      "loss=  0.0680912650751\n",
      "iteration number:  3001\n",
      "loss=  0.0650191477408\n",
      "iteration number:  3101\n",
      "loss=  0.0614559238857\n",
      "iteration number:  3201\n",
      "loss=  0.0573875177268\n",
      "iteration number:  3301\n",
      "loss=  0.0520594922335\n",
      "iteration number:  3401\n",
      "loss=  0.026086805262\n",
      "iteration number:  3501\n",
      "loss=  0.0135773030575\n",
      "iteration number:  3601\n",
      "loss=  0.00991034281324\n",
      "iteration number:  3701\n",
      "loss=  0.00809959257403\n",
      "iteration number:  3801\n",
      "loss=  0.00693754385551\n",
      "iteration number:  3901\n",
      "loss=  0.00610012361088\n",
      "iteration number:  4001\n",
      "loss=  0.00545638144953\n",
      "iteration number:  4101\n",
      "loss=  0.00494028675801\n",
      "iteration number:  4201\n",
      "loss=  0.00451405877444\n",
      "iteration number:  4301\n",
      "loss=  0.00415420731433\n",
      "iteration number:  4401\n",
      "loss=  0.00384521713266\n",
      "iteration number:  4501\n",
      "loss=  0.00357634752053\n",
      "iteration number:  4601\n",
      "loss=  0.00333987432419\n",
      "iteration number:  4701\n",
      "loss=  0.00313006377413\n",
      "iteration number:  4801\n",
      "loss=  0.00294254404309\n",
      "iteration number:  4901\n",
      "loss=  0.00277390487906\n"
     ]
    }
   ],
   "source": [
    "#Setting the number of   epochs aka training iterations\n",
    "epoch=5000\n",
    "#Setting learning rate i.e. how much the weight should be changed to correct the error each time\n",
    "lr=0.1\n",
    "\n",
    "for i in range(epoch):    \n",
    "    ##this is a single forward propagation\n",
    "    out1 = sigmoid_activation_function(np.dot(data_train,wh)+bh)\n",
    "    ypred= sigmoid_activation_function(np.dot(out1,wout)+bout)\n",
    "    mse = cost_function(ypred,labels_train)\n",
    "    ##this is a single backward propagation\n",
    "    if(i % 100==0):\n",
    "        print(\"iteration number: \", i+1)\n",
    "        print(\"loss= \",mse)\n",
    "    if(mse > 0.0001):\n",
    "        ## weight updates\n",
    "        E = labels_train-ypred\n",
    "        outputL_slope = derivatives_sigmoid(ypred)\n",
    "        hiddenL_slope = derivatives_sigmoid(out1)\n",
    "        delta_output =  E * outputL_slope\n",
    "        Error_at_hidden_layer =  np.dot(delta_output, wout.T)\n",
    "        delta_hiddenlayer  = Error_at_hidden_layer * hiddenL_slope\n",
    "        wout = wout + np.dot(out1.T,delta_output) *lr\n",
    "        wh = wh + np.dot (data_train.T,delta_hiddenlayer)*lr\n",
    "        \n",
    "        ## biases update\n",
    "        bh = bh + np.sum(delta_hiddenlayer,axis=0, keepdims = True) *lr\n",
    "        bout = bout + np.sum(delta_output, axis=0, keepdims = True)*lr\n",
    "\n",
    "    else:\n",
    "        print(\"convergence achived in epochs: \", i+1)\n",
    "        break\n",
    "    "
   ]
  },
  {
   "cell_type": "code",
   "execution_count": 30,
   "metadata": {
    "collapsed": true
   },
   "outputs": [],
   "source": [
    "## test it on test data\n",
    "out1_test = sigmoid_activation_function(np.dot(data_test,wh)+bh)\n",
    "ypred_test = sigmoid_activation_function(np.dot(out1_test,wout)+bout)"
   ]
  },
  {
   "cell_type": "code",
   "execution_count": 31,
   "metadata": {},
   "outputs": [
    {
     "data": {
      "image/png": "[encoded data removed]",
      "text/plain": [
       "<matplotlib.figure.Figure at 0x7fd4008b96a0>"
      ]
     },
     "metadata": {},
     "output_type": "display_data"
    }
   ],
   "source": [
    "## actual data plot in test set\n",
    "plt.title(\"###Actual data plot in test set###\")\n",
    "plt.figure(1)\n",
    "plt.scatter(data_test[:,0], data_test[:,1], s=40, c=labels_test, cmap=plt.cm.Spectral)\n",
    "plt.show()"
   ]
  },
  {
   "cell_type": "code",
   "execution_count": 32,
   "metadata": {},
   "outputs": [
    {
     "data": {
      "image/png": "[encoded data removed]",
      "text/plain": [
       "<matplotlib.figure.Figure at 0x7fd4008be198>"
      ]
     },
     "metadata": {},
     "output_type": "display_data"
    }
   ],
   "source": [
    "## predicted data plot\n",
    "plt.title(\"###Predicted data plot predicted test set###\")\n",
    "plt.figure(1)\n",
    "plt.scatter(data_test[:,0], data_test[:,1], s=40, c=ypred_test, cmap=plt.cm.Spectral)\n",
    "plt.show()"
   ]
  }
 ],
 "metadata": {
  "kernelspec": {
   "display_name": "Python 3",
   "language": "python",
   "name": "python3"
  },
  "language_info": {
   "codemirror_mode": {
    "name": "ipython",
    "version": 3
   },
   "file_extension": ".py",
   "mimetype": "text/x-python",
   "name": "python",
   "nbconvert_exporter": "python",
   "pygments_lexer": "ipython3",
   "version": "3.5.2"
  }
 },
 "nbformat": 4,
 "nbformat_minor": 2
}
