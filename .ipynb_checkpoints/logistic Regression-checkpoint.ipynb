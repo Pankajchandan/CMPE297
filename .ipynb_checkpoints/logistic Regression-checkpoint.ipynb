{
 "cells": [
  {
   "cell_type": "code",
   "execution_count": 1,
   "metadata": {
    "collapsed": true
   },
   "outputs": [],
   "source": [
    "import tensorflow as tf"
   ]
  },
  {
   "cell_type": "code",
   "execution_count": 3,
   "metadata": {},
   "outputs": [
    {
     "name": "stdout",
     "output_type": "stream",
     "text": [
      "Successfully downloaded train-images-idx3-ubyte.gz 9912422 bytes.\n",
      "Extracting /tmp/data/train-images-idx3-ubyte.gz\n",
      "Successfully downloaded train-labels-idx1-ubyte.gz 28881 bytes.\n",
      "Extracting /tmp/data/train-labels-idx1-ubyte.gz\n",
      "Successfully downloaded t10k-images-idx3-ubyte.gz 1648877 bytes.\n",
      "Extracting /tmp/data/t10k-images-idx3-ubyte.gz\n",
      "Successfully downloaded t10k-labels-idx1-ubyte.gz 4542 bytes.\n",
      "Extracting /tmp/data/t10k-labels-idx1-ubyte.gz\n"
     ]
    }
   ],
   "source": [
    "# Import MNIST data\n",
    "from tensorflow.examples.tutorials.mnist import input_data\n",
    "mnist = input_data.read_data_sets(\"/tmp/data/\", one_hot=True)"
   ]
  },
  {
   "cell_type": "code",
   "execution_count": 4,
   "metadata": {
    "collapsed": true
   },
   "outputs": [],
   "source": [
    "# Parameters\n",
    "learning_rate = 0.01\n",
    "training_epochs = 25\n",
    "batch_size = 100\n",
    "display_step = 1\n",
    "input_size = 784\n",
    "output_size = 10"
   ]
  },
  {
   "cell_type": "code",
   "execution_count": 5,
   "metadata": {
    "collapsed": true
   },
   "outputs": [],
   "source": [
    "# tf Graph Input\n",
    "x = tf.placeholder(tf.float32, [None, input_size]) # mnist data image of shape 28*28=784\n",
    "y = tf.placeholder(tf.float32, [None, output_size]) # 0-9 digits recognition => 10 classes\n",
    "\n",
    "# Set model weights\n",
    "W = tf.Variable(tf.random_normal([input_size,output_size],mean=0.0,stddev=1.0, dtype=tf.float32))\n",
    "b = tf.Variable(tf.random_normal([output_size],mean=0.0,stddev=1.0, dtype=tf.float32))"
   ]
  },
  {
   "cell_type": "code",
   "execution_count": 34,
   "metadata": {},
   "outputs": [],
   "source": [
    "# Construct model\n",
    "logits = tf.matmul(x, W) + b ##this is linear regression\n",
    "pred = tf.nn.softmax(logits) # Softmax , this is logistic regression\n",
    "\n",
    "# Minimize error mean square error for linear regression\n",
    "cost_linear = tf.reduce_mean(tf.square(logits-y))\n",
    "cost_logistic = -tf.reduce_mean(tf.reduce_sum(y * tf.log(pred),reduction_indices=1))\n",
    "# Gradient Descent\n",
    "optimizer = tf.train.GradientDescentOptimizer(learning_rate).minimize(cost)\n",
    "\n",
    "#cross entropy error\n",
    "cost_entropy = tf.reduce_mean(tf.nn.softmax_cross_entropy_with_logits(logits=logits, labels=y))\n",
    "#adamoptimizer\n",
    "adam_optimizer =  tf.train.AdamOptimizer(learning_rate).minimize(cost_entropy) "
   ]
  },
  {
   "cell_type": "code",
   "execution_count": 19,
   "metadata": {
    "collapsed": true
   },
   "outputs": [],
   "source": [
    "# Initialize the variables (i.e. assign their default value)\n",
    "init = tf.global_variables_initializer()"
   ]
  },
  {
   "cell_type": "code",
   "execution_count": 20,
   "metadata": {
    "collapsed": true
   },
   "outputs": [],
   "source": [
    "# no of correct prediction\n",
    "correct_prediction = tf.equal(tf.argmax(pred, 1), tf.argmax(y, 1))\n",
    "# Calculate accuracy\n",
    "accuracy = tf.reduce_mean(tf.cast(correct_prediction, tf.float32))"
   ]
  },
  {
   "cell_type": "code",
   "execution_count": 35,
   "metadata": {},
   "outputs": [
    {
     "name": "stdout",
     "output_type": "stream",
     "text": [
      "Epoch: 0001 cost= nan\n",
      "0.08\n",
      "Epoch: 0002 cost= 7.025090450\n",
      "0.09\n",
      "Epoch: 0003 cost= 6.179765488\n",
      "0.13\n",
      "Epoch: 0004 cost= 5.676055302\n",
      "0.18\n",
      "Epoch: 0005 cost= 5.335669588\n",
      "0.16\n",
      "Epoch: 0006 cost= 5.068365330\n",
      "0.07\n",
      "Epoch: 0007 cost= 4.861021263\n",
      "0.13\n",
      "Epoch: 0008 cost= 4.691743891\n",
      "0.11\n",
      "Epoch: 0009 cost= 4.549147815\n",
      "0.19\n",
      "Epoch: 0010 cost= 4.430806378\n",
      "0.12\n",
      "Epoch: 0011 cost= 4.325332464\n",
      "0.16\n",
      "Epoch: 0012 cost= 4.233226239\n",
      "0.13\n",
      "Epoch: 0013 cost= 4.156792546\n",
      "0.16\n",
      "Epoch: 0014 cost= 4.084349627\n",
      "0.15\n",
      "Epoch: 0015 cost= 4.020028942\n",
      "0.19\n",
      "Epoch: 0016 cost= 3.959164794\n",
      "0.12\n",
      "Epoch: 0017 cost= 3.908984354\n",
      "0.11\n",
      "Epoch: 0018 cost= 3.857201130\n",
      "0.15\n",
      "Epoch: 0019 cost= 3.814606505\n",
      "0.17\n",
      "Epoch: 0020 cost= 3.772237916\n",
      "0.18\n",
      "Epoch: 0021 cost= 3.733450068\n",
      "0.23\n",
      "Epoch: 0022 cost= 3.699947745\n",
      "0.23\n",
      "Epoch: 0023 cost= 3.664216642\n",
      "0.1\n",
      "Epoch: 0024 cost= 3.633758025\n",
      "0.22\n",
      "Epoch: 0025 cost= 3.603601191\n",
      "0.28\n",
      "Optimization Finished!\n"
     ]
    }
   ],
   "source": [
    "sess = tf.Session()\n",
    "# Run the initializer\n",
    "sess.run(init)\n",
    "\n",
    "# Training cycle\n",
    "for epoch in range(training_epochs):\n",
    "    avg_cost = 0.\n",
    "    total_batch = int(mnist.train.num_examples/batch_size)\n",
    "    # Loop over all batches\n",
    "    for i in range(total_batch):\n",
    "        batch_xs, batch_ys = mnist.train.next_batch(batch_size)\n",
    "        # Run optimization op (backprop) and cost op (to get loss value)\n",
    "        _, c = sess.run([optimizer, cost_logistic], feed_dict={x: batch_xs,\n",
    "                                                          y: batch_ys})\n",
    "        # Compute average loss\n",
    "        avg_cost += c / total_batch\n",
    "    # Display logs per epoch step\n",
    "    if (epoch+1) % display_step == 0:\n",
    "        print(\"Epoch:\", '%04d' % (epoch+1), \"cost=\", \"{:.9f}\".format(avg_cost))\n",
    "        acc = sess.run(accuracy,feed_dict = {x: batch_xs, y: batch_ys})\n",
    "        print (acc)\n",
    "        ##print(\"Accuracy:\", acc.eval(sesion = sess))\n",
    "\n",
    "print(\"Optimization Finished!\")"
   ]
  },
  {
   "cell_type": "code",
   "execution_count": 22,
   "metadata": {
    "collapsed": true
   },
   "outputs": [],
   "source": [
    "acc1 = sess.run(accuracy,feed_dict = {x: mnist.test.images, y: mnist.test.labels})"
   ]
  },
  {
   "cell_type": "code",
   "execution_count": 23,
   "metadata": {},
   "outputs": [
    {
     "name": "stdout",
     "output_type": "stream",
     "text": [
      "accuracy on test set:  0.8294\n"
     ]
    }
   ],
   "source": [
    "print (\"accuracy on test set: \",acc1)"
   ]
  },
  {
   "cell_type": "code",
   "execution_count": null,
   "metadata": {
    "collapsed": true
   },
   "outputs": [],
   "source": []
  }
 ],
 "metadata": {
  "kernelspec": {
   "display_name": "Python 3",
   "language": "python",
   "name": "python3"
  },
  "language_info": {
   "codemirror_mode": {
    "name": "ipython",
    "version": 3
   },
   "file_extension": ".py",
   "mimetype": "text/x-python",
   "name": "python",
   "nbconvert_exporter": "python",
   "pygments_lexer": "ipython3",
   "version": "3.5.2"
  }
 },
 "nbformat": 4,
 "nbformat_minor": 2
}
