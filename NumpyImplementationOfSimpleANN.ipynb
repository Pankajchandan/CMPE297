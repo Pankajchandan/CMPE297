{
 "cells": [
  {
   "cell_type": "code",
   "execution_count": 1,
   "metadata": {
    "collapsed": true
   },
   "outputs": [],
   "source": [
    "##import libs\n",
    "import numpy as   np\n",
    "import sklearn.datasets\n",
    "import matplotlib.pyplot as plt\n",
    "import sklearn\n",
    "from sklearn.model_selection import train_test_split"
   ]
  },
  {
   "cell_type": "code",
   "execution_count": 2,
   "metadata": {
    "collapsed": true
   },
   "outputs": [],
   "source": [
    "##load datasets\n",
    "X, y = sklearn.datasets.make_moons(100, noise=0.20)\n",
    "y = y.reshape(len(y),1)"
   ]
  },
  {
   "cell_type": "code",
   "execution_count": 3,
   "metadata": {},
   "outputs": [
    {
     "data": {
      "image/png": "[encoded data removed]",
      "text/plain": [
       "<matplotlib.figure.Figure at 0x7f3a2434e748>"
      ]
     },
     "metadata": {},
     "output_type": "display_data"
    }
   ],
   "source": [
    "##plot data\n",
    "plt.figure(1)\n",
    "plt.scatter(X[:,0], X[:,1], s=40, c=y, cmap=plt.cm.Spectral)\n",
    "plt.show()"
   ]
  },
  {
   "cell_type": "code",
   "execution_count": 4,
   "metadata": {
    "collapsed": true
   },
   "outputs": [],
   "source": [
    "#Splitting into training and testing set\n",
    "data_train, data_test, labels_train, labels_test = train_test_split(X, y, test_size=0.20, random_state=42)"
   ]
  },
  {
   "cell_type": "code",
   "execution_count": 5,
   "metadata": {
    "collapsed": true
   },
   "outputs": [],
   "source": [
    "#Sigmoid Activation Function\n",
    "def sigmoid_activation_function (x):\n",
    "    return 1/(1 +  np.exp(-x))"
   ]
  },
  {
   "cell_type": "code",
   "execution_count": 6,
   "metadata": {
    "collapsed": true
   },
   "outputs": [],
   "source": [
    "#Derivative of   Sigmoid Function -  to   calculate the slope\n",
    "def derivatives_sigmoid(x):\n",
    "    return x *  (1 -  x)"
   ]
  },
  {
   "cell_type": "code",
   "execution_count": 7,
   "metadata": {
    "collapsed": true
   },
   "outputs": [],
   "source": [
    "##function to calculate the cost function for loss\n",
    "def cost_function(ypred,ytarget):\n",
    "    return np.mean((ytarget-ypred) ** 2)"
   ]
  },
  {
   "cell_type": "code",
   "execution_count": 8,
   "metadata": {},
   "outputs": [
    {
     "name": "stdout",
     "output_type": "stream",
     "text": [
      "Number of features in the dataset:  2\n"
     ]
    }
   ],
   "source": [
    "##no of input neurons\n",
    "inputlayer_neurons = X.shape[1]\n",
    "print(\"Number of features in the dataset: \", inputlayer_neurons)\n",
    "\n",
    "#number of hidden layers neurons\n",
    "hiddenL_neurons = 3\n",
    "\n",
    "#number of neurons at   output layer\n",
    "output_neurons =  1"
   ]
  },
  {
   "cell_type": "code",
   "execution_count": 9,
   "metadata": {},
   "outputs": [
    {
     "name": "stdout",
     "output_type": "stream",
     "text": [
      "random weight at 1st layer: [[ 0.7210876   0.12146141  0.01126722]\n",
      " [ 0.70452366  0.50884965  0.19014175]]\n",
      "random weight at 1st hidden layer: [[ 0.1527907 ]\n",
      " [ 0.61755058]\n",
      " [ 0.26956056]]\n"
     ]
    }
   ],
   "source": [
    "#weight and bias initialization using random function in numpy\n",
    "wh=np.random.uniform(size=(inputlayer_neurons,hiddenL_neurons))\n",
    "print(\"random weight at 1st layer:\",wh)\n",
    "bh=np.random.uniform(size=(1,hiddenL_neurons))\n",
    "wout=np.random.uniform(size=(hiddenL_neurons,output_neurons))\n",
    "print(\"random weight at 1st hidden layer:\",wout)\n",
    "bout=np.random.uniform(size=(1,output_neurons))"
   ]
  },
  {
   "cell_type": "code",
   "execution_count": 10,
   "metadata": {},
   "outputs": [
    {
     "name": "stdout",
     "output_type": "stream",
     "text": [
      "iteration number:  1\n",
      "loss=  0.373821481348\n",
      "iteration number:  101\n",
      "loss=  0.111090399243\n",
      "iteration number:  201\n",
      "loss=  0.108581584114\n",
      "iteration number:  301\n",
      "loss=  0.099267183559\n",
      "iteration number:  401\n",
      "loss=  0.0780166002736\n",
      "iteration number:  501\n",
      "loss=  0.0684949950581\n",
      "iteration number:  601\n",
      "loss=  0.0638696663229\n",
      "iteration number:  701\n",
      "loss=  0.0609200743865\n",
      "iteration number:  801\n",
      "loss=  0.0586595873516\n",
      "iteration number:  901\n",
      "loss=  0.0566873039386\n",
      "iteration number:  1001\n",
      "loss=  0.0548338056178\n",
      "iteration number:  1101\n",
      "loss=  0.0530277003162\n",
      "iteration number:  1201\n",
      "loss=  0.0512390145336\n",
      "iteration number:  1301\n",
      "loss=  0.0494718481995\n",
      "iteration number:  1401\n",
      "loss=  0.0477971975311\n",
      "iteration number:  1501\n",
      "loss=  0.0463642570875\n",
      "iteration number:  1601\n",
      "loss=  0.0452531309509\n",
      "iteration number:  1701\n",
      "loss=  0.0444068289377\n",
      "iteration number:  1801\n",
      "loss=  0.0437417137453\n",
      "iteration number:  1901\n",
      "loss=  0.0431987803994\n",
      "iteration number:  2001\n",
      "loss=  0.0427414512589\n",
      "iteration number:  2101\n",
      "loss=  0.0423470929523\n",
      "iteration number:  2201\n",
      "loss=  0.0420012992307\n",
      "iteration number:  2301\n",
      "loss=  0.0416945275698\n",
      "iteration number:  2401\n",
      "loss=  0.0414201373602\n",
      "iteration number:  2501\n",
      "loss=  0.041173250315\n",
      "iteration number:  2601\n",
      "loss=  0.0409500970321\n",
      "iteration number:  2701\n",
      "loss=  0.0407476448278\n",
      "iteration number:  2801\n",
      "loss=  0.0405633825431\n",
      "iteration number:  2901\n",
      "loss=  0.0403951906307\n",
      "iteration number:  3001\n",
      "loss=  0.040241257459\n",
      "iteration number:  3101\n",
      "loss=  0.0401000213848\n",
      "iteration number:  3201\n",
      "loss=  0.0399701280336\n",
      "iteration number:  3301\n",
      "loss=  0.0398503972465\n",
      "iteration number:  3401\n",
      "loss=  0.0397397966491\n",
      "iteration number:  3501\n",
      "loss=  0.0396374200555\n",
      "iteration number:  3601\n",
      "loss=  0.0395424695693\n",
      "iteration number:  3701\n",
      "loss=  0.0394542406082\n",
      "iteration number:  3801\n",
      "loss=  0.0393721092864\n",
      "iteration number:  3901\n",
      "loss=  0.0392955217283\n",
      "iteration number:  4001\n",
      "loss=  0.0392239849798\n",
      "iteration number:  4101\n",
      "loss=  0.0391570592491\n",
      "iteration number:  4201\n",
      "loss=  0.0390943512604\n",
      "iteration number:  4301\n",
      "loss=  0.0390355085446\n",
      "iteration number:  4401\n",
      "loss=  0.0389802145196\n",
      "iteration number:  4501\n",
      "loss=  0.0389281842407\n",
      "iteration number:  4601\n",
      "loss=  0.0388791607183\n",
      "iteration number:  4701\n",
      "loss=  0.0388329117214\n",
      "iteration number:  4801\n",
      "loss=  0.0387892269938\n",
      "iteration number:  4901\n",
      "loss=  0.0387479158251\n"
     ]
    }
   ],
   "source": [
    "#Setting the number of   epochs aka training iterations\n",
    "epoch=5000\n",
    "#Setting learning rate i.e. how much the weight should be changed to correct the error each time\n",
    "lr=0.1\n",
    "\n",
    "for i in range(epoch):    \n",
    "    ##this is a single forward propagation\n",
    "    out1 = sigmoid_activation_function(np.dot(data_train,wh)+bh)\n",
    "    ypred= sigmoid_activation_function(np.dot(out1,wout)+bout)\n",
    "    mse = cost_function(ypred,labels_train)\n",
    "    ##this is a single backward propagation\n",
    "    if(i % 100==0):\n",
    "        print(\"iteration number: \", i+1)\n",
    "        print(\"loss= \",mse)\n",
    "    if(mse > 0.0001):\n",
    "        ## weight updates\n",
    "        E = labels_train-ypred\n",
    "        outputL_slope = derivatives_sigmoid(ypred)\n",
    "        hiddenL_slope = derivatives_sigmoid(out1)\n",
    "        delta_output =  E * outputL_slope\n",
    "        Error_at_hidden_layer =  np.dot(delta_output, wout.T)\n",
    "        delta_hiddenlayer  = Error_at_hidden_layer * hiddenL_slope\n",
    "        wout = wout + np.dot(out1.T,delta_output) *lr\n",
    "        wh = wh + np.dot (data_train.T,delta_hiddenlayer)*lr\n",
    "        \n",
    "        ## biases update\n",
    "        bh = bh + np.sum(delta_hiddenlayer,axis=0, keepdims = True) *lr\n",
    "        bout = bout + np.sum(delta_output, axis=0, keepdims = True)*lr\n",
    "\n",
    "    else:\n",
    "        print(\"convergence achived in epochs: \", i+1)\n",
    "        break\n",
    "    "
   ]
  },
  {
   "cell_type": "code",
   "execution_count": 11,
   "metadata": {
    "collapsed": true
   },
   "outputs": [],
   "source": [
    "## test it on test data\n",
    "out1_test = sigmoid_activation_function(np.dot(data_test,wh)+bh)\n",
    "ypred_test = sigmoid_activation_function(np.dot(out1_test,wout)+bout)"
   ]
  },
  {
   "cell_type": "code",
   "execution_count": 12,
   "metadata": {},
   "outputs": [
    {
     "data": {
      "image/png": "[encoded data removed]",
      "text/plain": [
       "<matplotlib.figure.Figure at 0x7f3a2233c5c0>"
      ]
     },
     "metadata": {},
     "output_type": "display_data"
    }
   ],
   "source": [
    "## actual data plot in test set\n",
    "plt.title(\"###Actual data plot in test set###\")\n",
    "plt.figure(1)\n",
    "plt.scatter(data_test[:,0], data_test[:,1], s=40, c=labels_test, cmap=plt.cm.Spectral)\n",
    "plt.show()"
   ]
  },
  {
   "cell_type": "code",
   "execution_count": 13,
   "metadata": {},
   "outputs": [
    {
     "data": {
      "image/png": "[encoded data removed]",
      "text/plain": [
       "<matplotlib.figure.Figure at 0x7f3a22257ef0>"
      ]
     },
     "metadata": {},
     "output_type": "display_data"
    }
   ],
   "source": [
    "## predicted data plot\n",
    "plt.title(\"###Predicted data plot predicted test set###\")\n",
    "plt.figure(1)\n",
    "plt.scatter(data_test[:,0], data_test[:,1], s=40, c=ypred_test, cmap=plt.cm.Spectral)\n",
    "plt.show()"
   ]
  },
  {
   "cell_type": "code",
   "execution_count": null,
   "metadata": {
    "collapsed": true
   },
   "outputs": [],
   "source": []
  }
 ],
 "metadata": {
  "kernelspec": {
   "display_name": "Python 3",
   "language": "python",
   "name": "python3"
  },
  "language_info": {
   "codemirror_mode": {
    "name": "ipython",
    "version": 3
   },
   "file_extension": ".py",
   "mimetype": "text/x-python",
   "name": "python",
   "nbconvert_exporter": "python",
   "pygments_lexer": "ipython3",
   "version": "3.5.2"
  }
 },
 "nbformat": 4,
 "nbformat_minor": 2
}
